{
 "cells": [
  {
   "cell_type": "code",
   "execution_count": 1,
   "metadata": {},
   "outputs": [
    {
     "data": {
      "text/html": [
       "<div>\n",
       "<style scoped>\n",
       "    .dataframe tbody tr th:only-of-type {\n",
       "        vertical-align: middle;\n",
       "    }\n",
       "\n",
       "    .dataframe tbody tr th {\n",
       "        vertical-align: top;\n",
       "    }\n",
       "\n",
       "    .dataframe thead th {\n",
       "        text-align: right;\n",
       "    }\n",
       "</style>\n",
       "<table border=\"1\" class=\"dataframe\">\n",
       "  <thead>\n",
       "    <tr style=\"text-align: right;\">\n",
       "      <th></th>\n",
       "      <th>CountyCode</th>\n",
       "      <th>CountyName</th>\n",
       "      <th>DistrictCode</th>\n",
       "      <th>DistrictName</th>\n",
       "      <th>SchoolCode</th>\n",
       "      <th>SchoolName</th>\n",
       "      <th>TypicalStartTime</th>\n",
       "      <th>TypicalEndTime</th>\n",
       "      <th>LengthOfDay</th>\n",
       "      <th>InstructionFullTime</th>\n",
       "      <th>InstructionSharedTime</th>\n",
       "    </tr>\n",
       "  </thead>\n",
       "  <tbody>\n",
       "    <tr>\n",
       "      <th>0</th>\n",
       "      <td>01</td>\n",
       "      <td>ATLANTIC</td>\n",
       "      <td>0010</td>\n",
       "      <td>ABSECON CITY</td>\n",
       "      <td>050</td>\n",
       "      <td>EMMA C ATTALES</td>\n",
       "      <td>8:10AM</td>\n",
       "      <td>2:30PM</td>\n",
       "      <td>6 Hrs 20 Mins</td>\n",
       "      <td>6 Hrs. 20 Mins.</td>\n",
       "      <td>3 Hrs. 10 Mins.</td>\n",
       "    </tr>\n",
       "    <tr>\n",
       "      <th>1</th>\n",
       "      <td>01</td>\n",
       "      <td>ATLANTIC</td>\n",
       "      <td>0010</td>\n",
       "      <td>ABSECON CITY</td>\n",
       "      <td>060</td>\n",
       "      <td>H ASHTON MARSH</td>\n",
       "      <td>8:10AM</td>\n",
       "      <td>2:30PM</td>\n",
       "      <td>6 Hrs 20 Mins</td>\n",
       "      <td>6 Hrs. 20 Mins.</td>\n",
       "      <td>3 Hrs. 10 Mins.</td>\n",
       "    </tr>\n",
       "  </tbody>\n",
       "</table>\n",
       "</div>"
      ],
      "text/plain": [
       "  CountyCode CountyName DistrictCode  DistrictName SchoolCode      SchoolName  \\\n",
       "0         01   ATLANTIC         0010  ABSECON CITY        050  EMMA C ATTALES   \n",
       "1         01   ATLANTIC         0010  ABSECON CITY        060  H ASHTON MARSH   \n",
       "\n",
       "  TypicalStartTime TypicalEndTime    LengthOfDay InstructionFullTime  \\\n",
       "0           8:10AM         2:30PM  6 Hrs 20 Mins     6 Hrs. 20 Mins.   \n",
       "1           8:10AM         2:30PM  6 Hrs 20 Mins     6 Hrs. 20 Mins.   \n",
       "\n",
       "  InstructionSharedTime  \n",
       "0       3 Hrs. 10 Mins.  \n",
       "1       3 Hrs. 10 Mins.  "
      ]
     },
     "execution_count": 1,
     "metadata": {},
     "output_type": "execute_result"
    }
   ],
   "source": [
    "import os\n",
    "import pandas as pd\n",
    "import numpy as np\n",
    "\n",
    "#df = pd.read_excel('narrative_raw.xlsx')\n",
    "df = pd.read_csv('raw.csv',index_col = False, dtype = {\"CountyCode\": str,\"DistrictCode\": str,\"SchoolCode\": str})\n",
    "df.head(2)"
   ]
  },
  {
   "cell_type": "markdown",
   "metadata": {},
   "source": [
    "### Check number of columns and rows"
   ]
  },
  {
   "cell_type": "code",
   "execution_count": 2,
   "metadata": {},
   "outputs": [
    {
     "data": {
      "text/plain": [
       "(2519, 11)"
      ]
     },
     "execution_count": 2,
     "metadata": {},
     "output_type": "execute_result"
    }
   ],
   "source": [
    "df.shape"
   ]
  },
  {
   "cell_type": "markdown",
   "metadata": {},
   "source": [
    "### Adding columns from 2016-17 table"
   ]
  },
  {
   "cell_type": "code",
   "execution_count": 3,
   "metadata": {},
   "outputs": [],
   "source": [
    "df['Year'] = '2017-18'"
   ]
  },
  {
   "cell_type": "markdown",
   "metadata": {},
   "source": [
    "### Check if columns are added properly"
   ]
  },
  {
   "cell_type": "code",
   "execution_count": 4,
   "metadata": {
    "scrolled": true
   },
   "outputs": [
    {
     "data": {
      "text/html": [
       "<div>\n",
       "<style scoped>\n",
       "    .dataframe tbody tr th:only-of-type {\n",
       "        vertical-align: middle;\n",
       "    }\n",
       "\n",
       "    .dataframe tbody tr th {\n",
       "        vertical-align: top;\n",
       "    }\n",
       "\n",
       "    .dataframe thead th {\n",
       "        text-align: right;\n",
       "    }\n",
       "</style>\n",
       "<table border=\"1\" class=\"dataframe\">\n",
       "  <thead>\n",
       "    <tr style=\"text-align: right;\">\n",
       "      <th></th>\n",
       "      <th>CountyCode</th>\n",
       "      <th>CountyName</th>\n",
       "      <th>DistrictCode</th>\n",
       "      <th>DistrictName</th>\n",
       "      <th>SchoolCode</th>\n",
       "      <th>SchoolName</th>\n",
       "      <th>TypicalStartTime</th>\n",
       "      <th>TypicalEndTime</th>\n",
       "      <th>LengthOfDay</th>\n",
       "      <th>InstructionFullTime</th>\n",
       "      <th>InstructionSharedTime</th>\n",
       "      <th>Year</th>\n",
       "    </tr>\n",
       "  </thead>\n",
       "  <tbody>\n",
       "    <tr>\n",
       "      <th>0</th>\n",
       "      <td>01</td>\n",
       "      <td>ATLANTIC</td>\n",
       "      <td>0010</td>\n",
       "      <td>ABSECON CITY</td>\n",
       "      <td>050</td>\n",
       "      <td>EMMA C ATTALES</td>\n",
       "      <td>8:10AM</td>\n",
       "      <td>2:30PM</td>\n",
       "      <td>6 Hrs 20 Mins</td>\n",
       "      <td>6 Hrs. 20 Mins.</td>\n",
       "      <td>3 Hrs. 10 Mins.</td>\n",
       "      <td>2017-18</td>\n",
       "    </tr>\n",
       "    <tr>\n",
       "      <th>1</th>\n",
       "      <td>01</td>\n",
       "      <td>ATLANTIC</td>\n",
       "      <td>0010</td>\n",
       "      <td>ABSECON CITY</td>\n",
       "      <td>060</td>\n",
       "      <td>H ASHTON MARSH</td>\n",
       "      <td>8:10AM</td>\n",
       "      <td>2:30PM</td>\n",
       "      <td>6 Hrs 20 Mins</td>\n",
       "      <td>6 Hrs. 20 Mins.</td>\n",
       "      <td>3 Hrs. 10 Mins.</td>\n",
       "      <td>2017-18</td>\n",
       "    </tr>\n",
       "  </tbody>\n",
       "</table>\n",
       "</div>"
      ],
      "text/plain": [
       "  CountyCode CountyName DistrictCode  DistrictName SchoolCode      SchoolName  \\\n",
       "0         01   ATLANTIC         0010  ABSECON CITY        050  EMMA C ATTALES   \n",
       "1         01   ATLANTIC         0010  ABSECON CITY        060  H ASHTON MARSH   \n",
       "\n",
       "  TypicalStartTime TypicalEndTime    LengthOfDay InstructionFullTime  \\\n",
       "0           8:10AM         2:30PM  6 Hrs 20 Mins     6 Hrs. 20 Mins.   \n",
       "1           8:10AM         2:30PM  6 Hrs 20 Mins     6 Hrs. 20 Mins.   \n",
       "\n",
       "  InstructionSharedTime     Year  \n",
       "0       3 Hrs. 10 Mins.  2017-18  \n",
       "1       3 Hrs. 10 Mins.  2017-18  "
      ]
     },
     "execution_count": 4,
     "metadata": {},
     "output_type": "execute_result"
    }
   ],
   "source": [
    "df.head(2)"
   ]
  },
  {
   "cell_type": "markdown",
   "metadata": {},
   "source": [
    "### Check missing values"
   ]
  },
  {
   "cell_type": "code",
   "execution_count": 5,
   "metadata": {
    "scrolled": true
   },
   "outputs": [
    {
     "data": {
      "text/plain": [
       "CountyCode               0\n",
       "CountyName               0\n",
       "DistrictCode             0\n",
       "DistrictName             0\n",
       "SchoolCode               0\n",
       "SchoolName               0\n",
       "TypicalStartTime         0\n",
       "TypicalEndTime           0\n",
       "LengthOfDay              0\n",
       "InstructionFullTime      0\n",
       "InstructionSharedTime    0\n",
       "Year                     0\n",
       "dtype: int64"
      ]
     },
     "execution_count": 5,
     "metadata": {},
     "output_type": "execute_result"
    }
   ],
   "source": [
    "df.isnull().sum()"
   ]
  },
  {
   "cell_type": "markdown",
   "metadata": {},
   "source": [
    "### Fill missing values"
   ]
  },
  {
   "cell_type": "code",
   "execution_count": 6,
   "metadata": {},
   "outputs": [],
   "source": [
    "#df = df.fillna('NA')"
   ]
  },
  {
   "cell_type": "markdown",
   "metadata": {},
   "source": [
    "### Check again if missing values are dealt properly"
   ]
  },
  {
   "cell_type": "code",
   "execution_count": 8,
   "metadata": {},
   "outputs": [],
   "source": [
    "#df.isnull().sum()"
   ]
  },
  {
   "cell_type": "markdown",
   "metadata": {},
   "source": [
    "### Check for meaningless values such as '**','N'\n"
   ]
  },
  {
   "cell_type": "code",
   "execution_count": 9,
   "metadata": {},
   "outputs": [],
   "source": [
    "df['InstructionSharedTime'] = df['InstructionSharedTime'].replace('**','NA')\n",
    "df['InstructionFullTime'] = df['InstructionFullTime'].replace('**','NA')\n",
    "df['LengthOfDay'] = df['LengthOfDay'].replace('**','NA')\n",
    "df['TypicalEndTime'] = df['TypicalEndTime'].replace('**','NA')\n",
    "df['TypicalStartTime'] = df['TypicalStartTime'].replace('**','NA')\n",
    "\n",
    "\n",
    "df['InstructionSharedTime'] = df['InstructionSharedTime'].replace('N','NA')\n",
    "df['InstructionFullTime'] = df['InstructionFullTime'].replace('N','NA')\n",
    "df['LengthOfDay'] = df['LengthOfDay'].replace('N','NA')\n",
    "df['TypicalEndTime'] = df['TypicalEndTime'].replace('N','NA')\n",
    "df['TypicalStartTime'] = df['TypicalStartTime'].replace('N','NA')"
   ]
  },
  {
   "cell_type": "markdown",
   "metadata": {},
   "source": [
    "### Check Data types of all columns"
   ]
  },
  {
   "cell_type": "code",
   "execution_count": 10,
   "metadata": {
    "scrolled": true
   },
   "outputs": [
    {
     "data": {
      "text/plain": [
       "CountyCode               object\n",
       "CountyName               object\n",
       "DistrictCode             object\n",
       "DistrictName             object\n",
       "SchoolCode               object\n",
       "SchoolName               object\n",
       "TypicalStartTime         object\n",
       "TypicalEndTime           object\n",
       "LengthOfDay              object\n",
       "InstructionFullTime      object\n",
       "InstructionSharedTime    object\n",
       "Year                     object\n",
       "dtype: object"
      ]
     },
     "execution_count": 10,
     "metadata": {},
     "output_type": "execute_result"
    }
   ],
   "source": [
    "df.dtypes"
   ]
  },
  {
   "cell_type": "markdown",
   "metadata": {},
   "source": [
    "### Change Data types "
   ]
  },
  {
   "cell_type": "code",
   "execution_count": 10,
   "metadata": {},
   "outputs": [],
   "source": [
    "#df[\"HIBConfirmed\"] = df[\"HIBConfirmed\"].astype(int)"
   ]
  },
  {
   "cell_type": "markdown",
   "metadata": {},
   "source": [
    "### Check the changed data types"
   ]
  },
  {
   "cell_type": "code",
   "execution_count": 11,
   "metadata": {},
   "outputs": [],
   "source": [
    "#df.dtypes"
   ]
  },
  {
   "cell_type": "markdown",
   "metadata": {},
   "source": [
    "### Get a look at final data"
   ]
  },
  {
   "cell_type": "code",
   "execution_count": 12,
   "metadata": {},
   "outputs": [
    {
     "data": {
      "text/html": [
       "<div>\n",
       "<style scoped>\n",
       "    .dataframe tbody tr th:only-of-type {\n",
       "        vertical-align: middle;\n",
       "    }\n",
       "\n",
       "    .dataframe tbody tr th {\n",
       "        vertical-align: top;\n",
       "    }\n",
       "\n",
       "    .dataframe thead th {\n",
       "        text-align: right;\n",
       "    }\n",
       "</style>\n",
       "<table border=\"1\" class=\"dataframe\">\n",
       "  <thead>\n",
       "    <tr style=\"text-align: right;\">\n",
       "      <th></th>\n",
       "      <th>CountyCode</th>\n",
       "      <th>CountyName</th>\n",
       "      <th>DistrictCode</th>\n",
       "      <th>DistrictName</th>\n",
       "      <th>SchoolCode</th>\n",
       "      <th>SchoolName</th>\n",
       "      <th>TypicalStartTime</th>\n",
       "      <th>TypicalEndTime</th>\n",
       "      <th>LengthOfDay</th>\n",
       "      <th>InstructionFullTime</th>\n",
       "      <th>InstructionSharedTime</th>\n",
       "      <th>Year</th>\n",
       "    </tr>\n",
       "  </thead>\n",
       "  <tbody>\n",
       "    <tr>\n",
       "      <th>0</th>\n",
       "      <td>01</td>\n",
       "      <td>ATLANTIC</td>\n",
       "      <td>0010</td>\n",
       "      <td>ABSECON CITY</td>\n",
       "      <td>050</td>\n",
       "      <td>EMMA C ATTALES</td>\n",
       "      <td>8:10AM</td>\n",
       "      <td>2:30PM</td>\n",
       "      <td>6 Hrs 20 Mins</td>\n",
       "      <td>6 Hrs. 20 Mins.</td>\n",
       "      <td>3 Hrs. 10 Mins.</td>\n",
       "      <td>2017-18</td>\n",
       "    </tr>\n",
       "    <tr>\n",
       "      <th>1</th>\n",
       "      <td>01</td>\n",
       "      <td>ATLANTIC</td>\n",
       "      <td>0010</td>\n",
       "      <td>ABSECON CITY</td>\n",
       "      <td>060</td>\n",
       "      <td>H ASHTON MARSH</td>\n",
       "      <td>8:10AM</td>\n",
       "      <td>2:30PM</td>\n",
       "      <td>6 Hrs 20 Mins</td>\n",
       "      <td>6 Hrs. 20 Mins.</td>\n",
       "      <td>3 Hrs. 10 Mins.</td>\n",
       "      <td>2017-18</td>\n",
       "    </tr>\n",
       "    <tr>\n",
       "      <th>2</th>\n",
       "      <td>01</td>\n",
       "      <td>ATLANTIC</td>\n",
       "      <td>0110</td>\n",
       "      <td>ATLANTIC CITY</td>\n",
       "      <td>010</td>\n",
       "      <td>ATLANTIC CITY HIGH SCHOOL</td>\n",
       "      <td>7:45AM</td>\n",
       "      <td>2:10PM</td>\n",
       "      <td>6 Hrs 25 Mins</td>\n",
       "      <td>5 Hrs. 40 Mins.</td>\n",
       "      <td>NA</td>\n",
       "      <td>2017-18</td>\n",
       "    </tr>\n",
       "    <tr>\n",
       "      <th>3</th>\n",
       "      <td>01</td>\n",
       "      <td>ATLANTIC</td>\n",
       "      <td>0110</td>\n",
       "      <td>ATLANTIC CITY</td>\n",
       "      <td>030</td>\n",
       "      <td>SOVEREIGN AVENUE SCHOOL</td>\n",
       "      <td>8:15AM</td>\n",
       "      <td>2:45PM</td>\n",
       "      <td>6 Hrs 30 Mins</td>\n",
       "      <td>5 Hrs. 55 Mins.</td>\n",
       "      <td>NA</td>\n",
       "      <td>2017-18</td>\n",
       "    </tr>\n",
       "    <tr>\n",
       "      <th>4</th>\n",
       "      <td>01</td>\n",
       "      <td>ATLANTIC</td>\n",
       "      <td>0110</td>\n",
       "      <td>ATLANTIC CITY</td>\n",
       "      <td>050</td>\n",
       "      <td>CHELSEA HEIGHTS SCHOOL</td>\n",
       "      <td>8:15AM</td>\n",
       "      <td>2:45PM</td>\n",
       "      <td>6 Hrs 30 Mins</td>\n",
       "      <td>5 Hrs. 55 Mins.</td>\n",
       "      <td>NA</td>\n",
       "      <td>2017-18</td>\n",
       "    </tr>\n",
       "  </tbody>\n",
       "</table>\n",
       "</div>"
      ],
      "text/plain": [
       "  CountyCode CountyName DistrictCode   DistrictName SchoolCode  \\\n",
       "0         01   ATLANTIC         0010   ABSECON CITY        050   \n",
       "1         01   ATLANTIC         0010   ABSECON CITY        060   \n",
       "2         01   ATLANTIC         0110  ATLANTIC CITY        010   \n",
       "3         01   ATLANTIC         0110  ATLANTIC CITY        030   \n",
       "4         01   ATLANTIC         0110  ATLANTIC CITY        050   \n",
       "\n",
       "                  SchoolName TypicalStartTime TypicalEndTime    LengthOfDay  \\\n",
       "0             EMMA C ATTALES           8:10AM         2:30PM  6 Hrs 20 Mins   \n",
       "1             H ASHTON MARSH           8:10AM         2:30PM  6 Hrs 20 Mins   \n",
       "2  ATLANTIC CITY HIGH SCHOOL           7:45AM         2:10PM  6 Hrs 25 Mins   \n",
       "3    SOVEREIGN AVENUE SCHOOL           8:15AM         2:45PM  6 Hrs 30 Mins   \n",
       "4     CHELSEA HEIGHTS SCHOOL           8:15AM         2:45PM  6 Hrs 30 Mins   \n",
       "\n",
       "  InstructionFullTime InstructionSharedTime     Year  \n",
       "0     6 Hrs. 20 Mins.       3 Hrs. 10 Mins.  2017-18  \n",
       "1     6 Hrs. 20 Mins.       3 Hrs. 10 Mins.  2017-18  \n",
       "2     5 Hrs. 40 Mins.                    NA  2017-18  \n",
       "3     5 Hrs. 55 Mins.                    NA  2017-18  \n",
       "4     5 Hrs. 55 Mins.                    NA  2017-18  "
      ]
     },
     "execution_count": 12,
     "metadata": {},
     "output_type": "execute_result"
    }
   ],
   "source": [
    "df.head()"
   ]
  },
  {
   "cell_type": "code",
   "execution_count": 13,
   "metadata": {},
   "outputs": [],
   "source": [
    "#df1.to_csv(df1.csv)\n",
    "df.to_csv('SchoolDay.csv', encoding='utf-8', index=False)"
   ]
  },
  {
   "cell_type": "code",
   "execution_count": null,
   "metadata": {},
   "outputs": [],
   "source": [
    "#x= df1.to_excel('output1.xlsx')  # doctest: +SKIP"
   ]
  }
 ],
 "metadata": {
  "kernelspec": {
   "display_name": "Python 3",
   "language": "python",
   "name": "python3"
  },
  "language_info": {
   "codemirror_mode": {
    "name": "ipython",
    "version": 3
   },
   "file_extension": ".py",
   "mimetype": "text/x-python",
   "name": "python",
   "nbconvert_exporter": "python",
   "pygments_lexer": "ipython3",
   "version": "3.7.3"
  }
 },
 "nbformat": 4,
 "nbformat_minor": 2
}
