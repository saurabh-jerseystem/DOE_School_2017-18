{
 "cells": [
  {
   "cell_type": "code",
   "execution_count": 1,
   "metadata": {},
   "outputs": [
    {
     "data": {
      "text/html": [
       "<div>\n",
       "<style scoped>\n",
       "    .dataframe tbody tr th:only-of-type {\n",
       "        vertical-align: middle;\n",
       "    }\n",
       "\n",
       "    .dataframe tbody tr th {\n",
       "        vertical-align: top;\n",
       "    }\n",
       "\n",
       "    .dataframe thead th {\n",
       "        text-align: right;\n",
       "    }\n",
       "</style>\n",
       "<table border=\"1\" class=\"dataframe\">\n",
       "  <thead>\n",
       "    <tr style=\"text-align: right;\">\n",
       "      <th></th>\n",
       "      <th>CountyCode</th>\n",
       "      <th>CountyName</th>\n",
       "      <th>DistrictCode</th>\n",
       "      <th>DistrictName</th>\n",
       "      <th>SchoolCode</th>\n",
       "      <th>SchoolName</th>\n",
       "      <th>ELAProf_Score</th>\n",
       "      <th>ELAProf_Weight</th>\n",
       "      <th>MathProf_Score</th>\n",
       "      <th>MathProf_Weight</th>\n",
       "      <th>...</th>\n",
       "      <th>MathGrowth_Score</th>\n",
       "      <th>MathGrowth_Weight</th>\n",
       "      <th>ELP_Score</th>\n",
       "      <th>ELP_Weight</th>\n",
       "      <th>CA_Score</th>\n",
       "      <th>CA_Weight</th>\n",
       "      <th>SummativeScore</th>\n",
       "      <th>SummativeRating</th>\n",
       "      <th>CompSupport_Bottom5%</th>\n",
       "      <th>CompSupport_Grad67</th>\n",
       "    </tr>\n",
       "  </thead>\n",
       "  <tbody>\n",
       "    <tr>\n",
       "      <th>0</th>\n",
       "      <td>01</td>\n",
       "      <td>ATLANTIC</td>\n",
       "      <td>0010</td>\n",
       "      <td>ABSECON CITY</td>\n",
       "      <td>050</td>\n",
       "      <td>EMMA C ATTALES</td>\n",
       "      <td>44.08</td>\n",
       "      <td>17.5%</td>\n",
       "      <td>22.27</td>\n",
       "      <td>17.5%</td>\n",
       "      <td>...</td>\n",
       "      <td>38.16</td>\n",
       "      <td>25.0%</td>\n",
       "      <td>**</td>\n",
       "      <td>**</td>\n",
       "      <td>59.59</td>\n",
       "      <td>15.0%</td>\n",
       "      <td>43.95</td>\n",
       "      <td>38.98</td>\n",
       "      <td>No</td>\n",
       "      <td>No</td>\n",
       "    </tr>\n",
       "    <tr>\n",
       "      <th>1</th>\n",
       "      <td>01</td>\n",
       "      <td>ATLANTIC</td>\n",
       "      <td>0010</td>\n",
       "      <td>ABSECON CITY</td>\n",
       "      <td>060</td>\n",
       "      <td>H ASHTON MARSH</td>\n",
       "      <td>32.64</td>\n",
       "      <td>15.0%</td>\n",
       "      <td>63.03</td>\n",
       "      <td>15.0%</td>\n",
       "      <td>...</td>\n",
       "      <td>92.58</td>\n",
       "      <td>20.0%</td>\n",
       "      <td>44.26</td>\n",
       "      <td>20.0%</td>\n",
       "      <td>42.21</td>\n",
       "      <td>10.0%</td>\n",
       "      <td>55.49</td>\n",
       "      <td>57.88</td>\n",
       "      <td>No</td>\n",
       "      <td>No</td>\n",
       "    </tr>\n",
       "  </tbody>\n",
       "</table>\n",
       "<p>2 rows × 26 columns</p>\n",
       "</div>"
      ],
      "text/plain": [
       "  CountyCode CountyName DistrictCode  DistrictName SchoolCode      SchoolName  \\\n",
       "0         01   ATLANTIC         0010  ABSECON CITY        050  EMMA C ATTALES   \n",
       "1         01   ATLANTIC         0010  ABSECON CITY        060  H ASHTON MARSH   \n",
       "\n",
       "  ELAProf_Score ELAProf_Weight MathProf_Score MathProf_Weight  ...  \\\n",
       "0         44.08          17.5%          22.27           17.5%  ...   \n",
       "1         32.64          15.0%          63.03           15.0%  ...   \n",
       "\n",
       "  MathGrowth_Score MathGrowth_Weight ELP_Score ELP_Weight CA_Score CA_Weight  \\\n",
       "0            38.16             25.0%        **         **    59.59     15.0%   \n",
       "1            92.58             20.0%     44.26      20.0%    42.21     10.0%   \n",
       "\n",
       "  SummativeScore SummativeRating CompSupport_Bottom5% CompSupport_Grad67  \n",
       "0          43.95           38.98                   No                 No  \n",
       "1          55.49           57.88                   No                 No  \n",
       "\n",
       "[2 rows x 26 columns]"
      ]
     },
     "execution_count": 1,
     "metadata": {},
     "output_type": "execute_result"
    }
   ],
   "source": [
    "import os\n",
    "import pandas as pd\n",
    "import numpy as np\n",
    "\n",
    "#df = pd.read_excel('narrative_raw.xlsx')\n",
    "df = pd.read_csv('raw.csv',index_col = False, dtype = {\"CountyCode\": str,\"DistrictCode\": str,\"SchoolCode\": str})\n",
    "df.head(2)"
   ]
  },
  {
   "cell_type": "markdown",
   "metadata": {},
   "source": [
    "### Check number of columns and rows"
   ]
  },
  {
   "cell_type": "code",
   "execution_count": 2,
   "metadata": {},
   "outputs": [
    {
     "data": {
      "text/plain": [
       "(2238, 26)"
      ]
     },
     "execution_count": 2,
     "metadata": {},
     "output_type": "execute_result"
    }
   ],
   "source": [
    "df.shape"
   ]
  },
  {
   "cell_type": "markdown",
   "metadata": {},
   "source": [
    "### Adding columns from 2016-17 table"
   ]
  },
  {
   "cell_type": "code",
   "execution_count": 3,
   "metadata": {},
   "outputs": [],
   "source": [
    "df['AccountabilityIndicator'] = 'NA'\n",
    "df['IndicatorScore'] = 'NA'\n",
    "df['IndicatorWeight'] = 'NA'\n",
    "df['Year'] = '2017-18'"
   ]
  },
  {
   "cell_type": "markdown",
   "metadata": {},
   "source": [
    "### Check if columns are added properly"
   ]
  },
  {
   "cell_type": "code",
   "execution_count": 4,
   "metadata": {
    "scrolled": true
   },
   "outputs": [
    {
     "data": {
      "text/html": [
       "<div>\n",
       "<style scoped>\n",
       "    .dataframe tbody tr th:only-of-type {\n",
       "        vertical-align: middle;\n",
       "    }\n",
       "\n",
       "    .dataframe tbody tr th {\n",
       "        vertical-align: top;\n",
       "    }\n",
       "\n",
       "    .dataframe thead th {\n",
       "        text-align: right;\n",
       "    }\n",
       "</style>\n",
       "<table border=\"1\" class=\"dataframe\">\n",
       "  <thead>\n",
       "    <tr style=\"text-align: right;\">\n",
       "      <th></th>\n",
       "      <th>CountyCode</th>\n",
       "      <th>CountyName</th>\n",
       "      <th>DistrictCode</th>\n",
       "      <th>DistrictName</th>\n",
       "      <th>SchoolCode</th>\n",
       "      <th>SchoolName</th>\n",
       "      <th>ELAProf_Score</th>\n",
       "      <th>ELAProf_Weight</th>\n",
       "      <th>MathProf_Score</th>\n",
       "      <th>MathProf_Weight</th>\n",
       "      <th>...</th>\n",
       "      <th>CA_Score</th>\n",
       "      <th>CA_Weight</th>\n",
       "      <th>SummativeScore</th>\n",
       "      <th>SummativeRating</th>\n",
       "      <th>CompSupport_Bottom5%</th>\n",
       "      <th>CompSupport_Grad67</th>\n",
       "      <th>AccountabilityIndicator</th>\n",
       "      <th>IndicatorScore</th>\n",
       "      <th>IndicatorWeight</th>\n",
       "      <th>Year</th>\n",
       "    </tr>\n",
       "  </thead>\n",
       "  <tbody>\n",
       "    <tr>\n",
       "      <th>0</th>\n",
       "      <td>01</td>\n",
       "      <td>ATLANTIC</td>\n",
       "      <td>0010</td>\n",
       "      <td>ABSECON CITY</td>\n",
       "      <td>050</td>\n",
       "      <td>EMMA C ATTALES</td>\n",
       "      <td>44.08</td>\n",
       "      <td>17.5%</td>\n",
       "      <td>22.27</td>\n",
       "      <td>17.5%</td>\n",
       "      <td>...</td>\n",
       "      <td>59.59</td>\n",
       "      <td>15.0%</td>\n",
       "      <td>43.95</td>\n",
       "      <td>38.98</td>\n",
       "      <td>No</td>\n",
       "      <td>No</td>\n",
       "      <td>NA</td>\n",
       "      <td>NA</td>\n",
       "      <td>NA</td>\n",
       "      <td>2017-18</td>\n",
       "    </tr>\n",
       "    <tr>\n",
       "      <th>1</th>\n",
       "      <td>01</td>\n",
       "      <td>ATLANTIC</td>\n",
       "      <td>0010</td>\n",
       "      <td>ABSECON CITY</td>\n",
       "      <td>060</td>\n",
       "      <td>H ASHTON MARSH</td>\n",
       "      <td>32.64</td>\n",
       "      <td>15.0%</td>\n",
       "      <td>63.03</td>\n",
       "      <td>15.0%</td>\n",
       "      <td>...</td>\n",
       "      <td>42.21</td>\n",
       "      <td>10.0%</td>\n",
       "      <td>55.49</td>\n",
       "      <td>57.88</td>\n",
       "      <td>No</td>\n",
       "      <td>No</td>\n",
       "      <td>NA</td>\n",
       "      <td>NA</td>\n",
       "      <td>NA</td>\n",
       "      <td>2017-18</td>\n",
       "    </tr>\n",
       "  </tbody>\n",
       "</table>\n",
       "<p>2 rows × 30 columns</p>\n",
       "</div>"
      ],
      "text/plain": [
       "  CountyCode CountyName DistrictCode  DistrictName SchoolCode      SchoolName  \\\n",
       "0         01   ATLANTIC         0010  ABSECON CITY        050  EMMA C ATTALES   \n",
       "1         01   ATLANTIC         0010  ABSECON CITY        060  H ASHTON MARSH   \n",
       "\n",
       "  ELAProf_Score ELAProf_Weight MathProf_Score MathProf_Weight  ... CA_Score  \\\n",
       "0         44.08          17.5%          22.27           17.5%  ...    59.59   \n",
       "1         32.64          15.0%          63.03           15.0%  ...    42.21   \n",
       "\n",
       "  CA_Weight SummativeScore SummativeRating CompSupport_Bottom5%  \\\n",
       "0     15.0%          43.95           38.98                   No   \n",
       "1     10.0%          55.49           57.88                   No   \n",
       "\n",
       "  CompSupport_Grad67 AccountabilityIndicator IndicatorScore IndicatorWeight  \\\n",
       "0                 No                      NA             NA              NA   \n",
       "1                 No                      NA             NA              NA   \n",
       "\n",
       "      Year  \n",
       "0  2017-18  \n",
       "1  2017-18  \n",
       "\n",
       "[2 rows x 30 columns]"
      ]
     },
     "execution_count": 4,
     "metadata": {},
     "output_type": "execute_result"
    }
   ],
   "source": [
    "df.head(2)"
   ]
  },
  {
   "cell_type": "markdown",
   "metadata": {},
   "source": [
    "### Check missing values"
   ]
  },
  {
   "cell_type": "code",
   "execution_count": 5,
   "metadata": {
    "scrolled": true
   },
   "outputs": [
    {
     "data": {
      "text/plain": [
       "CountyCode                 0\n",
       "CountyName                 0\n",
       "DistrictCode               0\n",
       "DistrictName               0\n",
       "SchoolCode                 0\n",
       "SchoolName                 0\n",
       "ELAProf_Score              0\n",
       "ELAProf_Weight             0\n",
       "MathProf_Score             0\n",
       "MathProf_Weight            0\n",
       "Grad4YR_Score              0\n",
       "Grad4YR_Weight             0\n",
       "Grad5YR_Score              0\n",
       "Grad5YR_Weight             0\n",
       "ELAGrowth_Score            0\n",
       "ELAGrowth_Weight           0\n",
       "MathGrowth_Score           0\n",
       "MathGrowth_Weight          0\n",
       "ELP_Score                  0\n",
       "ELP_Weight                 0\n",
       "CA_Score                   0\n",
       "CA_Weight                  0\n",
       "SummativeScore             0\n",
       "SummativeRating            0\n",
       "CompSupport_Bottom5%       0\n",
       "CompSupport_Grad67         0\n",
       "AccountabilityIndicator    0\n",
       "IndicatorScore             0\n",
       "IndicatorWeight            0\n",
       "Year                       0\n",
       "dtype: int64"
      ]
     },
     "execution_count": 5,
     "metadata": {},
     "output_type": "execute_result"
    }
   ],
   "source": [
    "df.isnull().sum()"
   ]
  },
  {
   "cell_type": "markdown",
   "metadata": {},
   "source": [
    "### Fill missing values"
   ]
  },
  {
   "cell_type": "code",
   "execution_count": null,
   "metadata": {},
   "outputs": [],
   "source": [
    "#df = df.fillna('NA')"
   ]
  },
  {
   "cell_type": "markdown",
   "metadata": {},
   "source": [
    "### Check again if missing values are dealt properly"
   ]
  },
  {
   "cell_type": "code",
   "execution_count": null,
   "metadata": {},
   "outputs": [],
   "source": [
    "df.isnull().sum()"
   ]
  },
  {
   "cell_type": "markdown",
   "metadata": {},
   "source": [
    "### Check for meaningless values such as '**','N'\n"
   ]
  },
  {
   "cell_type": "code",
   "execution_count": 6,
   "metadata": {},
   "outputs": [],
   "source": [
    "df['ELAProf_Score'] = df['ELAProf_Score'].replace('**',9999999)\n",
    "df['ELAProf_Weight'] = df['ELAProf_Weight'].replace('**',9999999)\n",
    "df['MathProf_Score'] = df['MathProf_Score'].replace('**',9999999)\n",
    "df['MathProf_Weight'] = df['MathProf_Weight'].replace('**',9999999)\n",
    "df['Grad4YR_Score'] = df['Grad4YR_Score'].replace('**',9999999)\n",
    "df['Grad4YR_Weight'] = df['Grad4YR_Weight'].replace('**',9999999)\n",
    "df['Grad5YR_Score'] = df['Grad5YR_Score'].replace('**',9999999)\n",
    "df['Grad5YR_Weight'] = df['Grad5YR_Weight'].replace('**',9999999)\n",
    "df['ELAGrowth_Score'] = df['ELAGrowth_Score'].replace('**',9999999)\n",
    "df['ELAGrowth_Weight'] = df['ELAGrowth_Weight'].replace('**',9999999)\n",
    "df['MathGrowth_Score'] = df['MathGrowth_Score'].replace('**',9999999)\n",
    "df['MathGrowth_Weight'] = df['MathGrowth_Weight'].replace('**',9999999)\n",
    "df['ELP_Score'] = df['ELP_Score'].replace('**',9999999)\n",
    "df['ELP_Weight'] = df['ELP_Weight'].replace('**',9999999)\n",
    "df['CA_Score'] = df['CA_Score'].replace('**',9999999)\n",
    "df['CA_Weight'] = df['CA_Weight'].replace('**',9999999)\n",
    "df['SummativeScore'] = df['SummativeScore'].replace('**',9999999)\n",
    "df['SummativeRating'] = df['SummativeRating'].replace('**',9999999)\n",
    "df['CompSupport_Bottom5%'] = df['CompSupport_Bottom5%'].replace('**',9999999)\n",
    "df['CompSupport_Grad67'] = df['CompSupport_Grad67'].replace('**',9999999)\n",
    "\n",
    "df['ELAProf_Score'] = df['ELAProf_Score'].replace('N',9999999)\n",
    "df['ELAProf_Weight'] = df['ELAProf_Weight'].replace('N',9999999)\n",
    "df['MathProf_Score'] = df['MathProf_Score'].replace('N',9999999)\n",
    "df['MathProf_Weight'] = df['MathProf_Weight'].replace('N',9999999)\n",
    "df['Grad4YR_Score'] = df['Grad4YR_Score'].replace('N',9999999)\n",
    "df['Grad4YR_Weight'] = df['Grad4YR_Weight'].replace('N',9999999)\n",
    "df['Grad5YR_Score'] = df['Grad5YR_Score'].replace('N',9999999)\n",
    "df['Grad5YR_Weight'] = df['Grad5YR_Weight'].replace('N',9999999)\n",
    "df['ELAGrowth_Score'] = df['ELAGrowth_Score'].replace('N',9999999)\n",
    "df['ELAGrowth_Weight'] = df['ELAGrowth_Weight'].replace('N',9999999)\n",
    "df['MathGrowth_Score'] = df['MathGrowth_Score'].replace('N',9999999)\n",
    "df['MathGrowth_Weight'] = df['MathGrowth_Weight'].replace('N',9999999)\n",
    "df['ELP_Score'] = df['ELP_Score'].replace('N',9999999)\n",
    "df['ELP_Weight'] = df['ELP_Weight'].replace('N',9999999)\n",
    "df['CA_Score'] = df['CA_Score'].replace('N',9999999)\n",
    "df['CA_Weight'] = df['CA_Weight'].replace('N',9999999)\n",
    "df['SummativeScore'] = df['SummativeScore'].replace('N',9999999)\n",
    "df['SummativeRating'] = df['SummativeRating'].replace('N',9999999)\n",
    "df['CompSupport_Bottom5%'] = df['CompSupport_Bottom5%'].replace('N',9999999)\n",
    "df['CompSupport_Grad67'] = df['CompSupport_Grad67'].replace('N',9999999)\n"
   ]
  },
  {
   "cell_type": "code",
   "execution_count": null,
   "metadata": {},
   "outputs": [],
   "source": []
  },
  {
   "cell_type": "markdown",
   "metadata": {},
   "source": [
    "### Check Data types of all columns"
   ]
  },
  {
   "cell_type": "code",
   "execution_count": 7,
   "metadata": {
    "scrolled": true
   },
   "outputs": [
    {
     "data": {
      "text/plain": [
       "CountyCode                 object\n",
       "CountyName                 object\n",
       "DistrictCode               object\n",
       "DistrictName               object\n",
       "SchoolCode                 object\n",
       "SchoolName                 object\n",
       "ELAProf_Score              object\n",
       "ELAProf_Weight             object\n",
       "MathProf_Score             object\n",
       "MathProf_Weight            object\n",
       "Grad4YR_Score              object\n",
       "Grad4YR_Weight             object\n",
       "Grad5YR_Score              object\n",
       "Grad5YR_Weight             object\n",
       "ELAGrowth_Score            object\n",
       "ELAGrowth_Weight           object\n",
       "MathGrowth_Score           object\n",
       "MathGrowth_Weight          object\n",
       "ELP_Score                  object\n",
       "ELP_Weight                 object\n",
       "CA_Score                   object\n",
       "CA_Weight                  object\n",
       "SummativeScore             object\n",
       "SummativeRating            object\n",
       "CompSupport_Bottom5%       object\n",
       "CompSupport_Grad67         object\n",
       "AccountabilityIndicator    object\n",
       "IndicatorScore             object\n",
       "IndicatorWeight            object\n",
       "Year                       object\n",
       "dtype: object"
      ]
     },
     "execution_count": 7,
     "metadata": {},
     "output_type": "execute_result"
    }
   ],
   "source": [
    "df.dtypes"
   ]
  },
  {
   "cell_type": "markdown",
   "metadata": {},
   "source": [
    "### Change Data types "
   ]
  },
  {
   "cell_type": "code",
   "execution_count": 8,
   "metadata": {},
   "outputs": [],
   "source": [
    "#df[\"SummativeScore\"] = df[\"SummativeScore\"].astype(float)\n",
    "#df[\"CutOffScoreTargetedSupImp\"] = df[\"CutOffScoreTargetedSupImp\"].astype(float)"
   ]
  },
  {
   "cell_type": "markdown",
   "metadata": {},
   "source": [
    "### Check the changed data types"
   ]
  },
  {
   "cell_type": "code",
   "execution_count": 8,
   "metadata": {},
   "outputs": [],
   "source": [
    "#df.dtypes"
   ]
  },
  {
   "cell_type": "markdown",
   "metadata": {},
   "source": [
    "### Get a look at final data"
   ]
  },
  {
   "cell_type": "code",
   "execution_count": 9,
   "metadata": {},
   "outputs": [
    {
     "data": {
      "text/html": [
       "<div>\n",
       "<style scoped>\n",
       "    .dataframe tbody tr th:only-of-type {\n",
       "        vertical-align: middle;\n",
       "    }\n",
       "\n",
       "    .dataframe tbody tr th {\n",
       "        vertical-align: top;\n",
       "    }\n",
       "\n",
       "    .dataframe thead th {\n",
       "        text-align: right;\n",
       "    }\n",
       "</style>\n",
       "<table border=\"1\" class=\"dataframe\">\n",
       "  <thead>\n",
       "    <tr style=\"text-align: right;\">\n",
       "      <th></th>\n",
       "      <th>CountyCode</th>\n",
       "      <th>CountyName</th>\n",
       "      <th>DistrictCode</th>\n",
       "      <th>DistrictName</th>\n",
       "      <th>SchoolCode</th>\n",
       "      <th>SchoolName</th>\n",
       "      <th>ELAProf_Score</th>\n",
       "      <th>ELAProf_Weight</th>\n",
       "      <th>MathProf_Score</th>\n",
       "      <th>MathProf_Weight</th>\n",
       "      <th>...</th>\n",
       "      <th>CA_Score</th>\n",
       "      <th>CA_Weight</th>\n",
       "      <th>SummativeScore</th>\n",
       "      <th>SummativeRating</th>\n",
       "      <th>CompSupport_Bottom5%</th>\n",
       "      <th>CompSupport_Grad67</th>\n",
       "      <th>AccountabilityIndicator</th>\n",
       "      <th>IndicatorScore</th>\n",
       "      <th>IndicatorWeight</th>\n",
       "      <th>Year</th>\n",
       "    </tr>\n",
       "  </thead>\n",
       "  <tbody>\n",
       "    <tr>\n",
       "      <th>0</th>\n",
       "      <td>01</td>\n",
       "      <td>ATLANTIC</td>\n",
       "      <td>0010</td>\n",
       "      <td>ABSECON CITY</td>\n",
       "      <td>050</td>\n",
       "      <td>EMMA C ATTALES</td>\n",
       "      <td>44.08</td>\n",
       "      <td>17.5%</td>\n",
       "      <td>22.27</td>\n",
       "      <td>17.5%</td>\n",
       "      <td>...</td>\n",
       "      <td>59.59</td>\n",
       "      <td>15.0%</td>\n",
       "      <td>43.95</td>\n",
       "      <td>38.98</td>\n",
       "      <td>No</td>\n",
       "      <td>No</td>\n",
       "      <td>NA</td>\n",
       "      <td>NA</td>\n",
       "      <td>NA</td>\n",
       "      <td>2017-18</td>\n",
       "    </tr>\n",
       "    <tr>\n",
       "      <th>1</th>\n",
       "      <td>01</td>\n",
       "      <td>ATLANTIC</td>\n",
       "      <td>0010</td>\n",
       "      <td>ABSECON CITY</td>\n",
       "      <td>060</td>\n",
       "      <td>H ASHTON MARSH</td>\n",
       "      <td>32.64</td>\n",
       "      <td>15.0%</td>\n",
       "      <td>63.03</td>\n",
       "      <td>15.0%</td>\n",
       "      <td>...</td>\n",
       "      <td>42.21</td>\n",
       "      <td>10.0%</td>\n",
       "      <td>55.49</td>\n",
       "      <td>57.88</td>\n",
       "      <td>No</td>\n",
       "      <td>No</td>\n",
       "      <td>NA</td>\n",
       "      <td>NA</td>\n",
       "      <td>NA</td>\n",
       "      <td>2017-18</td>\n",
       "    </tr>\n",
       "    <tr>\n",
       "      <th>2</th>\n",
       "      <td>01</td>\n",
       "      <td>ATLANTIC</td>\n",
       "      <td>0110</td>\n",
       "      <td>ATLANTIC CITY</td>\n",
       "      <td>010</td>\n",
       "      <td>ATLANTIC CITY HIGH SCHOOL</td>\n",
       "      <td>11.46</td>\n",
       "      <td>15.0%</td>\n",
       "      <td>19.20</td>\n",
       "      <td>15.0%</td>\n",
       "      <td>...</td>\n",
       "      <td>8.33</td>\n",
       "      <td>10.0%</td>\n",
       "      <td>12.33</td>\n",
       "      <td>6.30</td>\n",
       "      <td>No</td>\n",
       "      <td>No</td>\n",
       "      <td>NA</td>\n",
       "      <td>NA</td>\n",
       "      <td>NA</td>\n",
       "      <td>2017-18</td>\n",
       "    </tr>\n",
       "    <tr>\n",
       "      <th>3</th>\n",
       "      <td>01</td>\n",
       "      <td>ATLANTIC</td>\n",
       "      <td>0110</td>\n",
       "      <td>ATLANTIC CITY</td>\n",
       "      <td>030</td>\n",
       "      <td>SOVEREIGN AVENUE SCHOOL</td>\n",
       "      <td>25.18</td>\n",
       "      <td>15.0%</td>\n",
       "      <td>26.24</td>\n",
       "      <td>15.0%</td>\n",
       "      <td>...</td>\n",
       "      <td>54.80</td>\n",
       "      <td>10.0%</td>\n",
       "      <td>47.31</td>\n",
       "      <td>44.91</td>\n",
       "      <td>No</td>\n",
       "      <td>No</td>\n",
       "      <td>NA</td>\n",
       "      <td>NA</td>\n",
       "      <td>NA</td>\n",
       "      <td>2017-18</td>\n",
       "    </tr>\n",
       "    <tr>\n",
       "      <th>4</th>\n",
       "      <td>01</td>\n",
       "      <td>ATLANTIC</td>\n",
       "      <td>0110</td>\n",
       "      <td>ATLANTIC CITY</td>\n",
       "      <td>050</td>\n",
       "      <td>CHELSEA HEIGHTS SCHOOL</td>\n",
       "      <td>35.90</td>\n",
       "      <td>15.0%</td>\n",
       "      <td>14.45</td>\n",
       "      <td>15.0%</td>\n",
       "      <td>...</td>\n",
       "      <td>34.11</td>\n",
       "      <td>10.0%</td>\n",
       "      <td>35.53</td>\n",
       "      <td>26.60</td>\n",
       "      <td>No</td>\n",
       "      <td>No</td>\n",
       "      <td>NA</td>\n",
       "      <td>NA</td>\n",
       "      <td>NA</td>\n",
       "      <td>2017-18</td>\n",
       "    </tr>\n",
       "  </tbody>\n",
       "</table>\n",
       "<p>5 rows × 30 columns</p>\n",
       "</div>"
      ],
      "text/plain": [
       "  CountyCode CountyName DistrictCode   DistrictName SchoolCode  \\\n",
       "0         01   ATLANTIC         0010   ABSECON CITY        050   \n",
       "1         01   ATLANTIC         0010   ABSECON CITY        060   \n",
       "2         01   ATLANTIC         0110  ATLANTIC CITY        010   \n",
       "3         01   ATLANTIC         0110  ATLANTIC CITY        030   \n",
       "4         01   ATLANTIC         0110  ATLANTIC CITY        050   \n",
       "\n",
       "                  SchoolName ELAProf_Score ELAProf_Weight MathProf_Score  \\\n",
       "0             EMMA C ATTALES         44.08          17.5%          22.27   \n",
       "1             H ASHTON MARSH         32.64          15.0%          63.03   \n",
       "2  ATLANTIC CITY HIGH SCHOOL         11.46          15.0%          19.20   \n",
       "3    SOVEREIGN AVENUE SCHOOL         25.18          15.0%          26.24   \n",
       "4     CHELSEA HEIGHTS SCHOOL         35.90          15.0%          14.45   \n",
       "\n",
       "  MathProf_Weight  ... CA_Score CA_Weight SummativeScore SummativeRating  \\\n",
       "0           17.5%  ...    59.59     15.0%          43.95           38.98   \n",
       "1           15.0%  ...    42.21     10.0%          55.49           57.88   \n",
       "2           15.0%  ...     8.33     10.0%          12.33            6.30   \n",
       "3           15.0%  ...    54.80     10.0%          47.31           44.91   \n",
       "4           15.0%  ...    34.11     10.0%          35.53           26.60   \n",
       "\n",
       "  CompSupport_Bottom5% CompSupport_Grad67 AccountabilityIndicator  \\\n",
       "0                   No                 No                      NA   \n",
       "1                   No                 No                      NA   \n",
       "2                   No                 No                      NA   \n",
       "3                   No                 No                      NA   \n",
       "4                   No                 No                      NA   \n",
       "\n",
       "  IndicatorScore IndicatorWeight     Year  \n",
       "0             NA              NA  2017-18  \n",
       "1             NA              NA  2017-18  \n",
       "2             NA              NA  2017-18  \n",
       "3             NA              NA  2017-18  \n",
       "4             NA              NA  2017-18  \n",
       "\n",
       "[5 rows x 30 columns]"
      ]
     },
     "execution_count": 9,
     "metadata": {},
     "output_type": "execute_result"
    }
   ],
   "source": [
    "df.head()"
   ]
  },
  {
   "cell_type": "code",
   "execution_count": 10,
   "metadata": {},
   "outputs": [],
   "source": [
    "#df1.to_csv(df1.csv)\n",
    "df.to_csv('file_name.csv', encoding='utf-8', index=False)"
   ]
  },
  {
   "cell_type": "code",
   "execution_count": null,
   "metadata": {},
   "outputs": [],
   "source": [
    "#x= df1.to_excel('output1.xlsx')  # doctest: +SKIP"
   ]
  }
 ],
 "metadata": {
  "kernelspec": {
   "display_name": "Python 3",
   "language": "python",
   "name": "python3"
  },
  "language_info": {
   "codemirror_mode": {
    "name": "ipython",
    "version": 3
   },
   "file_extension": ".py",
   "mimetype": "text/x-python",
   "name": "python",
   "nbconvert_exporter": "python",
   "pygments_lexer": "ipython3",
   "version": "3.7.3"
  }
 },
 "nbformat": 4,
 "nbformat_minor": 2
}
