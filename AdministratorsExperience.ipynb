{
 "cells": [
  {
   "cell_type": "code",
   "execution_count": 1,
   "metadata": {},
   "outputs": [
    {
     "data": {
      "text/html": [
       "<div>\n",
       "<style scoped>\n",
       "    .dataframe tbody tr th:only-of-type {\n",
       "        vertical-align: middle;\n",
       "    }\n",
       "\n",
       "    .dataframe tbody tr th {\n",
       "        vertical-align: top;\n",
       "    }\n",
       "\n",
       "    .dataframe thead th {\n",
       "        text-align: right;\n",
       "    }\n",
       "</style>\n",
       "<table border=\"1\" class=\"dataframe\">\n",
       "  <thead>\n",
       "    <tr style=\"text-align: right;\">\n",
       "      <th></th>\n",
       "      <th>CountyCode</th>\n",
       "      <th>CountyName</th>\n",
       "      <th>DistrictCode</th>\n",
       "      <th>DistrictName</th>\n",
       "      <th>AdminCount_District</th>\n",
       "      <th>AdminCount_State</th>\n",
       "      <th>AdminAvgYearsExp_District</th>\n",
       "      <th>AdminAvgYearsExp_State</th>\n",
       "      <th>AdminAvgYearsExpInDistrict_District</th>\n",
       "      <th>AdminAvgYearsExpInDistrict_State</th>\n",
       "      <th>AdminInDistrict4YearsOrMore_District</th>\n",
       "      <th>AdminInDistrict4YearsOrMore_State</th>\n",
       "    </tr>\n",
       "  </thead>\n",
       "  <tbody>\n",
       "    <tr>\n",
       "      <th>0</th>\n",
       "      <td>01</td>\n",
       "      <td>ATLANTIC</td>\n",
       "      <td>0010</td>\n",
       "      <td>ABSECON CITY</td>\n",
       "      <td>5</td>\n",
       "      <td>9374</td>\n",
       "      <td>29.5</td>\n",
       "      <td>16.0</td>\n",
       "      <td>6.8</td>\n",
       "      <td>12.0</td>\n",
       "      <td>50.0</td>\n",
       "      <td>76.2</td>\n",
       "    </tr>\n",
       "    <tr>\n",
       "      <th>1</th>\n",
       "      <td>01</td>\n",
       "      <td>ATLANTIC</td>\n",
       "      <td>0110</td>\n",
       "      <td>ATLANTIC CITY</td>\n",
       "      <td>31</td>\n",
       "      <td>9374</td>\n",
       "      <td>17.8</td>\n",
       "      <td>16.0</td>\n",
       "      <td>17.6</td>\n",
       "      <td>12.0</td>\n",
       "      <td>87.1</td>\n",
       "      <td>76.2</td>\n",
       "    </tr>\n",
       "  </tbody>\n",
       "</table>\n",
       "</div>"
      ],
      "text/plain": [
       "  CountyCode CountyName DistrictCode   DistrictName AdminCount_District  \\\n",
       "0         01   ATLANTIC         0010   ABSECON CITY                   5   \n",
       "1         01   ATLANTIC         0110  ATLANTIC CITY                  31   \n",
       "\n",
       "   AdminCount_State AdminAvgYearsExp_District  AdminAvgYearsExp_State  \\\n",
       "0              9374                      29.5                    16.0   \n",
       "1              9374                      17.8                    16.0   \n",
       "\n",
       "  AdminAvgYearsExpInDistrict_District  AdminAvgYearsExpInDistrict_State  \\\n",
       "0                                 6.8                              12.0   \n",
       "1                                17.6                              12.0   \n",
       "\n",
       "  AdminInDistrict4YearsOrMore_District  AdminInDistrict4YearsOrMore_State  \n",
       "0                                 50.0                               76.2  \n",
       "1                                 87.1                               76.2  "
      ]
     },
     "execution_count": 1,
     "metadata": {},
     "output_type": "execute_result"
    }
   ],
   "source": [
    "import os\n",
    "import pandas as pd\n",
    "import numpy as np\n",
    "\n",
    "#df = pd.read_excel('narrative_raw.xlsx')\n",
    "df = pd.read_csv('raw.csv',index_col = False, dtype = {\"CountyCode\": str,\"DistrictCode\": str,\"SchoolCode\": str})\n",
    "df.head(2)"
   ]
  },
  {
   "cell_type": "markdown",
   "metadata": {},
   "source": [
    "### Check number of columns and rows"
   ]
  },
  {
   "cell_type": "code",
   "execution_count": 2,
   "metadata": {},
   "outputs": [
    {
     "data": {
      "text/plain": [
       "(674, 12)"
      ]
     },
     "execution_count": 2,
     "metadata": {},
     "output_type": "execute_result"
    }
   ],
   "source": [
    "df.shape"
   ]
  },
  {
   "cell_type": "markdown",
   "metadata": {},
   "source": [
    "### Adding columns from 2016-17 table"
   ]
  },
  {
   "cell_type": "code",
   "execution_count": 3,
   "metadata": {},
   "outputs": [],
   "source": [
    "df['Year'] = '2017-18'"
   ]
  },
  {
   "cell_type": "markdown",
   "metadata": {},
   "source": [
    "### Check if columns are added properly"
   ]
  },
  {
   "cell_type": "code",
   "execution_count": 4,
   "metadata": {
    "scrolled": true
   },
   "outputs": [
    {
     "data": {
      "text/html": [
       "<div>\n",
       "<style scoped>\n",
       "    .dataframe tbody tr th:only-of-type {\n",
       "        vertical-align: middle;\n",
       "    }\n",
       "\n",
       "    .dataframe tbody tr th {\n",
       "        vertical-align: top;\n",
       "    }\n",
       "\n",
       "    .dataframe thead th {\n",
       "        text-align: right;\n",
       "    }\n",
       "</style>\n",
       "<table border=\"1\" class=\"dataframe\">\n",
       "  <thead>\n",
       "    <tr style=\"text-align: right;\">\n",
       "      <th></th>\n",
       "      <th>CountyCode</th>\n",
       "      <th>CountyName</th>\n",
       "      <th>DistrictCode</th>\n",
       "      <th>DistrictName</th>\n",
       "      <th>AdminCount_District</th>\n",
       "      <th>AdminCount_State</th>\n",
       "      <th>AdminAvgYearsExp_District</th>\n",
       "      <th>AdminAvgYearsExp_State</th>\n",
       "      <th>AdminAvgYearsExpInDistrict_District</th>\n",
       "      <th>AdminAvgYearsExpInDistrict_State</th>\n",
       "      <th>AdminInDistrict4YearsOrMore_District</th>\n",
       "      <th>AdminInDistrict4YearsOrMore_State</th>\n",
       "      <th>Year</th>\n",
       "    </tr>\n",
       "  </thead>\n",
       "  <tbody>\n",
       "    <tr>\n",
       "      <th>0</th>\n",
       "      <td>01</td>\n",
       "      <td>ATLANTIC</td>\n",
       "      <td>0010</td>\n",
       "      <td>ABSECON CITY</td>\n",
       "      <td>5</td>\n",
       "      <td>9374</td>\n",
       "      <td>29.5</td>\n",
       "      <td>16.0</td>\n",
       "      <td>6.8</td>\n",
       "      <td>12.0</td>\n",
       "      <td>50.0</td>\n",
       "      <td>76.2</td>\n",
       "      <td>2017-18</td>\n",
       "    </tr>\n",
       "    <tr>\n",
       "      <th>1</th>\n",
       "      <td>01</td>\n",
       "      <td>ATLANTIC</td>\n",
       "      <td>0110</td>\n",
       "      <td>ATLANTIC CITY</td>\n",
       "      <td>31</td>\n",
       "      <td>9374</td>\n",
       "      <td>17.8</td>\n",
       "      <td>16.0</td>\n",
       "      <td>17.6</td>\n",
       "      <td>12.0</td>\n",
       "      <td>87.1</td>\n",
       "      <td>76.2</td>\n",
       "      <td>2017-18</td>\n",
       "    </tr>\n",
       "  </tbody>\n",
       "</table>\n",
       "</div>"
      ],
      "text/plain": [
       "  CountyCode CountyName DistrictCode   DistrictName AdminCount_District  \\\n",
       "0         01   ATLANTIC         0010   ABSECON CITY                   5   \n",
       "1         01   ATLANTIC         0110  ATLANTIC CITY                  31   \n",
       "\n",
       "   AdminCount_State AdminAvgYearsExp_District  AdminAvgYearsExp_State  \\\n",
       "0              9374                      29.5                    16.0   \n",
       "1              9374                      17.8                    16.0   \n",
       "\n",
       "  AdminAvgYearsExpInDistrict_District  AdminAvgYearsExpInDistrict_State  \\\n",
       "0                                 6.8                              12.0   \n",
       "1                                17.6                              12.0   \n",
       "\n",
       "  AdminInDistrict4YearsOrMore_District  AdminInDistrict4YearsOrMore_State  \\\n",
       "0                                 50.0                               76.2   \n",
       "1                                 87.1                               76.2   \n",
       "\n",
       "      Year  \n",
       "0  2017-18  \n",
       "1  2017-18  "
      ]
     },
     "execution_count": 4,
     "metadata": {},
     "output_type": "execute_result"
    }
   ],
   "source": [
    "df.head(2)"
   ]
  },
  {
   "cell_type": "markdown",
   "metadata": {},
   "source": [
    "### Check missing values"
   ]
  },
  {
   "cell_type": "code",
   "execution_count": 5,
   "metadata": {
    "scrolled": true
   },
   "outputs": [
    {
     "data": {
      "text/plain": [
       "CountyCode                              0\n",
       "CountyName                              0\n",
       "DistrictCode                            0\n",
       "DistrictName                            0\n",
       "AdminCount_District                     0\n",
       "AdminCount_State                        0\n",
       "AdminAvgYearsExp_District               0\n",
       "AdminAvgYearsExp_State                  0\n",
       "AdminAvgYearsExpInDistrict_District     0\n",
       "AdminAvgYearsExpInDistrict_State        0\n",
       "AdminInDistrict4YearsOrMore_District    0\n",
       "AdminInDistrict4YearsOrMore_State       0\n",
       "Year                                    0\n",
       "dtype: int64"
      ]
     },
     "execution_count": 5,
     "metadata": {},
     "output_type": "execute_result"
    }
   ],
   "source": [
    "df.isnull().sum()"
   ]
  },
  {
   "cell_type": "markdown",
   "metadata": {},
   "source": [
    "### Fill missing values"
   ]
  },
  {
   "cell_type": "code",
   "execution_count": null,
   "metadata": {},
   "outputs": [],
   "source": [
    "#df = df.fillna('NA')"
   ]
  },
  {
   "cell_type": "markdown",
   "metadata": {},
   "source": [
    "### Check again if missing values are dealt properly"
   ]
  },
  {
   "cell_type": "code",
   "execution_count": 6,
   "metadata": {},
   "outputs": [],
   "source": [
    "#df.isnull().sum()"
   ]
  },
  {
   "cell_type": "markdown",
   "metadata": {},
   "source": [
    "### Check for meaningless values such as '**','N'\n"
   ]
  },
  {
   "cell_type": "code",
   "execution_count": 6,
   "metadata": {},
   "outputs": [],
   "source": [
    "\n",
    "#df['CompSupport_Grad67'] = df['CompSupport_Grad67'].replace('**',9999999)\n",
    "df['AdminCount_District'] = df['AdminCount_District'].replace('N',9999999)\n",
    "df['AdminCount_State'] = df['AdminCount_State'].replace('N',9999999)\n",
    "df['AdminAvgYearsExp_District'] = df['AdminAvgYearsExp_District'].replace('N',9999999)\n",
    "df['AdminAvgYearsExp_State'] = df['AdminAvgYearsExp_State'].replace('N',9999999)\n",
    "df['AdminAvgYearsExpInDistrict_District'] = df['AdminAvgYearsExpInDistrict_District'].replace('N',9999999)\n",
    "df['AdminAvgYearsExpInDistrict_State'] = df['AdminAvgYearsExpInDistrict_State'].replace('N',9999999)\n",
    "df['AdminInDistrict4YearsOrMore_District'] = df['AdminInDistrict4YearsOrMore_District'].replace('N',9999999)\n",
    "df['AdminInDistrict4YearsOrMore_State'] = df['AdminInDistrict4YearsOrMore_State'].replace('N',9999999)\n"
   ]
  },
  {
   "cell_type": "markdown",
   "metadata": {},
   "source": [
    "### Check Data types of all columns"
   ]
  },
  {
   "cell_type": "code",
   "execution_count": 7,
   "metadata": {
    "scrolled": true
   },
   "outputs": [
    {
     "data": {
      "text/plain": [
       "CountyCode                               object\n",
       "CountyName                               object\n",
       "DistrictCode                             object\n",
       "DistrictName                             object\n",
       "AdminCount_District                      object\n",
       "AdminCount_State                          int64\n",
       "AdminAvgYearsExp_District                object\n",
       "AdminAvgYearsExp_State                  float64\n",
       "AdminAvgYearsExpInDistrict_District      object\n",
       "AdminAvgYearsExpInDistrict_State        float64\n",
       "AdminInDistrict4YearsOrMore_District     object\n",
       "AdminInDistrict4YearsOrMore_State       float64\n",
       "Year                                     object\n",
       "dtype: object"
      ]
     },
     "execution_count": 7,
     "metadata": {},
     "output_type": "execute_result"
    }
   ],
   "source": [
    "df.dtypes"
   ]
  },
  {
   "cell_type": "markdown",
   "metadata": {},
   "source": [
    "### Change Data types "
   ]
  },
  {
   "cell_type": "code",
   "execution_count": 9,
   "metadata": {},
   "outputs": [],
   "source": [
    "df[\"AdminCount_District\"] = df[\"AdminCount_District\"].astype(float)\n",
    "df[\"AdminCount_State\"] = df[\"AdminCount_State\"].astype(float)\n",
    "df[\"AdminAvgYearsExp_District\"] = df[\"AdminAvgYearsExp_District\"].astype(float)\n",
    "df[\"AdminAvgYearsExp_State\"] = df[\"AdminAvgYearsExp_State\"].astype(float)\n",
    "df[\"AdminAvgYearsExpInDistrict_District\"] = df[\"AdminAvgYearsExpInDistrict_District\"].astype(float)\n",
    "df[\"AdminAvgYearsExpInDistrict_State\"] = df[\"AdminAvgYearsExpInDistrict_State\"].astype(float)\n",
    "df[\"AdminInDistrict4YearsOrMore_District\"] = df[\"AdminInDistrict4YearsOrMore_District\"].astype(float)\n",
    "df[\"AdminInDistrict4YearsOrMore_State\"] = df[\"AdminInDistrict4YearsOrMore_State\"].astype(float)\n"
   ]
  },
  {
   "cell_type": "markdown",
   "metadata": {},
   "source": [
    "### Check the changed data types"
   ]
  },
  {
   "cell_type": "code",
   "execution_count": 10,
   "metadata": {},
   "outputs": [
    {
     "data": {
      "text/plain": [
       "CountyCode                               object\n",
       "CountyName                               object\n",
       "DistrictCode                             object\n",
       "DistrictName                             object\n",
       "AdminCount_District                     float64\n",
       "AdminCount_State                        float64\n",
       "AdminAvgYearsExp_District               float64\n",
       "AdminAvgYearsExp_State                  float64\n",
       "AdminAvgYearsExpInDistrict_District     float64\n",
       "AdminAvgYearsExpInDistrict_State        float64\n",
       "AdminInDistrict4YearsOrMore_District    float64\n",
       "AdminInDistrict4YearsOrMore_State       float64\n",
       "Year                                     object\n",
       "dtype: object"
      ]
     },
     "execution_count": 10,
     "metadata": {},
     "output_type": "execute_result"
    }
   ],
   "source": [
    "df.dtypes"
   ]
  },
  {
   "cell_type": "markdown",
   "metadata": {},
   "source": [
    "### Get a look at final data"
   ]
  },
  {
   "cell_type": "code",
   "execution_count": 11,
   "metadata": {},
   "outputs": [
    {
     "data": {
      "text/html": [
       "<div>\n",
       "<style scoped>\n",
       "    .dataframe tbody tr th:only-of-type {\n",
       "        vertical-align: middle;\n",
       "    }\n",
       "\n",
       "    .dataframe tbody tr th {\n",
       "        vertical-align: top;\n",
       "    }\n",
       "\n",
       "    .dataframe thead th {\n",
       "        text-align: right;\n",
       "    }\n",
       "</style>\n",
       "<table border=\"1\" class=\"dataframe\">\n",
       "  <thead>\n",
       "    <tr style=\"text-align: right;\">\n",
       "      <th></th>\n",
       "      <th>CountyCode</th>\n",
       "      <th>CountyName</th>\n",
       "      <th>DistrictCode</th>\n",
       "      <th>DistrictName</th>\n",
       "      <th>AdminCount_District</th>\n",
       "      <th>AdminCount_State</th>\n",
       "      <th>AdminAvgYearsExp_District</th>\n",
       "      <th>AdminAvgYearsExp_State</th>\n",
       "      <th>AdminAvgYearsExpInDistrict_District</th>\n",
       "      <th>AdminAvgYearsExpInDistrict_State</th>\n",
       "      <th>AdminInDistrict4YearsOrMore_District</th>\n",
       "      <th>AdminInDistrict4YearsOrMore_State</th>\n",
       "      <th>Year</th>\n",
       "    </tr>\n",
       "  </thead>\n",
       "  <tbody>\n",
       "    <tr>\n",
       "      <th>0</th>\n",
       "      <td>01</td>\n",
       "      <td>ATLANTIC</td>\n",
       "      <td>0010</td>\n",
       "      <td>ABSECON CITY</td>\n",
       "      <td>5.0</td>\n",
       "      <td>9374.0</td>\n",
       "      <td>29.5</td>\n",
       "      <td>16.0</td>\n",
       "      <td>6.8</td>\n",
       "      <td>12.0</td>\n",
       "      <td>50.0</td>\n",
       "      <td>76.2</td>\n",
       "      <td>2017-18</td>\n",
       "    </tr>\n",
       "    <tr>\n",
       "      <th>1</th>\n",
       "      <td>01</td>\n",
       "      <td>ATLANTIC</td>\n",
       "      <td>0110</td>\n",
       "      <td>ATLANTIC CITY</td>\n",
       "      <td>31.0</td>\n",
       "      <td>9374.0</td>\n",
       "      <td>17.8</td>\n",
       "      <td>16.0</td>\n",
       "      <td>17.6</td>\n",
       "      <td>12.0</td>\n",
       "      <td>87.1</td>\n",
       "      <td>76.2</td>\n",
       "      <td>2017-18</td>\n",
       "    </tr>\n",
       "    <tr>\n",
       "      <th>2</th>\n",
       "      <td>01</td>\n",
       "      <td>ATLANTIC</td>\n",
       "      <td>0120</td>\n",
       "      <td>ATLANTIC CO VOCATIONAL</td>\n",
       "      <td>9.0</td>\n",
       "      <td>9374.0</td>\n",
       "      <td>7.2</td>\n",
       "      <td>16.0</td>\n",
       "      <td>6.1</td>\n",
       "      <td>12.0</td>\n",
       "      <td>44.4</td>\n",
       "      <td>76.2</td>\n",
       "      <td>2017-18</td>\n",
       "    </tr>\n",
       "    <tr>\n",
       "      <th>3</th>\n",
       "      <td>01</td>\n",
       "      <td>ATLANTIC</td>\n",
       "      <td>0125</td>\n",
       "      <td>ATLANTIC CO SPECIAL SERV</td>\n",
       "      <td>7.0</td>\n",
       "      <td>9374.0</td>\n",
       "      <td>13.3</td>\n",
       "      <td>16.0</td>\n",
       "      <td>4.9</td>\n",
       "      <td>12.0</td>\n",
       "      <td>42.9</td>\n",
       "      <td>76.2</td>\n",
       "      <td>2017-18</td>\n",
       "    </tr>\n",
       "    <tr>\n",
       "      <th>4</th>\n",
       "      <td>01</td>\n",
       "      <td>ATLANTIC</td>\n",
       "      <td>0570</td>\n",
       "      <td>BRIGANTINE CITY</td>\n",
       "      <td>6.0</td>\n",
       "      <td>9374.0</td>\n",
       "      <td>16.0</td>\n",
       "      <td>16.0</td>\n",
       "      <td>13.8</td>\n",
       "      <td>12.0</td>\n",
       "      <td>83.3</td>\n",
       "      <td>76.2</td>\n",
       "      <td>2017-18</td>\n",
       "    </tr>\n",
       "  </tbody>\n",
       "</table>\n",
       "</div>"
      ],
      "text/plain": [
       "  CountyCode CountyName DistrictCode              DistrictName  \\\n",
       "0         01   ATLANTIC         0010              ABSECON CITY   \n",
       "1         01   ATLANTIC         0110             ATLANTIC CITY   \n",
       "2         01   ATLANTIC         0120    ATLANTIC CO VOCATIONAL   \n",
       "3         01   ATLANTIC         0125  ATLANTIC CO SPECIAL SERV   \n",
       "4         01   ATLANTIC         0570           BRIGANTINE CITY   \n",
       "\n",
       "   AdminCount_District  AdminCount_State  AdminAvgYearsExp_District  \\\n",
       "0                  5.0            9374.0                       29.5   \n",
       "1                 31.0            9374.0                       17.8   \n",
       "2                  9.0            9374.0                        7.2   \n",
       "3                  7.0            9374.0                       13.3   \n",
       "4                  6.0            9374.0                       16.0   \n",
       "\n",
       "   AdminAvgYearsExp_State  AdminAvgYearsExpInDistrict_District  \\\n",
       "0                    16.0                                  6.8   \n",
       "1                    16.0                                 17.6   \n",
       "2                    16.0                                  6.1   \n",
       "3                    16.0                                  4.9   \n",
       "4                    16.0                                 13.8   \n",
       "\n",
       "   AdminAvgYearsExpInDistrict_State  AdminInDistrict4YearsOrMore_District  \\\n",
       "0                              12.0                                  50.0   \n",
       "1                              12.0                                  87.1   \n",
       "2                              12.0                                  44.4   \n",
       "3                              12.0                                  42.9   \n",
       "4                              12.0                                  83.3   \n",
       "\n",
       "   AdminInDistrict4YearsOrMore_State     Year  \n",
       "0                               76.2  2017-18  \n",
       "1                               76.2  2017-18  \n",
       "2                               76.2  2017-18  \n",
       "3                               76.2  2017-18  \n",
       "4                               76.2  2017-18  "
      ]
     },
     "execution_count": 11,
     "metadata": {},
     "output_type": "execute_result"
    }
   ],
   "source": [
    "df.head()"
   ]
  },
  {
   "cell_type": "code",
   "execution_count": 12,
   "metadata": {},
   "outputs": [],
   "source": [
    "#df1.to_csv(df1.csv)\n",
    "df.to_csv('AdministratorsExperience.csv', encoding='utf-8', index=False)"
   ]
  },
  {
   "cell_type": "code",
   "execution_count": null,
   "metadata": {},
   "outputs": [],
   "source": [
    "#x= df1.to_excel('output1.xlsx')  # doctest: +SKIP"
   ]
  }
 ],
 "metadata": {
  "kernelspec": {
   "display_name": "Python 3",
   "language": "python",
   "name": "python3"
  },
  "language_info": {
   "codemirror_mode": {
    "name": "ipython",
    "version": 3
   },
   "file_extension": ".py",
   "mimetype": "text/x-python",
   "name": "python",
   "nbconvert_exporter": "python",
   "pygments_lexer": "ipython3",
   "version": "3.7.3"
  }
 },
 "nbformat": 4,
 "nbformat_minor": 2
}
