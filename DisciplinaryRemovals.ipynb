{
 "cells": [
  {
   "cell_type": "code",
   "execution_count": 1,
   "metadata": {},
   "outputs": [
    {
     "data": {
      "text/html": [
       "<div>\n",
       "<style scoped>\n",
       "    .dataframe tbody tr th:only-of-type {\n",
       "        vertical-align: middle;\n",
       "    }\n",
       "\n",
       "    .dataframe tbody tr th {\n",
       "        vertical-align: top;\n",
       "    }\n",
       "\n",
       "    .dataframe thead th {\n",
       "        text-align: right;\n",
       "    }\n",
       "</style>\n",
       "<table border=\"1\" class=\"dataframe\">\n",
       "  <thead>\n",
       "    <tr style=\"text-align: right;\">\n",
       "      <th></th>\n",
       "      <th>CountyCode</th>\n",
       "      <th>CountyName</th>\n",
       "      <th>DistrictCode</th>\n",
       "      <th>DistrictName</th>\n",
       "      <th>SchoolCode</th>\n",
       "      <th>SchoolName</th>\n",
       "      <th>InSchool_Count</th>\n",
       "      <th>InSchool_Pct</th>\n",
       "      <th>OutofSchool_Count</th>\n",
       "      <th>OutofSchool_Pct</th>\n",
       "      <th>AnySusp_Count</th>\n",
       "      <th>AnySusp_Pct</th>\n",
       "      <th>Removal_Count</th>\n",
       "      <th>Removal_Pct</th>\n",
       "      <th>Expulsion_Count</th>\n",
       "      <th>Expulsion_Pct</th>\n",
       "      <th>Arrest_Count</th>\n",
       "      <th>Arrest_Pct</th>\n",
       "      <th>SchoolDaysMissed_OSS</th>\n",
       "    </tr>\n",
       "  </thead>\n",
       "  <tbody>\n",
       "    <tr>\n",
       "      <th>0</th>\n",
       "      <td>01</td>\n",
       "      <td>ATLANTIC</td>\n",
       "      <td>0010</td>\n",
       "      <td>ABSECON CITY</td>\n",
       "      <td>050</td>\n",
       "      <td>EMMA C ATTALES</td>\n",
       "      <td>11</td>\n",
       "      <td>2.9</td>\n",
       "      <td>10</td>\n",
       "      <td>2.7</td>\n",
       "      <td>19</td>\n",
       "      <td>5.1</td>\n",
       "      <td>0</td>\n",
       "      <td>0.0</td>\n",
       "      <td>0</td>\n",
       "      <td>0.0</td>\n",
       "      <td>0</td>\n",
       "      <td>0.0</td>\n",
       "      <td>12</td>\n",
       "    </tr>\n",
       "    <tr>\n",
       "      <th>1</th>\n",
       "      <td>01</td>\n",
       "      <td>ATLANTIC</td>\n",
       "      <td>0010</td>\n",
       "      <td>ABSECON CITY</td>\n",
       "      <td>060</td>\n",
       "      <td>H ASHTON MARSH</td>\n",
       "      <td>*</td>\n",
       "      <td>*</td>\n",
       "      <td>11</td>\n",
       "      <td>2.2</td>\n",
       "      <td>12</td>\n",
       "      <td>2.4</td>\n",
       "      <td>0</td>\n",
       "      <td>0.0</td>\n",
       "      <td>0</td>\n",
       "      <td>0.0</td>\n",
       "      <td>0</td>\n",
       "      <td>0.0</td>\n",
       "      <td>18</td>\n",
       "    </tr>\n",
       "  </tbody>\n",
       "</table>\n",
       "</div>"
      ],
      "text/plain": [
       "  CountyCode CountyName DistrictCode  DistrictName SchoolCode      SchoolName  \\\n",
       "0         01   ATLANTIC         0010  ABSECON CITY        050  EMMA C ATTALES   \n",
       "1         01   ATLANTIC         0010  ABSECON CITY        060  H ASHTON MARSH   \n",
       "\n",
       "  InSchool_Count InSchool_Pct OutofSchool_Count OutofSchool_Pct AnySusp_Count  \\\n",
       "0             11          2.9                10             2.7            19   \n",
       "1              *            *                11             2.2            12   \n",
       "\n",
       "  AnySusp_Pct Removal_Count Removal_Pct Expulsion_Count Expulsion_Pct  \\\n",
       "0         5.1             0         0.0               0           0.0   \n",
       "1         2.4             0         0.0               0           0.0   \n",
       "\n",
       "  Arrest_Count Arrest_Pct SchoolDaysMissed_OSS  \n",
       "0            0        0.0                   12  \n",
       "1            0        0.0                   18  "
      ]
     },
     "execution_count": 1,
     "metadata": {},
     "output_type": "execute_result"
    }
   ],
   "source": [
    "import os\n",
    "import pandas as pd\n",
    "import numpy as np\n",
    "\n",
    "#df = pd.read_excel('narrative_raw.xlsx')\n",
    "df = pd.read_csv('raw.csv',index_col = False, dtype = {\"CountyCode\": str,\"DistrictCode\": str,\"SchoolCode\": str})\n",
    "df.head(2)"
   ]
  },
  {
   "cell_type": "markdown",
   "metadata": {},
   "source": [
    "### Check number of columns and rows"
   ]
  },
  {
   "cell_type": "code",
   "execution_count": 2,
   "metadata": {},
   "outputs": [
    {
     "data": {
      "text/plain": [
       "(2519, 19)"
      ]
     },
     "execution_count": 2,
     "metadata": {},
     "output_type": "execute_result"
    }
   ],
   "source": [
    "df.shape"
   ]
  },
  {
   "cell_type": "markdown",
   "metadata": {},
   "source": [
    "### Adding columns from 2016-17 table"
   ]
  },
  {
   "cell_type": "code",
   "execution_count": 3,
   "metadata": {},
   "outputs": [],
   "source": [
    "df['Year'] = '2017-18'"
   ]
  },
  {
   "cell_type": "markdown",
   "metadata": {},
   "source": [
    "### Check if columns are added properly"
   ]
  },
  {
   "cell_type": "code",
   "execution_count": 4,
   "metadata": {
    "scrolled": true
   },
   "outputs": [
    {
     "data": {
      "text/html": [
       "<div>\n",
       "<style scoped>\n",
       "    .dataframe tbody tr th:only-of-type {\n",
       "        vertical-align: middle;\n",
       "    }\n",
       "\n",
       "    .dataframe tbody tr th {\n",
       "        vertical-align: top;\n",
       "    }\n",
       "\n",
       "    .dataframe thead th {\n",
       "        text-align: right;\n",
       "    }\n",
       "</style>\n",
       "<table border=\"1\" class=\"dataframe\">\n",
       "  <thead>\n",
       "    <tr style=\"text-align: right;\">\n",
       "      <th></th>\n",
       "      <th>CountyCode</th>\n",
       "      <th>CountyName</th>\n",
       "      <th>DistrictCode</th>\n",
       "      <th>DistrictName</th>\n",
       "      <th>SchoolCode</th>\n",
       "      <th>SchoolName</th>\n",
       "      <th>InSchool_Count</th>\n",
       "      <th>InSchool_Pct</th>\n",
       "      <th>OutofSchool_Count</th>\n",
       "      <th>OutofSchool_Pct</th>\n",
       "      <th>AnySusp_Count</th>\n",
       "      <th>AnySusp_Pct</th>\n",
       "      <th>Removal_Count</th>\n",
       "      <th>Removal_Pct</th>\n",
       "      <th>Expulsion_Count</th>\n",
       "      <th>Expulsion_Pct</th>\n",
       "      <th>Arrest_Count</th>\n",
       "      <th>Arrest_Pct</th>\n",
       "      <th>SchoolDaysMissed_OSS</th>\n",
       "      <th>Year</th>\n",
       "    </tr>\n",
       "  </thead>\n",
       "  <tbody>\n",
       "    <tr>\n",
       "      <th>0</th>\n",
       "      <td>01</td>\n",
       "      <td>ATLANTIC</td>\n",
       "      <td>0010</td>\n",
       "      <td>ABSECON CITY</td>\n",
       "      <td>050</td>\n",
       "      <td>EMMA C ATTALES</td>\n",
       "      <td>11</td>\n",
       "      <td>2.9</td>\n",
       "      <td>10</td>\n",
       "      <td>2.7</td>\n",
       "      <td>19</td>\n",
       "      <td>5.1</td>\n",
       "      <td>0</td>\n",
       "      <td>0.0</td>\n",
       "      <td>0</td>\n",
       "      <td>0.0</td>\n",
       "      <td>0</td>\n",
       "      <td>0.0</td>\n",
       "      <td>12</td>\n",
       "      <td>2017-18</td>\n",
       "    </tr>\n",
       "    <tr>\n",
       "      <th>1</th>\n",
       "      <td>01</td>\n",
       "      <td>ATLANTIC</td>\n",
       "      <td>0010</td>\n",
       "      <td>ABSECON CITY</td>\n",
       "      <td>060</td>\n",
       "      <td>H ASHTON MARSH</td>\n",
       "      <td>*</td>\n",
       "      <td>*</td>\n",
       "      <td>11</td>\n",
       "      <td>2.2</td>\n",
       "      <td>12</td>\n",
       "      <td>2.4</td>\n",
       "      <td>0</td>\n",
       "      <td>0.0</td>\n",
       "      <td>0</td>\n",
       "      <td>0.0</td>\n",
       "      <td>0</td>\n",
       "      <td>0.0</td>\n",
       "      <td>18</td>\n",
       "      <td>2017-18</td>\n",
       "    </tr>\n",
       "  </tbody>\n",
       "</table>\n",
       "</div>"
      ],
      "text/plain": [
       "  CountyCode CountyName DistrictCode  DistrictName SchoolCode      SchoolName  \\\n",
       "0         01   ATLANTIC         0010  ABSECON CITY        050  EMMA C ATTALES   \n",
       "1         01   ATLANTIC         0010  ABSECON CITY        060  H ASHTON MARSH   \n",
       "\n",
       "  InSchool_Count InSchool_Pct OutofSchool_Count OutofSchool_Pct AnySusp_Count  \\\n",
       "0             11          2.9                10             2.7            19   \n",
       "1              *            *                11             2.2            12   \n",
       "\n",
       "  AnySusp_Pct Removal_Count Removal_Pct Expulsion_Count Expulsion_Pct  \\\n",
       "0         5.1             0         0.0               0           0.0   \n",
       "1         2.4             0         0.0               0           0.0   \n",
       "\n",
       "  Arrest_Count Arrest_Pct SchoolDaysMissed_OSS     Year  \n",
       "0            0        0.0                   12  2017-18  \n",
       "1            0        0.0                   18  2017-18  "
      ]
     },
     "execution_count": 4,
     "metadata": {},
     "output_type": "execute_result"
    }
   ],
   "source": [
    "df.head(2)"
   ]
  },
  {
   "cell_type": "markdown",
   "metadata": {},
   "source": [
    "### Check missing values"
   ]
  },
  {
   "cell_type": "code",
   "execution_count": 5,
   "metadata": {
    "scrolled": true
   },
   "outputs": [
    {
     "data": {
      "text/plain": [
       "CountyCode              0\n",
       "CountyName              0\n",
       "DistrictCode            0\n",
       "DistrictName            0\n",
       "SchoolCode              0\n",
       "SchoolName              0\n",
       "InSchool_Count          0\n",
       "InSchool_Pct            0\n",
       "OutofSchool_Count       0\n",
       "OutofSchool_Pct         0\n",
       "AnySusp_Count           0\n",
       "AnySusp_Pct             0\n",
       "Removal_Count           0\n",
       "Removal_Pct             0\n",
       "Expulsion_Count         0\n",
       "Expulsion_Pct           0\n",
       "Arrest_Count            0\n",
       "Arrest_Pct              0\n",
       "SchoolDaysMissed_OSS    0\n",
       "Year                    0\n",
       "dtype: int64"
      ]
     },
     "execution_count": 5,
     "metadata": {},
     "output_type": "execute_result"
    }
   ],
   "source": [
    "df.isnull().sum()"
   ]
  },
  {
   "cell_type": "markdown",
   "metadata": {},
   "source": [
    "### Fill missing values"
   ]
  },
  {
   "cell_type": "code",
   "execution_count": null,
   "metadata": {},
   "outputs": [],
   "source": [
    "#df = df.fillna('NA')"
   ]
  },
  {
   "cell_type": "markdown",
   "metadata": {},
   "source": [
    "### Check again if missing values are dealt properly"
   ]
  },
  {
   "cell_type": "code",
   "execution_count": null,
   "metadata": {},
   "outputs": [],
   "source": [
    "#df.isnull().sum()"
   ]
  },
  {
   "cell_type": "markdown",
   "metadata": {},
   "source": [
    "### Check for meaningless values such as '**','N'\n"
   ]
  },
  {
   "cell_type": "code",
   "execution_count": 8,
   "metadata": {},
   "outputs": [],
   "source": [
    "\n",
    "df['SchoolDaysMissed_OSS'] = df['SchoolDaysMissed_OSS'].replace('*',9999999)\n",
    "df['InSchool_Count'] = df['InSchool_Count'].replace('*',9999999)\n",
    "df['InSchool_Pct'] = df['InSchool_Pct'].replace('*',9999999)\n",
    "df['OutofSchool_Count'] = df['OutofSchool_Count'].replace('*',9999999)\n",
    "df['OutofSchool_Pct'] = df['OutofSchool_Pct'].replace('*',9999999)\n",
    "df['AnySusp_Count'] = df['AnySusp_Count'].replace('*',9999999)\n",
    "df['AnySusp_Pct'] = df['AnySusp_Pct'].replace('*',9999999)\n",
    "df['Removal_Count'] = df['Removal_Count'].replace('*',9999999)\n",
    "df['Removal_Pct'] = df['Removal_Pct'].replace('*',9999999)\n",
    "df['Expulsion_Count'] = df['Expulsion_Count'].replace('*',9999999)\n",
    "df['Expulsion_Pct'] = df['Expulsion_Pct'].replace('*',9999999)\n",
    "df['Arrest_Count'] = df['Arrest_Count'].replace('*',9999999)\n",
    "df['Arrest_Pct'] = df['Arrest_Pct'].replace('*',9999999)\n",
    "\n",
    "\n",
    "df['SchoolDaysMissed_OSS'] = df['SchoolDaysMissed_OSS'].replace('N',9999999)\n",
    "df['InSchool_Count'] = df['InSchool_Count'].replace('N',9999999)\n",
    "df['InSchool_Pct'] = df['InSchool_Pct'].replace('N',9999999)\n",
    "df['OutofSchool_Count'] = df['OutofSchool_Count'].replace('N',9999999)\n",
    "df['OutofSchool_Pct'] = df['OutofSchool_Pct'].replace('N',9999999)\n",
    "df['AnySusp_Count'] = df['AnySusp_Count'].replace('N',9999999)\n",
    "df['AnySusp_Pct'] = df['AnySusp_Pct'].replace('N',9999999)\n",
    "df['Removal_Count'] = df['Removal_Count'].replace('N',9999999)\n",
    "df['Removal_Pct'] = df['Removal_Pct'].replace('N',9999999)\n",
    "df['Expulsion_Count'] = df['Expulsion_Count'].replace('N',9999999)\n",
    "df['Expulsion_Pct'] = df['Expulsion_Pct'].replace('N',9999999)\n",
    "df['Arrest_Count'] = df['Arrest_Count'].replace('N',9999999)\n",
    "df['Arrest_Pct'] = df['Arrest_Pct'].replace('N',9999999)\n"
   ]
  },
  {
   "cell_type": "markdown",
   "metadata": {},
   "source": [
    "### Check Data types of all columns"
   ]
  },
  {
   "cell_type": "code",
   "execution_count": 9,
   "metadata": {
    "scrolled": true
   },
   "outputs": [
    {
     "data": {
      "text/plain": [
       "CountyCode              object\n",
       "CountyName              object\n",
       "DistrictCode            object\n",
       "DistrictName            object\n",
       "SchoolCode              object\n",
       "SchoolName              object\n",
       "InSchool_Count          object\n",
       "InSchool_Pct            object\n",
       "OutofSchool_Count       object\n",
       "OutofSchool_Pct         object\n",
       "AnySusp_Count           object\n",
       "AnySusp_Pct             object\n",
       "Removal_Count           object\n",
       "Removal_Pct             object\n",
       "Expulsion_Count         object\n",
       "Expulsion_Pct           object\n",
       "Arrest_Count            object\n",
       "Arrest_Pct              object\n",
       "SchoolDaysMissed_OSS    object\n",
       "Year                    object\n",
       "dtype: object"
      ]
     },
     "execution_count": 9,
     "metadata": {},
     "output_type": "execute_result"
    }
   ],
   "source": [
    "df.dtypes"
   ]
  },
  {
   "cell_type": "markdown",
   "metadata": {},
   "source": [
    "### Change Data types "
   ]
  },
  {
   "cell_type": "code",
   "execution_count": 12,
   "metadata": {},
   "outputs": [],
   "source": [
    "df[\"InSchool_Pct\"] = df[\"InSchool_Pct\"].astype(float)\n",
    "df[\"OutofSchool_Pct\"] = df[\"OutofSchool_Pct\"].astype(float)\n",
    "df[\"AnySusp_Pct\"] = df[\"AnySusp_Pct\"].astype(float)\n",
    "df[\"Removal_Pct\"] = df[\"Removal_Pct\"].astype(float)\n",
    "df[\"Expulsion_Pct\"] = df[\"Expulsion_Pct\"].astype(float)\n",
    "df[\"Arrest_Pct\"] = df[\"Arrest_Pct\"].astype(float)\n",
    "\n",
    "df[\"SchoolDaysMissed_OSS\"] = df[\"SchoolDaysMissed_OSS\"].astype(int)\n",
    "df[\"InSchool_Count\"] = df[\"InSchool_Count\"].astype(int)\n",
    "df[\"OutofSchool_Count\"] = df[\"OutofSchool_Count\"].astype(int)\n",
    "df[\"AnySusp_Count\"] = df[\"AnySusp_Count\"].astype(int)\n",
    "df[\"Removal_Count\"] = df[\"Removal_Count\"].astype(int)\n",
    "df[\"Expulsion_Count\"] = df[\"Expulsion_Count\"].astype(int)\n",
    "df[\"Arrest_Count\"] = df[\"Arrest_Count\"].astype(int)"
   ]
  },
  {
   "cell_type": "markdown",
   "metadata": {},
   "source": [
    "### Check the changed data types"
   ]
  },
  {
   "cell_type": "code",
   "execution_count": 13,
   "metadata": {},
   "outputs": [
    {
     "data": {
      "text/plain": [
       "CountyCode               object\n",
       "CountyName               object\n",
       "DistrictCode             object\n",
       "DistrictName             object\n",
       "SchoolCode               object\n",
       "SchoolName               object\n",
       "InSchool_Count            int64\n",
       "InSchool_Pct            float64\n",
       "OutofSchool_Count         int64\n",
       "OutofSchool_Pct         float64\n",
       "AnySusp_Count             int64\n",
       "AnySusp_Pct             float64\n",
       "Removal_Count             int64\n",
       "Removal_Pct             float64\n",
       "Expulsion_Count           int64\n",
       "Expulsion_Pct           float64\n",
       "Arrest_Count              int64\n",
       "Arrest_Pct              float64\n",
       "SchoolDaysMissed_OSS      int64\n",
       "Year                     object\n",
       "dtype: object"
      ]
     },
     "execution_count": 13,
     "metadata": {},
     "output_type": "execute_result"
    }
   ],
   "source": [
    "df.dtypes"
   ]
  },
  {
   "cell_type": "markdown",
   "metadata": {},
   "source": [
    "### Get a look at final data"
   ]
  },
  {
   "cell_type": "code",
   "execution_count": 14,
   "metadata": {},
   "outputs": [
    {
     "data": {
      "text/html": [
       "<div>\n",
       "<style scoped>\n",
       "    .dataframe tbody tr th:only-of-type {\n",
       "        vertical-align: middle;\n",
       "    }\n",
       "\n",
       "    .dataframe tbody tr th {\n",
       "        vertical-align: top;\n",
       "    }\n",
       "\n",
       "    .dataframe thead th {\n",
       "        text-align: right;\n",
       "    }\n",
       "</style>\n",
       "<table border=\"1\" class=\"dataframe\">\n",
       "  <thead>\n",
       "    <tr style=\"text-align: right;\">\n",
       "      <th></th>\n",
       "      <th>CountyCode</th>\n",
       "      <th>CountyName</th>\n",
       "      <th>DistrictCode</th>\n",
       "      <th>DistrictName</th>\n",
       "      <th>SchoolCode</th>\n",
       "      <th>SchoolName</th>\n",
       "      <th>InSchool_Count</th>\n",
       "      <th>InSchool_Pct</th>\n",
       "      <th>OutofSchool_Count</th>\n",
       "      <th>OutofSchool_Pct</th>\n",
       "      <th>AnySusp_Count</th>\n",
       "      <th>AnySusp_Pct</th>\n",
       "      <th>Removal_Count</th>\n",
       "      <th>Removal_Pct</th>\n",
       "      <th>Expulsion_Count</th>\n",
       "      <th>Expulsion_Pct</th>\n",
       "      <th>Arrest_Count</th>\n",
       "      <th>Arrest_Pct</th>\n",
       "      <th>SchoolDaysMissed_OSS</th>\n",
       "      <th>Year</th>\n",
       "    </tr>\n",
       "  </thead>\n",
       "  <tbody>\n",
       "    <tr>\n",
       "      <th>0</th>\n",
       "      <td>01</td>\n",
       "      <td>ATLANTIC</td>\n",
       "      <td>0010</td>\n",
       "      <td>ABSECON CITY</td>\n",
       "      <td>050</td>\n",
       "      <td>EMMA C ATTALES</td>\n",
       "      <td>11</td>\n",
       "      <td>2.9</td>\n",
       "      <td>10</td>\n",
       "      <td>2.7</td>\n",
       "      <td>19</td>\n",
       "      <td>5.1</td>\n",
       "      <td>0</td>\n",
       "      <td>0.0</td>\n",
       "      <td>0</td>\n",
       "      <td>0.0</td>\n",
       "      <td>0</td>\n",
       "      <td>0.0</td>\n",
       "      <td>12</td>\n",
       "      <td>2017-18</td>\n",
       "    </tr>\n",
       "    <tr>\n",
       "      <th>1</th>\n",
       "      <td>01</td>\n",
       "      <td>ATLANTIC</td>\n",
       "      <td>0010</td>\n",
       "      <td>ABSECON CITY</td>\n",
       "      <td>060</td>\n",
       "      <td>H ASHTON MARSH</td>\n",
       "      <td>9999999</td>\n",
       "      <td>9999999.0</td>\n",
       "      <td>11</td>\n",
       "      <td>2.2</td>\n",
       "      <td>12</td>\n",
       "      <td>2.4</td>\n",
       "      <td>0</td>\n",
       "      <td>0.0</td>\n",
       "      <td>0</td>\n",
       "      <td>0.0</td>\n",
       "      <td>0</td>\n",
       "      <td>0.0</td>\n",
       "      <td>18</td>\n",
       "      <td>2017-18</td>\n",
       "    </tr>\n",
       "    <tr>\n",
       "      <th>2</th>\n",
       "      <td>01</td>\n",
       "      <td>ATLANTIC</td>\n",
       "      <td>0110</td>\n",
       "      <td>ATLANTIC CITY</td>\n",
       "      <td>010</td>\n",
       "      <td>ATLANTIC CITY HIGH SCHOOL</td>\n",
       "      <td>177</td>\n",
       "      <td>9.7</td>\n",
       "      <td>195</td>\n",
       "      <td>10.6</td>\n",
       "      <td>196</td>\n",
       "      <td>10.7</td>\n",
       "      <td>9999999</td>\n",
       "      <td>9999999.0</td>\n",
       "      <td>0</td>\n",
       "      <td>0.0</td>\n",
       "      <td>9999999</td>\n",
       "      <td>9999999.0</td>\n",
       "      <td>2124</td>\n",
       "      <td>2017-18</td>\n",
       "    </tr>\n",
       "    <tr>\n",
       "      <th>3</th>\n",
       "      <td>01</td>\n",
       "      <td>ATLANTIC</td>\n",
       "      <td>0110</td>\n",
       "      <td>ATLANTIC CITY</td>\n",
       "      <td>030</td>\n",
       "      <td>SOVEREIGN AVENUE SCHOOL</td>\n",
       "      <td>0</td>\n",
       "      <td>0.0</td>\n",
       "      <td>22</td>\n",
       "      <td>3.0</td>\n",
       "      <td>22</td>\n",
       "      <td>3.0</td>\n",
       "      <td>0</td>\n",
       "      <td>0.0</td>\n",
       "      <td>0</td>\n",
       "      <td>0.0</td>\n",
       "      <td>0</td>\n",
       "      <td>0.0</td>\n",
       "      <td>39</td>\n",
       "      <td>2017-18</td>\n",
       "    </tr>\n",
       "    <tr>\n",
       "      <th>4</th>\n",
       "      <td>01</td>\n",
       "      <td>ATLANTIC</td>\n",
       "      <td>0110</td>\n",
       "      <td>ATLANTIC CITY</td>\n",
       "      <td>050</td>\n",
       "      <td>CHELSEA HEIGHTS SCHOOL</td>\n",
       "      <td>0</td>\n",
       "      <td>0.0</td>\n",
       "      <td>9999999</td>\n",
       "      <td>9999999.0</td>\n",
       "      <td>9999999</td>\n",
       "      <td>9999999.0</td>\n",
       "      <td>0</td>\n",
       "      <td>0.0</td>\n",
       "      <td>0</td>\n",
       "      <td>0.0</td>\n",
       "      <td>0</td>\n",
       "      <td>0.0</td>\n",
       "      <td>9999999</td>\n",
       "      <td>2017-18</td>\n",
       "    </tr>\n",
       "  </tbody>\n",
       "</table>\n",
       "</div>"
      ],
      "text/plain": [
       "  CountyCode CountyName DistrictCode   DistrictName SchoolCode  \\\n",
       "0         01   ATLANTIC         0010   ABSECON CITY        050   \n",
       "1         01   ATLANTIC         0010   ABSECON CITY        060   \n",
       "2         01   ATLANTIC         0110  ATLANTIC CITY        010   \n",
       "3         01   ATLANTIC         0110  ATLANTIC CITY        030   \n",
       "4         01   ATLANTIC         0110  ATLANTIC CITY        050   \n",
       "\n",
       "                  SchoolName  InSchool_Count  InSchool_Pct  OutofSchool_Count  \\\n",
       "0             EMMA C ATTALES              11           2.9                 10   \n",
       "1             H ASHTON MARSH         9999999     9999999.0                 11   \n",
       "2  ATLANTIC CITY HIGH SCHOOL             177           9.7                195   \n",
       "3    SOVEREIGN AVENUE SCHOOL               0           0.0                 22   \n",
       "4     CHELSEA HEIGHTS SCHOOL               0           0.0            9999999   \n",
       "\n",
       "   OutofSchool_Pct  AnySusp_Count  AnySusp_Pct  Removal_Count  Removal_Pct  \\\n",
       "0              2.7             19          5.1              0          0.0   \n",
       "1              2.2             12          2.4              0          0.0   \n",
       "2             10.6            196         10.7        9999999    9999999.0   \n",
       "3              3.0             22          3.0              0          0.0   \n",
       "4        9999999.0        9999999    9999999.0              0          0.0   \n",
       "\n",
       "   Expulsion_Count  Expulsion_Pct  Arrest_Count  Arrest_Pct  \\\n",
       "0                0            0.0             0         0.0   \n",
       "1                0            0.0             0         0.0   \n",
       "2                0            0.0       9999999   9999999.0   \n",
       "3                0            0.0             0         0.0   \n",
       "4                0            0.0             0         0.0   \n",
       "\n",
       "   SchoolDaysMissed_OSS     Year  \n",
       "0                    12  2017-18  \n",
       "1                    18  2017-18  \n",
       "2                  2124  2017-18  \n",
       "3                    39  2017-18  \n",
       "4               9999999  2017-18  "
      ]
     },
     "execution_count": 14,
     "metadata": {},
     "output_type": "execute_result"
    }
   ],
   "source": [
    "df.head()"
   ]
  },
  {
   "cell_type": "code",
   "execution_count": 15,
   "metadata": {},
   "outputs": [],
   "source": [
    "#df1.to_csv(df1.csv)\n",
    "df.to_csv('DisciplinaryRemovals.csv', encoding='utf-8', index=False)"
   ]
  },
  {
   "cell_type": "code",
   "execution_count": null,
   "metadata": {},
   "outputs": [],
   "source": [
    "#x= df1.to_excel('output1.xlsx')  # doctest: +SKIP"
   ]
  }
 ],
 "metadata": {
  "kernelspec": {
   "display_name": "Python 3",
   "language": "python",
   "name": "python3"
  },
  "language_info": {
   "codemirror_mode": {
    "name": "ipython",
    "version": 3
   },
   "file_extension": ".py",
   "mimetype": "text/x-python",
   "name": "python",
   "nbconvert_exporter": "python",
   "pygments_lexer": "ipython3",
   "version": "3.7.3"
  }
 },
 "nbformat": 4,
 "nbformat_minor": 2
}
