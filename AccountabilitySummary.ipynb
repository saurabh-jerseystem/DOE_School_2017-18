{
 "cells": [
  {
   "cell_type": "code",
   "execution_count": 1,
   "metadata": {},
   "outputs": [
    {
     "data": {
      "text/html": [
       "<div>\n",
       "<style scoped>\n",
       "    .dataframe tbody tr th:only-of-type {\n",
       "        vertical-align: middle;\n",
       "    }\n",
       "\n",
       "    .dataframe tbody tr th {\n",
       "        vertical-align: top;\n",
       "    }\n",
       "\n",
       "    .dataframe thead th {\n",
       "        text-align: right;\n",
       "    }\n",
       "</style>\n",
       "<table border=\"1\" class=\"dataframe\">\n",
       "  <thead>\n",
       "    <tr style=\"text-align: right;\">\n",
       "      <th></th>\n",
       "      <th>CountyCode</th>\n",
       "      <th>CountyName</th>\n",
       "      <th>DistrictCode</th>\n",
       "      <th>DistrictName</th>\n",
       "      <th>SchoolCode</th>\n",
       "      <th>SchoolName</th>\n",
       "      <th>StudentGroup</th>\n",
       "      <th>SummativeScore</th>\n",
       "      <th>CutOffScoreTargetedSupImp</th>\n",
       "      <th>Targeted_LowPerf</th>\n",
       "      <th>ELAProf_MetTarget</th>\n",
       "      <th>MathProf_MetTarget</th>\n",
       "      <th>Grad4YR_MetTarget</th>\n",
       "      <th>Grad5YR_MetTarget</th>\n",
       "      <th>ELAGrowth_MetStandard</th>\n",
       "      <th>MathGrowth_MetStandard</th>\n",
       "      <th>ELP_MetTarget</th>\n",
       "      <th>CA_MetAverage</th>\n",
       "      <th>Targeted_ConsUnderPerf</th>\n",
       "    </tr>\n",
       "  </thead>\n",
       "  <tbody>\n",
       "    <tr>\n",
       "      <th>0</th>\n",
       "      <td>01</td>\n",
       "      <td>ATLANTIC</td>\n",
       "      <td>0010</td>\n",
       "      <td>ABSECON CITY</td>\n",
       "      <td>050</td>\n",
       "      <td>EMMA C ATTALES</td>\n",
       "      <td>Schoolwide</td>\n",
       "      <td>N</td>\n",
       "      <td>N</td>\n",
       "      <td>No</td>\n",
       "      <td>Met Target†</td>\n",
       "      <td>Not Met</td>\n",
       "      <td>N</td>\n",
       "      <td>N</td>\n",
       "      <td>Met Standard</td>\n",
       "      <td>Met Standard</td>\n",
       "      <td>**</td>\n",
       "      <td>Met</td>\n",
       "      <td>No</td>\n",
       "    </tr>\n",
       "    <tr>\n",
       "      <th>1</th>\n",
       "      <td>01</td>\n",
       "      <td>ATLANTIC</td>\n",
       "      <td>0010</td>\n",
       "      <td>ABSECON CITY</td>\n",
       "      <td>050</td>\n",
       "      <td>EMMA C ATTALES</td>\n",
       "      <td>White</td>\n",
       "      <td>43.64</td>\n",
       "      <td>14.08</td>\n",
       "      <td>No</td>\n",
       "      <td>Met Target</td>\n",
       "      <td>Met Target†</td>\n",
       "      <td>N</td>\n",
       "      <td>N</td>\n",
       "      <td>Met Standard</td>\n",
       "      <td>Met Standard</td>\n",
       "      <td>N</td>\n",
       "      <td>Met</td>\n",
       "      <td>No</td>\n",
       "    </tr>\n",
       "  </tbody>\n",
       "</table>\n",
       "</div>"
      ],
      "text/plain": [
       "  CountyCode CountyName DistrictCode  DistrictName SchoolCode      SchoolName  \\\n",
       "0         01   ATLANTIC         0010  ABSECON CITY        050  EMMA C ATTALES   \n",
       "1         01   ATLANTIC         0010  ABSECON CITY        050  EMMA C ATTALES   \n",
       "\n",
       "  StudentGroup SummativeScore CutOffScoreTargetedSupImp Targeted_LowPerf  \\\n",
       "0   Schoolwide              N                         N               No   \n",
       "1        White          43.64                     14.08               No   \n",
       "\n",
       "  ELAProf_MetTarget MathProf_MetTarget Grad4YR_MetTarget Grad5YR_MetTarget  \\\n",
       "0       Met Target†            Not Met                 N                 N   \n",
       "1        Met Target        Met Target†                 N                 N   \n",
       "\n",
       "  ELAGrowth_MetStandard MathGrowth_MetStandard ELP_MetTarget CA_MetAverage  \\\n",
       "0          Met Standard           Met Standard            **           Met   \n",
       "1          Met Standard           Met Standard             N           Met   \n",
       "\n",
       "  Targeted_ConsUnderPerf  \n",
       "0                     No  \n",
       "1                     No  "
      ]
     },
     "execution_count": 1,
     "metadata": {},
     "output_type": "execute_result"
    }
   ],
   "source": [
    "import os\n",
    "import pandas as pd\n",
    "import numpy as np\n",
    "\n",
    "#df = pd.read_excel('narrative_raw.xlsx')\n",
    "df = pd.read_csv('raw1.csv',index_col = False, dtype = {\"CountyCode\": str,\"DistrictCode\": str,\"SchoolCode\": str})\n",
    "df.head(2)"
   ]
  },
  {
   "cell_type": "markdown",
   "metadata": {},
   "source": [
    "### Check number of columns and rows"
   ]
  },
  {
   "cell_type": "code",
   "execution_count": 2,
   "metadata": {},
   "outputs": [
    {
     "data": {
      "text/plain": [
       "(22380, 19)"
      ]
     },
     "execution_count": 2,
     "metadata": {},
     "output_type": "execute_result"
    }
   ],
   "source": [
    "df.shape"
   ]
  },
  {
   "cell_type": "markdown",
   "metadata": {},
   "source": [
    "### Adding columns from 2016-17 table"
   ]
  },
  {
   "cell_type": "code",
   "execution_count": 3,
   "metadata": {},
   "outputs": [],
   "source": [
    "df['RequiresTargetedSupImp'] = 'NA'\n",
    "df['ELAProficiency'] = 'NA'\n",
    "df['MathProficiency'] = 'NA'\n",
    "df['SGP_ELA'] = 'NA'\n",
    "df['SGP_Math'] = 'NA'\n",
    "df['ChronicAbs'] = 'NA'\n",
    "df['GradRate4'] = 'NA'\n",
    "df['GradRate5'] = 'NA'\n",
    "df['AtRisk'] = 'NA'\n",
    "df['Year'] = '2017-18'"
   ]
  },
  {
   "cell_type": "markdown",
   "metadata": {},
   "source": [
    "### Check if columns are added properly"
   ]
  },
  {
   "cell_type": "code",
   "execution_count": 4,
   "metadata": {
    "scrolled": true
   },
   "outputs": [
    {
     "data": {
      "text/html": [
       "<div>\n",
       "<style scoped>\n",
       "    .dataframe tbody tr th:only-of-type {\n",
       "        vertical-align: middle;\n",
       "    }\n",
       "\n",
       "    .dataframe tbody tr th {\n",
       "        vertical-align: top;\n",
       "    }\n",
       "\n",
       "    .dataframe thead th {\n",
       "        text-align: right;\n",
       "    }\n",
       "</style>\n",
       "<table border=\"1\" class=\"dataframe\">\n",
       "  <thead>\n",
       "    <tr style=\"text-align: right;\">\n",
       "      <th></th>\n",
       "      <th>CountyCode</th>\n",
       "      <th>CountyName</th>\n",
       "      <th>DistrictCode</th>\n",
       "      <th>DistrictName</th>\n",
       "      <th>SchoolCode</th>\n",
       "      <th>SchoolName</th>\n",
       "      <th>StudentGroup</th>\n",
       "      <th>SummativeScore</th>\n",
       "      <th>CutOffScoreTargetedSupImp</th>\n",
       "      <th>Targeted_LowPerf</th>\n",
       "      <th>...</th>\n",
       "      <th>RequiresTargetedSupImp</th>\n",
       "      <th>ELAProficiency</th>\n",
       "      <th>MathProficiency</th>\n",
       "      <th>SGP_ELA</th>\n",
       "      <th>SGP_Math</th>\n",
       "      <th>ChronicAbs</th>\n",
       "      <th>GradRate4</th>\n",
       "      <th>GradRate5</th>\n",
       "      <th>AtRisk</th>\n",
       "      <th>Year</th>\n",
       "    </tr>\n",
       "  </thead>\n",
       "  <tbody>\n",
       "    <tr>\n",
       "      <th>0</th>\n",
       "      <td>01</td>\n",
       "      <td>ATLANTIC</td>\n",
       "      <td>0010</td>\n",
       "      <td>ABSECON CITY</td>\n",
       "      <td>050</td>\n",
       "      <td>EMMA C ATTALES</td>\n",
       "      <td>Schoolwide</td>\n",
       "      <td>N</td>\n",
       "      <td>N</td>\n",
       "      <td>No</td>\n",
       "      <td>...</td>\n",
       "      <td>NA</td>\n",
       "      <td>NA</td>\n",
       "      <td>NA</td>\n",
       "      <td>NA</td>\n",
       "      <td>NA</td>\n",
       "      <td>NA</td>\n",
       "      <td>NA</td>\n",
       "      <td>NA</td>\n",
       "      <td>NA</td>\n",
       "      <td>2017-18</td>\n",
       "    </tr>\n",
       "    <tr>\n",
       "      <th>1</th>\n",
       "      <td>01</td>\n",
       "      <td>ATLANTIC</td>\n",
       "      <td>0010</td>\n",
       "      <td>ABSECON CITY</td>\n",
       "      <td>050</td>\n",
       "      <td>EMMA C ATTALES</td>\n",
       "      <td>White</td>\n",
       "      <td>43.64</td>\n",
       "      <td>14.08</td>\n",
       "      <td>No</td>\n",
       "      <td>...</td>\n",
       "      <td>NA</td>\n",
       "      <td>NA</td>\n",
       "      <td>NA</td>\n",
       "      <td>NA</td>\n",
       "      <td>NA</td>\n",
       "      <td>NA</td>\n",
       "      <td>NA</td>\n",
       "      <td>NA</td>\n",
       "      <td>NA</td>\n",
       "      <td>2017-18</td>\n",
       "    </tr>\n",
       "  </tbody>\n",
       "</table>\n",
       "<p>2 rows × 29 columns</p>\n",
       "</div>"
      ],
      "text/plain": [
       "  CountyCode CountyName DistrictCode  DistrictName SchoolCode      SchoolName  \\\n",
       "0         01   ATLANTIC         0010  ABSECON CITY        050  EMMA C ATTALES   \n",
       "1         01   ATLANTIC         0010  ABSECON CITY        050  EMMA C ATTALES   \n",
       "\n",
       "  StudentGroup SummativeScore CutOffScoreTargetedSupImp Targeted_LowPerf  ...  \\\n",
       "0   Schoolwide              N                         N               No  ...   \n",
       "1        White          43.64                     14.08               No  ...   \n",
       "\n",
       "  RequiresTargetedSupImp ELAProficiency MathProficiency SGP_ELA SGP_Math  \\\n",
       "0                     NA             NA              NA      NA       NA   \n",
       "1                     NA             NA              NA      NA       NA   \n",
       "\n",
       "  ChronicAbs GradRate4 GradRate5 AtRisk     Year  \n",
       "0         NA        NA        NA     NA  2017-18  \n",
       "1         NA        NA        NA     NA  2017-18  \n",
       "\n",
       "[2 rows x 29 columns]"
      ]
     },
     "execution_count": 4,
     "metadata": {},
     "output_type": "execute_result"
    }
   ],
   "source": [
    "df.head(2)"
   ]
  },
  {
   "cell_type": "markdown",
   "metadata": {},
   "source": [
    "### Check missing values"
   ]
  },
  {
   "cell_type": "code",
   "execution_count": 5,
   "metadata": {
    "scrolled": true
   },
   "outputs": [
    {
     "data": {
      "text/plain": [
       "CountyCode                   0\n",
       "CountyName                   0\n",
       "DistrictCode                 0\n",
       "DistrictName                 0\n",
       "SchoolCode                   0\n",
       "SchoolName                   0\n",
       "StudentGroup                 0\n",
       "SummativeScore               0\n",
       "CutOffScoreTargetedSupImp    0\n",
       "Targeted_LowPerf             0\n",
       "ELAProf_MetTarget            0\n",
       "MathProf_MetTarget           0\n",
       "Grad4YR_MetTarget            0\n",
       "Grad5YR_MetTarget            0\n",
       "ELAGrowth_MetStandard        0\n",
       "MathGrowth_MetStandard       0\n",
       "ELP_MetTarget                0\n",
       "CA_MetAverage                0\n",
       "Targeted_ConsUnderPerf       0\n",
       "RequiresTargetedSupImp       0\n",
       "ELAProficiency               0\n",
       "MathProficiency              0\n",
       "SGP_ELA                      0\n",
       "SGP_Math                     0\n",
       "ChronicAbs                   0\n",
       "GradRate4                    0\n",
       "GradRate5                    0\n",
       "AtRisk                       0\n",
       "Year                         0\n",
       "dtype: int64"
      ]
     },
     "execution_count": 5,
     "metadata": {},
     "output_type": "execute_result"
    }
   ],
   "source": [
    "df.isnull().sum()"
   ]
  },
  {
   "cell_type": "markdown",
   "metadata": {},
   "source": [
    "### Fill missing values"
   ]
  },
  {
   "cell_type": "code",
   "execution_count": null,
   "metadata": {},
   "outputs": [],
   "source": [
    "#df = df.fillna('NA')"
   ]
  },
  {
   "cell_type": "markdown",
   "metadata": {},
   "source": [
    "### Check again if missing values are dealt properly"
   ]
  },
  {
   "cell_type": "code",
   "execution_count": 6,
   "metadata": {},
   "outputs": [
    {
     "data": {
      "text/plain": [
       "CountyCode                   0\n",
       "CountyName                   0\n",
       "DistrictCode                 0\n",
       "DistrictName                 0\n",
       "SchoolCode                   0\n",
       "SchoolName                   0\n",
       "StudentGroup                 0\n",
       "SummativeScore               0\n",
       "CutOffScoreTargetedSupImp    0\n",
       "Targeted_LowPerf             0\n",
       "ELAProf_MetTarget            0\n",
       "MathProf_MetTarget           0\n",
       "Grad4YR_MetTarget            0\n",
       "Grad5YR_MetTarget            0\n",
       "ELAGrowth_MetStandard        0\n",
       "MathGrowth_MetStandard       0\n",
       "ELP_MetTarget                0\n",
       "CA_MetAverage                0\n",
       "Targeted_ConsUnderPerf       0\n",
       "RequiresTargetedSupImp       0\n",
       "ELAProficiency               0\n",
       "MathProficiency              0\n",
       "SGP_ELA                      0\n",
       "SGP_Math                     0\n",
       "ChronicAbs                   0\n",
       "GradRate4                    0\n",
       "GradRate5                    0\n",
       "AtRisk                       0\n",
       "Year                         0\n",
       "dtype: int64"
      ]
     },
     "execution_count": 6,
     "metadata": {},
     "output_type": "execute_result"
    }
   ],
   "source": [
    "df.isnull().sum()"
   ]
  },
  {
   "cell_type": "markdown",
   "metadata": {},
   "source": [
    "### Check for meaningless values such as '**','N'\n"
   ]
  },
  {
   "cell_type": "code",
   "execution_count": 7,
   "metadata": {},
   "outputs": [],
   "source": [
    "df['SummativeScore'] = df['SummativeScore'].replace('**',9999999)\n",
    "df['CutOffScoreTargetedSupImp'] = df['CutOffScoreTargetedSupImp'].replace('**',9999999)\n",
    "\n",
    "df['SummativeScore'] = df['SummativeScore'].replace('N',9999999)\n",
    "df['CutOffScoreTargetedSupImp'] = df['CutOffScoreTargetedSupImp'].replace('N',9999999)\n"
   ]
  },
  {
   "cell_type": "code",
   "execution_count": null,
   "metadata": {},
   "outputs": [],
   "source": []
  },
  {
   "cell_type": "markdown",
   "metadata": {},
   "source": [
    "### Check Data types of all columns"
   ]
  },
  {
   "cell_type": "code",
   "execution_count": 8,
   "metadata": {
    "scrolled": true
   },
   "outputs": [
    {
     "data": {
      "text/plain": [
       "CountyCode                   object\n",
       "CountyName                   object\n",
       "DistrictCode                 object\n",
       "DistrictName                 object\n",
       "SchoolCode                   object\n",
       "SchoolName                   object\n",
       "StudentGroup                 object\n",
       "SummativeScore               object\n",
       "CutOffScoreTargetedSupImp    object\n",
       "Targeted_LowPerf             object\n",
       "ELAProf_MetTarget            object\n",
       "MathProf_MetTarget           object\n",
       "Grad4YR_MetTarget            object\n",
       "Grad5YR_MetTarget            object\n",
       "ELAGrowth_MetStandard        object\n",
       "MathGrowth_MetStandard       object\n",
       "ELP_MetTarget                object\n",
       "CA_MetAverage                object\n",
       "Targeted_ConsUnderPerf       object\n",
       "RequiresTargetedSupImp       object\n",
       "ELAProficiency               object\n",
       "MathProficiency              object\n",
       "SGP_ELA                      object\n",
       "SGP_Math                     object\n",
       "ChronicAbs                   object\n",
       "GradRate4                    object\n",
       "GradRate5                    object\n",
       "AtRisk                       object\n",
       "Year                         object\n",
       "dtype: object"
      ]
     },
     "execution_count": 8,
     "metadata": {},
     "output_type": "execute_result"
    }
   ],
   "source": [
    "df.dtypes"
   ]
  },
  {
   "cell_type": "markdown",
   "metadata": {},
   "source": [
    "### Change Data types "
   ]
  },
  {
   "cell_type": "code",
   "execution_count": 9,
   "metadata": {},
   "outputs": [],
   "source": [
    "df[\"SummativeScore\"] = df[\"SummativeScore\"].astype(float)\n",
    "df[\"CutOffScoreTargetedSupImp\"] = df[\"CutOffScoreTargetedSupImp\"].astype(float)"
   ]
  },
  {
   "cell_type": "markdown",
   "metadata": {},
   "source": [
    "### Check the changed data types"
   ]
  },
  {
   "cell_type": "code",
   "execution_count": 10,
   "metadata": {},
   "outputs": [
    {
     "data": {
      "text/plain": [
       "CountyCode                    object\n",
       "CountyName                    object\n",
       "DistrictCode                  object\n",
       "DistrictName                  object\n",
       "SchoolCode                    object\n",
       "SchoolName                    object\n",
       "StudentGroup                  object\n",
       "SummativeScore               float64\n",
       "CutOffScoreTargetedSupImp    float64\n",
       "Targeted_LowPerf              object\n",
       "ELAProf_MetTarget             object\n",
       "MathProf_MetTarget            object\n",
       "Grad4YR_MetTarget             object\n",
       "Grad5YR_MetTarget             object\n",
       "ELAGrowth_MetStandard         object\n",
       "MathGrowth_MetStandard        object\n",
       "ELP_MetTarget                 object\n",
       "CA_MetAverage                 object\n",
       "Targeted_ConsUnderPerf        object\n",
       "RequiresTargetedSupImp        object\n",
       "ELAProficiency                object\n",
       "MathProficiency               object\n",
       "SGP_ELA                       object\n",
       "SGP_Math                      object\n",
       "ChronicAbs                    object\n",
       "GradRate4                     object\n",
       "GradRate5                     object\n",
       "AtRisk                        object\n",
       "Year                          object\n",
       "dtype: object"
      ]
     },
     "execution_count": 10,
     "metadata": {},
     "output_type": "execute_result"
    }
   ],
   "source": [
    "df.dtypes"
   ]
  },
  {
   "cell_type": "markdown",
   "metadata": {},
   "source": [
    "### Get a look at final data"
   ]
  },
  {
   "cell_type": "code",
   "execution_count": 11,
   "metadata": {},
   "outputs": [
    {
     "data": {
      "text/html": [
       "<div>\n",
       "<style scoped>\n",
       "    .dataframe tbody tr th:only-of-type {\n",
       "        vertical-align: middle;\n",
       "    }\n",
       "\n",
       "    .dataframe tbody tr th {\n",
       "        vertical-align: top;\n",
       "    }\n",
       "\n",
       "    .dataframe thead th {\n",
       "        text-align: right;\n",
       "    }\n",
       "</style>\n",
       "<table border=\"1\" class=\"dataframe\">\n",
       "  <thead>\n",
       "    <tr style=\"text-align: right;\">\n",
       "      <th></th>\n",
       "      <th>CountyCode</th>\n",
       "      <th>CountyName</th>\n",
       "      <th>DistrictCode</th>\n",
       "      <th>DistrictName</th>\n",
       "      <th>SchoolCode</th>\n",
       "      <th>SchoolName</th>\n",
       "      <th>StudentGroup</th>\n",
       "      <th>SummativeScore</th>\n",
       "      <th>CutOffScoreTargetedSupImp</th>\n",
       "      <th>Targeted_LowPerf</th>\n",
       "      <th>...</th>\n",
       "      <th>RequiresTargetedSupImp</th>\n",
       "      <th>ELAProficiency</th>\n",
       "      <th>MathProficiency</th>\n",
       "      <th>SGP_ELA</th>\n",
       "      <th>SGP_Math</th>\n",
       "      <th>ChronicAbs</th>\n",
       "      <th>GradRate4</th>\n",
       "      <th>GradRate5</th>\n",
       "      <th>AtRisk</th>\n",
       "      <th>Year</th>\n",
       "    </tr>\n",
       "  </thead>\n",
       "  <tbody>\n",
       "    <tr>\n",
       "      <th>0</th>\n",
       "      <td>01</td>\n",
       "      <td>ATLANTIC</td>\n",
       "      <td>0010</td>\n",
       "      <td>ABSECON CITY</td>\n",
       "      <td>050</td>\n",
       "      <td>EMMA C ATTALES</td>\n",
       "      <td>Schoolwide</td>\n",
       "      <td>9999999.00</td>\n",
       "      <td>9999999.00</td>\n",
       "      <td>No</td>\n",
       "      <td>...</td>\n",
       "      <td>NA</td>\n",
       "      <td>NA</td>\n",
       "      <td>NA</td>\n",
       "      <td>NA</td>\n",
       "      <td>NA</td>\n",
       "      <td>NA</td>\n",
       "      <td>NA</td>\n",
       "      <td>NA</td>\n",
       "      <td>NA</td>\n",
       "      <td>2017-18</td>\n",
       "    </tr>\n",
       "    <tr>\n",
       "      <th>1</th>\n",
       "      <td>01</td>\n",
       "      <td>ATLANTIC</td>\n",
       "      <td>0010</td>\n",
       "      <td>ABSECON CITY</td>\n",
       "      <td>050</td>\n",
       "      <td>EMMA C ATTALES</td>\n",
       "      <td>White</td>\n",
       "      <td>43.64</td>\n",
       "      <td>14.08</td>\n",
       "      <td>No</td>\n",
       "      <td>...</td>\n",
       "      <td>NA</td>\n",
       "      <td>NA</td>\n",
       "      <td>NA</td>\n",
       "      <td>NA</td>\n",
       "      <td>NA</td>\n",
       "      <td>NA</td>\n",
       "      <td>NA</td>\n",
       "      <td>NA</td>\n",
       "      <td>NA</td>\n",
       "      <td>2017-18</td>\n",
       "    </tr>\n",
       "    <tr>\n",
       "      <th>2</th>\n",
       "      <td>01</td>\n",
       "      <td>ATLANTIC</td>\n",
       "      <td>0010</td>\n",
       "      <td>ABSECON CITY</td>\n",
       "      <td>050</td>\n",
       "      <td>EMMA C ATTALES</td>\n",
       "      <td>Hispanic</td>\n",
       "      <td>30.59</td>\n",
       "      <td>14.08</td>\n",
       "      <td>No</td>\n",
       "      <td>...</td>\n",
       "      <td>NA</td>\n",
       "      <td>NA</td>\n",
       "      <td>NA</td>\n",
       "      <td>NA</td>\n",
       "      <td>NA</td>\n",
       "      <td>NA</td>\n",
       "      <td>NA</td>\n",
       "      <td>NA</td>\n",
       "      <td>NA</td>\n",
       "      <td>2017-18</td>\n",
       "    </tr>\n",
       "    <tr>\n",
       "      <th>3</th>\n",
       "      <td>01</td>\n",
       "      <td>ATLANTIC</td>\n",
       "      <td>0010</td>\n",
       "      <td>ABSECON CITY</td>\n",
       "      <td>050</td>\n",
       "      <td>EMMA C ATTALES</td>\n",
       "      <td>Black or African American</td>\n",
       "      <td>51.79</td>\n",
       "      <td>14.08</td>\n",
       "      <td>No</td>\n",
       "      <td>...</td>\n",
       "      <td>NA</td>\n",
       "      <td>NA</td>\n",
       "      <td>NA</td>\n",
       "      <td>NA</td>\n",
       "      <td>NA</td>\n",
       "      <td>NA</td>\n",
       "      <td>NA</td>\n",
       "      <td>NA</td>\n",
       "      <td>NA</td>\n",
       "      <td>2017-18</td>\n",
       "    </tr>\n",
       "    <tr>\n",
       "      <th>4</th>\n",
       "      <td>01</td>\n",
       "      <td>ATLANTIC</td>\n",
       "      <td>0010</td>\n",
       "      <td>ABSECON CITY</td>\n",
       "      <td>050</td>\n",
       "      <td>EMMA C ATTALES</td>\n",
       "      <td>Asian, Native Hawaiian, or Pacific Islander</td>\n",
       "      <td>9999999.00</td>\n",
       "      <td>9999999.00</td>\n",
       "      <td>No</td>\n",
       "      <td>...</td>\n",
       "      <td>NA</td>\n",
       "      <td>NA</td>\n",
       "      <td>NA</td>\n",
       "      <td>NA</td>\n",
       "      <td>NA</td>\n",
       "      <td>NA</td>\n",
       "      <td>NA</td>\n",
       "      <td>NA</td>\n",
       "      <td>NA</td>\n",
       "      <td>2017-18</td>\n",
       "    </tr>\n",
       "  </tbody>\n",
       "</table>\n",
       "<p>5 rows × 29 columns</p>\n",
       "</div>"
      ],
      "text/plain": [
       "  CountyCode CountyName DistrictCode  DistrictName SchoolCode      SchoolName  \\\n",
       "0         01   ATLANTIC         0010  ABSECON CITY        050  EMMA C ATTALES   \n",
       "1         01   ATLANTIC         0010  ABSECON CITY        050  EMMA C ATTALES   \n",
       "2         01   ATLANTIC         0010  ABSECON CITY        050  EMMA C ATTALES   \n",
       "3         01   ATLANTIC         0010  ABSECON CITY        050  EMMA C ATTALES   \n",
       "4         01   ATLANTIC         0010  ABSECON CITY        050  EMMA C ATTALES   \n",
       "\n",
       "                                  StudentGroup  SummativeScore  \\\n",
       "0                                   Schoolwide      9999999.00   \n",
       "1                                        White           43.64   \n",
       "2                                     Hispanic           30.59   \n",
       "3                    Black or African American           51.79   \n",
       "4  Asian, Native Hawaiian, or Pacific Islander      9999999.00   \n",
       "\n",
       "   CutOffScoreTargetedSupImp Targeted_LowPerf  ... RequiresTargetedSupImp  \\\n",
       "0                 9999999.00               No  ...                     NA   \n",
       "1                      14.08               No  ...                     NA   \n",
       "2                      14.08               No  ...                     NA   \n",
       "3                      14.08               No  ...                     NA   \n",
       "4                 9999999.00               No  ...                     NA   \n",
       "\n",
       "  ELAProficiency MathProficiency SGP_ELA SGP_Math ChronicAbs GradRate4  \\\n",
       "0             NA              NA      NA       NA         NA        NA   \n",
       "1             NA              NA      NA       NA         NA        NA   \n",
       "2             NA              NA      NA       NA         NA        NA   \n",
       "3             NA              NA      NA       NA         NA        NA   \n",
       "4             NA              NA      NA       NA         NA        NA   \n",
       "\n",
       "  GradRate5 AtRisk     Year  \n",
       "0        NA     NA  2017-18  \n",
       "1        NA     NA  2017-18  \n",
       "2        NA     NA  2017-18  \n",
       "3        NA     NA  2017-18  \n",
       "4        NA     NA  2017-18  \n",
       "\n",
       "[5 rows x 29 columns]"
      ]
     },
     "execution_count": 11,
     "metadata": {},
     "output_type": "execute_result"
    }
   ],
   "source": [
    "df.head()"
   ]
  },
  {
   "cell_type": "code",
   "execution_count": 12,
   "metadata": {},
   "outputs": [],
   "source": [
    "#df1.to_csv(df1.csv)\n",
    "df.to_csv('AccountabilitySummary.csv', encoding='utf-8', index=False)"
   ]
  },
  {
   "cell_type": "code",
   "execution_count": null,
   "metadata": {},
   "outputs": [],
   "source": [
    "#x= df1.to_excel('output1.xlsx')  # doctest: +SKIP"
   ]
  }
 ],
 "metadata": {
  "kernelspec": {
   "display_name": "Python 3",
   "language": "python",
   "name": "python3"
  },
  "language_info": {
   "codemirror_mode": {
    "name": "ipython",
    "version": 3
   },
   "file_extension": ".py",
   "mimetype": "text/x-python",
   "name": "python",
   "nbconvert_exporter": "python",
   "pygments_lexer": "ipython3",
   "version": "3.7.3"
  }
 },
 "nbformat": 4,
 "nbformat_minor": 2
}
