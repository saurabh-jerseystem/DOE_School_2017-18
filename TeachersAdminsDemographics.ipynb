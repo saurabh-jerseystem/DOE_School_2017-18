{
 "cells": [
  {
   "cell_type": "code",
   "execution_count": 2,
   "metadata": {},
   "outputs": [
    {
     "data": {
      "text/html": [
       "<div>\n",
       "<style scoped>\n",
       "    .dataframe tbody tr th:only-of-type {\n",
       "        vertical-align: middle;\n",
       "    }\n",
       "\n",
       "    .dataframe tbody tr th {\n",
       "        vertical-align: top;\n",
       "    }\n",
       "\n",
       "    .dataframe thead th {\n",
       "        text-align: right;\n",
       "    }\n",
       "</style>\n",
       "<table border=\"1\" class=\"dataframe\">\n",
       "  <thead>\n",
       "    <tr style=\"text-align: right;\">\n",
       "      <th></th>\n",
       "      <th>CountyCode</th>\n",
       "      <th>CountyName</th>\n",
       "      <th>DistrictCode</th>\n",
       "      <th>DistrictName</th>\n",
       "      <th>SchoolCode</th>\n",
       "      <th>SchoolName</th>\n",
       "      <th>Teachers/Admins</th>\n",
       "      <th>Female</th>\n",
       "      <th>Male</th>\n",
       "      <th>White</th>\n",
       "      <th>Hispanic</th>\n",
       "      <th>Black or African American</th>\n",
       "      <th>Asian</th>\n",
       "      <th>American Indian or Alaska Native</th>\n",
       "      <th>Native Hawaiian or Pacific Islander</th>\n",
       "      <th>Two or More Races</th>\n",
       "    </tr>\n",
       "  </thead>\n",
       "  <tbody>\n",
       "    <tr>\n",
       "      <th>0</th>\n",
       "      <td>01</td>\n",
       "      <td>ATLANTIC</td>\n",
       "      <td>0010</td>\n",
       "      <td>ABSECON CITY</td>\n",
       "      <td>050</td>\n",
       "      <td>EMMA C ATTALES</td>\n",
       "      <td>Admins</td>\n",
       "      <td>50.0</td>\n",
       "      <td>50.0</td>\n",
       "      <td>100.0</td>\n",
       "      <td>0.0</td>\n",
       "      <td>0.0</td>\n",
       "      <td>0.0</td>\n",
       "      <td>0.0</td>\n",
       "      <td>0.0</td>\n",
       "      <td>0.0</td>\n",
       "    </tr>\n",
       "    <tr>\n",
       "      <th>1</th>\n",
       "      <td>01</td>\n",
       "      <td>ATLANTIC</td>\n",
       "      <td>0010</td>\n",
       "      <td>ABSECON CITY</td>\n",
       "      <td>050</td>\n",
       "      <td>EMMA C ATTALES</td>\n",
       "      <td>Teachers</td>\n",
       "      <td>75.9</td>\n",
       "      <td>24.1</td>\n",
       "      <td>89.7</td>\n",
       "      <td>6.9</td>\n",
       "      <td>0.0</td>\n",
       "      <td>0.0</td>\n",
       "      <td>0.0</td>\n",
       "      <td>0.0</td>\n",
       "      <td>3.4</td>\n",
       "    </tr>\n",
       "  </tbody>\n",
       "</table>\n",
       "</div>"
      ],
      "text/plain": [
       "  CountyCode CountyName DistrictCode  DistrictName SchoolCode      SchoolName  \\\n",
       "0         01   ATLANTIC         0010  ABSECON CITY        050  EMMA C ATTALES   \n",
       "1         01   ATLANTIC         0010  ABSECON CITY        050  EMMA C ATTALES   \n",
       "\n",
       "  Teachers/Admins Female  Male  White Hispanic Black or African American  \\\n",
       "0          Admins   50.0  50.0  100.0      0.0                       0.0   \n",
       "1        Teachers   75.9  24.1   89.7      6.9                       0.0   \n",
       "\n",
       "  Asian American Indian or Alaska Native Native Hawaiian or Pacific Islander  \\\n",
       "0   0.0                              0.0                                 0.0   \n",
       "1   0.0                              0.0                                 0.0   \n",
       "\n",
       "  Two or More Races  \n",
       "0               0.0  \n",
       "1               3.4  "
      ]
     },
     "execution_count": 2,
     "metadata": {},
     "output_type": "execute_result"
    }
   ],
   "source": [
    "import os\n",
    "import pandas as pd\n",
    "import numpy as np\n",
    "\n",
    "#df = pd.read_excel('narrative_raw.xlsx')\n",
    "df = pd.read_csv('raw.csv',index_col = False, dtype = {\"CountyCode\": str,\"DistrictCode\": str,\"SchoolCode\": str})\n",
    "df.head(2)"
   ]
  },
  {
   "cell_type": "markdown",
   "metadata": {},
   "source": [
    "### Check number of columns and rows"
   ]
  },
  {
   "cell_type": "code",
   "execution_count": 3,
   "metadata": {},
   "outputs": [
    {
     "data": {
      "text/plain": [
       "(5038, 16)"
      ]
     },
     "execution_count": 3,
     "metadata": {},
     "output_type": "execute_result"
    }
   ],
   "source": [
    "df.shape"
   ]
  },
  {
   "cell_type": "markdown",
   "metadata": {},
   "source": [
    "### Adding columns from 2016-17 table"
   ]
  },
  {
   "cell_type": "code",
   "execution_count": 4,
   "metadata": {},
   "outputs": [],
   "source": [
    "df['Year'] = '2017-18'"
   ]
  },
  {
   "cell_type": "markdown",
   "metadata": {},
   "source": [
    "### Check if columns are added properly"
   ]
  },
  {
   "cell_type": "code",
   "execution_count": 5,
   "metadata": {
    "scrolled": true
   },
   "outputs": [
    {
     "data": {
      "text/html": [
       "<div>\n",
       "<style scoped>\n",
       "    .dataframe tbody tr th:only-of-type {\n",
       "        vertical-align: middle;\n",
       "    }\n",
       "\n",
       "    .dataframe tbody tr th {\n",
       "        vertical-align: top;\n",
       "    }\n",
       "\n",
       "    .dataframe thead th {\n",
       "        text-align: right;\n",
       "    }\n",
       "</style>\n",
       "<table border=\"1\" class=\"dataframe\">\n",
       "  <thead>\n",
       "    <tr style=\"text-align: right;\">\n",
       "      <th></th>\n",
       "      <th>CountyCode</th>\n",
       "      <th>CountyName</th>\n",
       "      <th>DistrictCode</th>\n",
       "      <th>DistrictName</th>\n",
       "      <th>SchoolCode</th>\n",
       "      <th>SchoolName</th>\n",
       "      <th>Teachers/Admins</th>\n",
       "      <th>Female</th>\n",
       "      <th>Male</th>\n",
       "      <th>White</th>\n",
       "      <th>Hispanic</th>\n",
       "      <th>Black or African American</th>\n",
       "      <th>Asian</th>\n",
       "      <th>American Indian or Alaska Native</th>\n",
       "      <th>Native Hawaiian or Pacific Islander</th>\n",
       "      <th>Two or More Races</th>\n",
       "      <th>Year</th>\n",
       "    </tr>\n",
       "  </thead>\n",
       "  <tbody>\n",
       "    <tr>\n",
       "      <th>0</th>\n",
       "      <td>01</td>\n",
       "      <td>ATLANTIC</td>\n",
       "      <td>0010</td>\n",
       "      <td>ABSECON CITY</td>\n",
       "      <td>050</td>\n",
       "      <td>EMMA C ATTALES</td>\n",
       "      <td>Admins</td>\n",
       "      <td>50.0</td>\n",
       "      <td>50.0</td>\n",
       "      <td>100.0</td>\n",
       "      <td>0.0</td>\n",
       "      <td>0.0</td>\n",
       "      <td>0.0</td>\n",
       "      <td>0.0</td>\n",
       "      <td>0.0</td>\n",
       "      <td>0.0</td>\n",
       "      <td>2017-18</td>\n",
       "    </tr>\n",
       "    <tr>\n",
       "      <th>1</th>\n",
       "      <td>01</td>\n",
       "      <td>ATLANTIC</td>\n",
       "      <td>0010</td>\n",
       "      <td>ABSECON CITY</td>\n",
       "      <td>050</td>\n",
       "      <td>EMMA C ATTALES</td>\n",
       "      <td>Teachers</td>\n",
       "      <td>75.9</td>\n",
       "      <td>24.1</td>\n",
       "      <td>89.7</td>\n",
       "      <td>6.9</td>\n",
       "      <td>0.0</td>\n",
       "      <td>0.0</td>\n",
       "      <td>0.0</td>\n",
       "      <td>0.0</td>\n",
       "      <td>3.4</td>\n",
       "      <td>2017-18</td>\n",
       "    </tr>\n",
       "  </tbody>\n",
       "</table>\n",
       "</div>"
      ],
      "text/plain": [
       "  CountyCode CountyName DistrictCode  DistrictName SchoolCode      SchoolName  \\\n",
       "0         01   ATLANTIC         0010  ABSECON CITY        050  EMMA C ATTALES   \n",
       "1         01   ATLANTIC         0010  ABSECON CITY        050  EMMA C ATTALES   \n",
       "\n",
       "  Teachers/Admins Female  Male  White Hispanic Black or African American  \\\n",
       "0          Admins   50.0  50.0  100.0      0.0                       0.0   \n",
       "1        Teachers   75.9  24.1   89.7      6.9                       0.0   \n",
       "\n",
       "  Asian American Indian or Alaska Native Native Hawaiian or Pacific Islander  \\\n",
       "0   0.0                              0.0                                 0.0   \n",
       "1   0.0                              0.0                                 0.0   \n",
       "\n",
       "  Two or More Races     Year  \n",
       "0               0.0  2017-18  \n",
       "1               3.4  2017-18  "
      ]
     },
     "execution_count": 5,
     "metadata": {},
     "output_type": "execute_result"
    }
   ],
   "source": [
    "df.head(2)"
   ]
  },
  {
   "cell_type": "markdown",
   "metadata": {},
   "source": [
    "### Check missing values"
   ]
  },
  {
   "cell_type": "code",
   "execution_count": 6,
   "metadata": {
    "scrolled": true
   },
   "outputs": [
    {
     "data": {
      "text/plain": [
       "CountyCode                             0\n",
       "CountyName                             0\n",
       "DistrictCode                           0\n",
       "DistrictName                           0\n",
       "SchoolCode                             0\n",
       "SchoolName                             0\n",
       "Teachers/Admins                        0\n",
       "Female                                 0\n",
       "Male                                   0\n",
       "White                                  0\n",
       "Hispanic                               0\n",
       "Black or African American              0\n",
       "Asian                                  0\n",
       "American Indian or Alaska Native       0\n",
       "Native Hawaiian or Pacific Islander    0\n",
       "Two or More Races                      0\n",
       "Year                                   0\n",
       "dtype: int64"
      ]
     },
     "execution_count": 6,
     "metadata": {},
     "output_type": "execute_result"
    }
   ],
   "source": [
    "df.isnull().sum()"
   ]
  },
  {
   "cell_type": "markdown",
   "metadata": {},
   "source": [
    "### Fill missing values"
   ]
  },
  {
   "cell_type": "code",
   "execution_count": 6,
   "metadata": {},
   "outputs": [],
   "source": [
    "#df = df.fillna('NA')"
   ]
  },
  {
   "cell_type": "markdown",
   "metadata": {},
   "source": [
    "### Check again if missing values are dealt properly"
   ]
  },
  {
   "cell_type": "code",
   "execution_count": 7,
   "metadata": {},
   "outputs": [
    {
     "data": {
      "text/plain": [
       "CountyCode                                 0\n",
       "CountyName                                 0\n",
       "DistrictCode                               0\n",
       "DistrictName                               0\n",
       "SchoolCode                                 0\n",
       "SchoolName                                 0\n",
       "ComprehensiveTargeted                      0\n",
       "StudentGroup                               0\n",
       "Requring Support                           0\n",
       "Eligible to exit Status in January 2021    0\n",
       "Eligible to exit Status in January 2022    0\n",
       "Year                                       0\n",
       "dtype: int64"
      ]
     },
     "execution_count": 7,
     "metadata": {},
     "output_type": "execute_result"
    }
   ],
   "source": [
    "#df.isnull().sum()"
   ]
  },
  {
   "cell_type": "markdown",
   "metadata": {},
   "source": [
    "### Check for meaningless values such as '**','N'\n"
   ]
  },
  {
   "cell_type": "code",
   "execution_count": 17,
   "metadata": {},
   "outputs": [],
   "source": [
    "df['Female'] = df['Female'].replace('NA',9999999)\n",
    "df['Male'] = df['Male'].replace('NA',9999999)\n",
    "df['White'] = df['White'].replace('NA',9999999)\n",
    "df['Hispanic'] = df['Hispanic'].replace('NA',9999999)\n",
    "df['Black or African American'] = df['Black or African American'].replace('NA',9999999)\n",
    "df['Asian'] = df['Asian'].replace('NA',9999999)\n",
    "df['American Indian or Alaska Native'] = df['American Indian or Alaska Native'].replace('NA',9999999)\n",
    "df['Native Hawaiian or Pacific Islander'] = df['Native Hawaiian or Pacific Islander'].replace('NA',9999999)\n",
    "df['Two or More Races'] = df['Two or More Races'].replace('NA',9999999)\n",
    "\n",
    "#df['CompSupport_Grad67'] = df['CompSupport_Grad67'].replace('**',9999999)\n",
    "\n",
    "df['Female'] = df['Female'].replace('N',9999999)\n",
    "df['Male'] = df['Male'].replace('N',9999999)\n",
    "df['White'] = df['White'].replace('N',9999999)\n",
    "df['Hispanic'] = df['Hispanic'].replace('N',9999999)\n",
    "df['Black or African American'] = df['Black or African American'].replace('N',9999999)\n",
    "df['Asian'] = df['Asian'].replace('N',9999999)\n",
    "df['American Indian or Alaska Native'] = df['American Indian or Alaska Native'].replace('N',9999999)\n",
    "df['Native Hawaiian or Pacific Islander'] = df['Native Hawaiian or Pacific Islander'].replace('N',9999999)\n",
    "df['Two or More Races'] = df['Two or More Races'].replace('N',9999999)\n"
   ]
  },
  {
   "cell_type": "markdown",
   "metadata": {},
   "source": [
    "### Check Data types of all columns"
   ]
  },
  {
   "cell_type": "code",
   "execution_count": 11,
   "metadata": {
    "scrolled": true
   },
   "outputs": [
    {
     "data": {
      "text/plain": [
       "CountyCode                             object\n",
       "CountyName                             object\n",
       "DistrictCode                           object\n",
       "DistrictName                           object\n",
       "SchoolCode                             object\n",
       "SchoolName                             object\n",
       "Teachers/Admins                        object\n",
       "Female                                 object\n",
       "Male                                   object\n",
       "White                                  object\n",
       "Hispanic                               object\n",
       "Black or African American              object\n",
       "Asian                                  object\n",
       "American Indian or Alaska Native       object\n",
       "Native Hawaiian or Pacific Islander    object\n",
       "Two or More Races                      object\n",
       "Year                                   object\n",
       "dtype: object"
      ]
     },
     "execution_count": 11,
     "metadata": {},
     "output_type": "execute_result"
    }
   ],
   "source": [
    "df.dtypes"
   ]
  },
  {
   "cell_type": "markdown",
   "metadata": {},
   "source": [
    "### Change Data types "
   ]
  },
  {
   "cell_type": "code",
   "execution_count": 18,
   "metadata": {},
   "outputs": [],
   "source": [
    "df[\"Female\"] = df[\"Female\"].astype(float)\n",
    "df[\"Male\"] = df[\"Male\"].astype(float)\n",
    "df[\"White\"] = df[\"White\"].astype(float)\n",
    "df[\"Hispanic\"] = df[\"Hispanic\"].astype(float)\n",
    "df[\"Black or African American\"] = df[\"Black or African American\"].astype(float)\n",
    "df[\"Asian\"] = df[\"Asian\"].astype(float)\n",
    "df[\"American Indian or Alaska Native\"] = df[\"American Indian or Alaska Native\"].astype(float)\n",
    "df[\"Native Hawaiian or Pacific Islander\"] = df[\"Native Hawaiian or Pacific Islander\"].astype(float)\n",
    "df[\"Two or More Races\"] = df[\"Two or More Races\"].astype(float)"
   ]
  },
  {
   "cell_type": "markdown",
   "metadata": {},
   "source": [
    "### Check the changed data types"
   ]
  },
  {
   "cell_type": "code",
   "execution_count": 19,
   "metadata": {},
   "outputs": [
    {
     "data": {
      "text/plain": [
       "CountyCode                              object\n",
       "CountyName                              object\n",
       "DistrictCode                            object\n",
       "DistrictName                            object\n",
       "SchoolCode                              object\n",
       "SchoolName                              object\n",
       "Teachers/Admins                         object\n",
       "Female                                 float64\n",
       "Male                                   float64\n",
       "White                                  float64\n",
       "Hispanic                               float64\n",
       "Black or African American              float64\n",
       "Asian                                  float64\n",
       "American Indian or Alaska Native       float64\n",
       "Native Hawaiian or Pacific Islander    float64\n",
       "Two or More Races                      float64\n",
       "Year                                    object\n",
       "dtype: object"
      ]
     },
     "execution_count": 19,
     "metadata": {},
     "output_type": "execute_result"
    }
   ],
   "source": [
    "df.dtypes"
   ]
  },
  {
   "cell_type": "markdown",
   "metadata": {},
   "source": [
    "### Get a look at final data"
   ]
  },
  {
   "cell_type": "code",
   "execution_count": 20,
   "metadata": {},
   "outputs": [
    {
     "data": {
      "text/html": [
       "<div>\n",
       "<style scoped>\n",
       "    .dataframe tbody tr th:only-of-type {\n",
       "        vertical-align: middle;\n",
       "    }\n",
       "\n",
       "    .dataframe tbody tr th {\n",
       "        vertical-align: top;\n",
       "    }\n",
       "\n",
       "    .dataframe thead th {\n",
       "        text-align: right;\n",
       "    }\n",
       "</style>\n",
       "<table border=\"1\" class=\"dataframe\">\n",
       "  <thead>\n",
       "    <tr style=\"text-align: right;\">\n",
       "      <th></th>\n",
       "      <th>CountyCode</th>\n",
       "      <th>CountyName</th>\n",
       "      <th>DistrictCode</th>\n",
       "      <th>DistrictName</th>\n",
       "      <th>SchoolCode</th>\n",
       "      <th>SchoolName</th>\n",
       "      <th>Teachers/Admins</th>\n",
       "      <th>Female</th>\n",
       "      <th>Male</th>\n",
       "      <th>White</th>\n",
       "      <th>Hispanic</th>\n",
       "      <th>Black or African American</th>\n",
       "      <th>Asian</th>\n",
       "      <th>American Indian or Alaska Native</th>\n",
       "      <th>Native Hawaiian or Pacific Islander</th>\n",
       "      <th>Two or More Races</th>\n",
       "      <th>Year</th>\n",
       "    </tr>\n",
       "  </thead>\n",
       "  <tbody>\n",
       "    <tr>\n",
       "      <th>0</th>\n",
       "      <td>01</td>\n",
       "      <td>ATLANTIC</td>\n",
       "      <td>0010</td>\n",
       "      <td>ABSECON CITY</td>\n",
       "      <td>050</td>\n",
       "      <td>EMMA C ATTALES</td>\n",
       "      <td>Admins</td>\n",
       "      <td>50.0</td>\n",
       "      <td>50.0</td>\n",
       "      <td>100.0</td>\n",
       "      <td>0.0</td>\n",
       "      <td>0.0</td>\n",
       "      <td>0.0</td>\n",
       "      <td>0.0</td>\n",
       "      <td>0.0</td>\n",
       "      <td>0.0</td>\n",
       "      <td>2017-18</td>\n",
       "    </tr>\n",
       "    <tr>\n",
       "      <th>1</th>\n",
       "      <td>01</td>\n",
       "      <td>ATLANTIC</td>\n",
       "      <td>0010</td>\n",
       "      <td>ABSECON CITY</td>\n",
       "      <td>050</td>\n",
       "      <td>EMMA C ATTALES</td>\n",
       "      <td>Teachers</td>\n",
       "      <td>75.9</td>\n",
       "      <td>24.1</td>\n",
       "      <td>89.7</td>\n",
       "      <td>6.9</td>\n",
       "      <td>0.0</td>\n",
       "      <td>0.0</td>\n",
       "      <td>0.0</td>\n",
       "      <td>0.0</td>\n",
       "      <td>3.4</td>\n",
       "      <td>2017-18</td>\n",
       "    </tr>\n",
       "    <tr>\n",
       "      <th>2</th>\n",
       "      <td>01</td>\n",
       "      <td>ATLANTIC</td>\n",
       "      <td>0010</td>\n",
       "      <td>ABSECON CITY</td>\n",
       "      <td>060</td>\n",
       "      <td>H ASHTON MARSH</td>\n",
       "      <td>Admins</td>\n",
       "      <td>0.0</td>\n",
       "      <td>100.0</td>\n",
       "      <td>100.0</td>\n",
       "      <td>0.0</td>\n",
       "      <td>0.0</td>\n",
       "      <td>0.0</td>\n",
       "      <td>0.0</td>\n",
       "      <td>0.0</td>\n",
       "      <td>0.0</td>\n",
       "      <td>2017-18</td>\n",
       "    </tr>\n",
       "    <tr>\n",
       "      <th>3</th>\n",
       "      <td>01</td>\n",
       "      <td>ATLANTIC</td>\n",
       "      <td>0010</td>\n",
       "      <td>ABSECON CITY</td>\n",
       "      <td>060</td>\n",
       "      <td>H ASHTON MARSH</td>\n",
       "      <td>Teachers</td>\n",
       "      <td>91.4</td>\n",
       "      <td>8.6</td>\n",
       "      <td>100.0</td>\n",
       "      <td>0.0</td>\n",
       "      <td>0.0</td>\n",
       "      <td>0.0</td>\n",
       "      <td>0.0</td>\n",
       "      <td>0.0</td>\n",
       "      <td>0.0</td>\n",
       "      <td>2017-18</td>\n",
       "    </tr>\n",
       "    <tr>\n",
       "      <th>4</th>\n",
       "      <td>01</td>\n",
       "      <td>ATLANTIC</td>\n",
       "      <td>0110</td>\n",
       "      <td>ATLANTIC CITY</td>\n",
       "      <td>010</td>\n",
       "      <td>ATLANTIC CITY HIGH SCHOOL</td>\n",
       "      <td>Admins</td>\n",
       "      <td>50.0</td>\n",
       "      <td>50.0</td>\n",
       "      <td>50.0</td>\n",
       "      <td>16.7</td>\n",
       "      <td>33.3</td>\n",
       "      <td>0.0</td>\n",
       "      <td>0.0</td>\n",
       "      <td>0.0</td>\n",
       "      <td>0.0</td>\n",
       "      <td>2017-18</td>\n",
       "    </tr>\n",
       "  </tbody>\n",
       "</table>\n",
       "</div>"
      ],
      "text/plain": [
       "  CountyCode CountyName DistrictCode   DistrictName SchoolCode  \\\n",
       "0         01   ATLANTIC         0010   ABSECON CITY        050   \n",
       "1         01   ATLANTIC         0010   ABSECON CITY        050   \n",
       "2         01   ATLANTIC         0010   ABSECON CITY        060   \n",
       "3         01   ATLANTIC         0010   ABSECON CITY        060   \n",
       "4         01   ATLANTIC         0110  ATLANTIC CITY        010   \n",
       "\n",
       "                  SchoolName Teachers/Admins  Female   Male  White  Hispanic  \\\n",
       "0             EMMA C ATTALES          Admins    50.0   50.0  100.0       0.0   \n",
       "1             EMMA C ATTALES        Teachers    75.9   24.1   89.7       6.9   \n",
       "2             H ASHTON MARSH          Admins     0.0  100.0  100.0       0.0   \n",
       "3             H ASHTON MARSH        Teachers    91.4    8.6  100.0       0.0   \n",
       "4  ATLANTIC CITY HIGH SCHOOL          Admins    50.0   50.0   50.0      16.7   \n",
       "\n",
       "   Black or African American  Asian  American Indian or Alaska Native  \\\n",
       "0                        0.0    0.0                               0.0   \n",
       "1                        0.0    0.0                               0.0   \n",
       "2                        0.0    0.0                               0.0   \n",
       "3                        0.0    0.0                               0.0   \n",
       "4                       33.3    0.0                               0.0   \n",
       "\n",
       "   Native Hawaiian or Pacific Islander  Two or More Races     Year  \n",
       "0                                  0.0                0.0  2017-18  \n",
       "1                                  0.0                3.4  2017-18  \n",
       "2                                  0.0                0.0  2017-18  \n",
       "3                                  0.0                0.0  2017-18  \n",
       "4                                  0.0                0.0  2017-18  "
      ]
     },
     "execution_count": 20,
     "metadata": {},
     "output_type": "execute_result"
    }
   ],
   "source": [
    "df.head()"
   ]
  },
  {
   "cell_type": "code",
   "execution_count": 21,
   "metadata": {},
   "outputs": [],
   "source": [
    "#df1.to_csv(df1.csv)\n",
    "df.to_csv('TeachersAdminsDemographics.csv', encoding='utf-8', index=False)"
   ]
  },
  {
   "cell_type": "code",
   "execution_count": null,
   "metadata": {},
   "outputs": [],
   "source": [
    "#x= df1.to_excel('output1.xlsx')  # doctest: +SKIP"
   ]
  }
 ],
 "metadata": {
  "kernelspec": {
   "display_name": "Python 3",
   "language": "python",
   "name": "python3"
  },
  "language_info": {
   "codemirror_mode": {
    "name": "ipython",
    "version": 3
   },
   "file_extension": ".py",
   "mimetype": "text/x-python",
   "name": "python",
   "nbconvert_exporter": "python",
   "pygments_lexer": "ipython3",
   "version": "3.7.3"
  }
 },
 "nbformat": 4,
 "nbformat_minor": 2
}
