{
 "cells": [
  {
   "cell_type": "code",
   "execution_count": 1,
   "metadata": {},
   "outputs": [
    {
     "data": {
      "text/html": [
       "<div>\n",
       "<style scoped>\n",
       "    .dataframe tbody tr th:only-of-type {\n",
       "        vertical-align: middle;\n",
       "    }\n",
       "\n",
       "    .dataframe tbody tr th {\n",
       "        vertical-align: top;\n",
       "    }\n",
       "\n",
       "    .dataframe thead th {\n",
       "        text-align: right;\n",
       "    }\n",
       "</style>\n",
       "<table border=\"1\" class=\"dataframe\">\n",
       "  <thead>\n",
       "    <tr style=\"text-align: right;\">\n",
       "      <th></th>\n",
       "      <th>CountyCode</th>\n",
       "      <th>CountyName</th>\n",
       "      <th>DistrictCode</th>\n",
       "      <th>DistrictName</th>\n",
       "      <th>SchoolCode</th>\n",
       "      <th>SchoolName</th>\n",
       "      <th>ComprehensiveTargeted</th>\n",
       "      <th>StudentGroup</th>\n",
       "      <th>Requring Support</th>\n",
       "      <th>Eligible to exit Status in January 2021</th>\n",
       "      <th>Eligible to exit Status in January 2022</th>\n",
       "    </tr>\n",
       "  </thead>\n",
       "  <tbody>\n",
       "    <tr>\n",
       "      <th>0</th>\n",
       "      <td>01</td>\n",
       "      <td>ATLANTIC</td>\n",
       "      <td>0010</td>\n",
       "      <td>ABSECON CITY</td>\n",
       "      <td>050</td>\n",
       "      <td>EMMA C ATTALES</td>\n",
       "      <td>Comprehensive</td>\n",
       "      <td>Schoolwide</td>\n",
       "      <td>No</td>\n",
       "      <td>NaN</td>\n",
       "      <td>NaN</td>\n",
       "    </tr>\n",
       "    <tr>\n",
       "      <th>1</th>\n",
       "      <td>01</td>\n",
       "      <td>ATLANTIC</td>\n",
       "      <td>0010</td>\n",
       "      <td>ABSECON CITY</td>\n",
       "      <td>050</td>\n",
       "      <td>EMMA C ATTALES</td>\n",
       "      <td>Targeted</td>\n",
       "      <td>Schoolwide</td>\n",
       "      <td>Yes</td>\n",
       "      <td>Yes</td>\n",
       "      <td>No</td>\n",
       "    </tr>\n",
       "  </tbody>\n",
       "</table>\n",
       "</div>"
      ],
      "text/plain": [
       "  CountyCode CountyName DistrictCode  DistrictName SchoolCode      SchoolName  \\\n",
       "0         01   ATLANTIC         0010  ABSECON CITY        050  EMMA C ATTALES   \n",
       "1         01   ATLANTIC         0010  ABSECON CITY        050  EMMA C ATTALES   \n",
       "\n",
       "  ComprehensiveTargeted StudentGroup Requring Support  \\\n",
       "0         Comprehensive   Schoolwide               No   \n",
       "1              Targeted   Schoolwide              Yes   \n",
       "\n",
       "  Eligible to exit Status in January 2021  \\\n",
       "0                                     NaN   \n",
       "1                                     Yes   \n",
       "\n",
       "  Eligible to exit Status in January 2022  \n",
       "0                                     NaN  \n",
       "1                                      No  "
      ]
     },
     "execution_count": 1,
     "metadata": {},
     "output_type": "execute_result"
    }
   ],
   "source": [
    "import os\n",
    "import pandas as pd\n",
    "import numpy as np\n",
    "\n",
    "#df = pd.read_excel('narrative_raw.xlsx')\n",
    "df = pd.read_csv('raw.csv',index_col = False, dtype = {\"CountyCode\": str,\"DistrictCode\": str,\"SchoolCode\": str})\n",
    "df.head(2)"
   ]
  },
  {
   "cell_type": "markdown",
   "metadata": {},
   "source": [
    "### Check number of columns and rows"
   ]
  },
  {
   "cell_type": "code",
   "execution_count": 2,
   "metadata": {},
   "outputs": [
    {
     "data": {
      "text/plain": [
       "(24618, 11)"
      ]
     },
     "execution_count": 2,
     "metadata": {},
     "output_type": "execute_result"
    }
   ],
   "source": [
    "df.shape"
   ]
  },
  {
   "cell_type": "markdown",
   "metadata": {},
   "source": [
    "### Adding columns from 2016-17 table"
   ]
  },
  {
   "cell_type": "code",
   "execution_count": 3,
   "metadata": {},
   "outputs": [],
   "source": [
    "df['Year'] = '2017-18'"
   ]
  },
  {
   "cell_type": "markdown",
   "metadata": {},
   "source": [
    "### Check if columns are added properly"
   ]
  },
  {
   "cell_type": "code",
   "execution_count": 4,
   "metadata": {
    "scrolled": true
   },
   "outputs": [
    {
     "data": {
      "text/html": [
       "<div>\n",
       "<style scoped>\n",
       "    .dataframe tbody tr th:only-of-type {\n",
       "        vertical-align: middle;\n",
       "    }\n",
       "\n",
       "    .dataframe tbody tr th {\n",
       "        vertical-align: top;\n",
       "    }\n",
       "\n",
       "    .dataframe thead th {\n",
       "        text-align: right;\n",
       "    }\n",
       "</style>\n",
       "<table border=\"1\" class=\"dataframe\">\n",
       "  <thead>\n",
       "    <tr style=\"text-align: right;\">\n",
       "      <th></th>\n",
       "      <th>CountyCode</th>\n",
       "      <th>CountyName</th>\n",
       "      <th>DistrictCode</th>\n",
       "      <th>DistrictName</th>\n",
       "      <th>SchoolCode</th>\n",
       "      <th>SchoolName</th>\n",
       "      <th>ComprehensiveTargeted</th>\n",
       "      <th>StudentGroup</th>\n",
       "      <th>Requring Support</th>\n",
       "      <th>Eligible to exit Status in January 2021</th>\n",
       "      <th>Eligible to exit Status in January 2022</th>\n",
       "      <th>Year</th>\n",
       "    </tr>\n",
       "  </thead>\n",
       "  <tbody>\n",
       "    <tr>\n",
       "      <th>0</th>\n",
       "      <td>01</td>\n",
       "      <td>ATLANTIC</td>\n",
       "      <td>0010</td>\n",
       "      <td>ABSECON CITY</td>\n",
       "      <td>050</td>\n",
       "      <td>EMMA C ATTALES</td>\n",
       "      <td>Comprehensive</td>\n",
       "      <td>Schoolwide</td>\n",
       "      <td>No</td>\n",
       "      <td>NaN</td>\n",
       "      <td>NaN</td>\n",
       "      <td>2017-18</td>\n",
       "    </tr>\n",
       "    <tr>\n",
       "      <th>1</th>\n",
       "      <td>01</td>\n",
       "      <td>ATLANTIC</td>\n",
       "      <td>0010</td>\n",
       "      <td>ABSECON CITY</td>\n",
       "      <td>050</td>\n",
       "      <td>EMMA C ATTALES</td>\n",
       "      <td>Targeted</td>\n",
       "      <td>Schoolwide</td>\n",
       "      <td>Yes</td>\n",
       "      <td>Yes</td>\n",
       "      <td>No</td>\n",
       "      <td>2017-18</td>\n",
       "    </tr>\n",
       "  </tbody>\n",
       "</table>\n",
       "</div>"
      ],
      "text/plain": [
       "  CountyCode CountyName DistrictCode  DistrictName SchoolCode      SchoolName  \\\n",
       "0         01   ATLANTIC         0010  ABSECON CITY        050  EMMA C ATTALES   \n",
       "1         01   ATLANTIC         0010  ABSECON CITY        050  EMMA C ATTALES   \n",
       "\n",
       "  ComprehensiveTargeted StudentGroup Requring Support  \\\n",
       "0         Comprehensive   Schoolwide               No   \n",
       "1              Targeted   Schoolwide              Yes   \n",
       "\n",
       "  Eligible to exit Status in January 2021  \\\n",
       "0                                     NaN   \n",
       "1                                     Yes   \n",
       "\n",
       "  Eligible to exit Status in January 2022     Year  \n",
       "0                                     NaN  2017-18  \n",
       "1                                      No  2017-18  "
      ]
     },
     "execution_count": 4,
     "metadata": {},
     "output_type": "execute_result"
    }
   ],
   "source": [
    "df.head(2)"
   ]
  },
  {
   "cell_type": "markdown",
   "metadata": {},
   "source": [
    "### Check missing values"
   ]
  },
  {
   "cell_type": "code",
   "execution_count": 5,
   "metadata": {
    "scrolled": true
   },
   "outputs": [
    {
     "data": {
      "text/plain": [
       "CountyCode                                    0\n",
       "CountyName                                    0\n",
       "DistrictCode                                  0\n",
       "DistrictName                                  0\n",
       "SchoolCode                                    0\n",
       "SchoolName                                    0\n",
       "ComprehensiveTargeted                         0\n",
       "StudentGroup                                  0\n",
       "Requring Support                              0\n",
       "Eligible to exit Status in January 2021    4098\n",
       "Eligible to exit Status in January 2022    4098\n",
       "Year                                          0\n",
       "dtype: int64"
      ]
     },
     "execution_count": 5,
     "metadata": {},
     "output_type": "execute_result"
    }
   ],
   "source": [
    "df.isnull().sum()"
   ]
  },
  {
   "cell_type": "markdown",
   "metadata": {},
   "source": [
    "### Fill missing values"
   ]
  },
  {
   "cell_type": "code",
   "execution_count": 6,
   "metadata": {},
   "outputs": [],
   "source": [
    "df = df.fillna('NA')"
   ]
  },
  {
   "cell_type": "markdown",
   "metadata": {},
   "source": [
    "### Check again if missing values are dealt properly"
   ]
  },
  {
   "cell_type": "code",
   "execution_count": 7,
   "metadata": {},
   "outputs": [
    {
     "data": {
      "text/plain": [
       "CountyCode                                 0\n",
       "CountyName                                 0\n",
       "DistrictCode                               0\n",
       "DistrictName                               0\n",
       "SchoolCode                                 0\n",
       "SchoolName                                 0\n",
       "ComprehensiveTargeted                      0\n",
       "StudentGroup                               0\n",
       "Requring Support                           0\n",
       "Eligible to exit Status in January 2021    0\n",
       "Eligible to exit Status in January 2022    0\n",
       "Year                                       0\n",
       "dtype: int64"
      ]
     },
     "execution_count": 7,
     "metadata": {},
     "output_type": "execute_result"
    }
   ],
   "source": [
    "df.isnull().sum()"
   ]
  },
  {
   "cell_type": "markdown",
   "metadata": {},
   "source": [
    "### Check for meaningless values such as '**','N'\n"
   ]
  },
  {
   "cell_type": "code",
   "execution_count": 9,
   "metadata": {},
   "outputs": [],
   "source": [
    "\n",
    "#df['CompSupport_Grad67'] = df['CompSupport_Grad67'].replace('**',9999999)\n",
    "\n",
    "df['Eligible to exit Status in January 2021'] = df['Eligible to exit Status in January 2021'].replace('N','NA')\n",
    "df['Eligible to exit Status in January 2022'] = df['Eligible to exit Status in January 2022'].replace('N','NA')\n"
   ]
  },
  {
   "cell_type": "markdown",
   "metadata": {},
   "source": [
    "### Check Data types of all columns"
   ]
  },
  {
   "cell_type": "code",
   "execution_count": 10,
   "metadata": {
    "scrolled": true
   },
   "outputs": [
    {
     "data": {
      "text/plain": [
       "CountyCode                                 object\n",
       "CountyName                                 object\n",
       "DistrictCode                               object\n",
       "DistrictName                               object\n",
       "SchoolCode                                 object\n",
       "SchoolName                                 object\n",
       "ComprehensiveTargeted                      object\n",
       "StudentGroup                               object\n",
       "Requring Support                           object\n",
       "Eligible to exit Status in January 2021    object\n",
       "Eligible to exit Status in January 2022    object\n",
       "Year                                       object\n",
       "dtype: object"
      ]
     },
     "execution_count": 10,
     "metadata": {},
     "output_type": "execute_result"
    }
   ],
   "source": [
    "df.dtypes"
   ]
  },
  {
   "cell_type": "markdown",
   "metadata": {},
   "source": [
    "### Change Data types "
   ]
  },
  {
   "cell_type": "code",
   "execution_count": 12,
   "metadata": {},
   "outputs": [],
   "source": [
    "#df[\"PercentDaysPresent\"] = df[\"PercentDaysPresent\"].astype(float)\n",
    "#df[\"CutOffScoreTargetedSupImp\"] = df[\"CutOffScoreTargetedSupImp\"].astype(float)"
   ]
  },
  {
   "cell_type": "markdown",
   "metadata": {},
   "source": [
    "### Check the changed data types"
   ]
  },
  {
   "cell_type": "code",
   "execution_count": 12,
   "metadata": {},
   "outputs": [],
   "source": [
    "#df.dtypes"
   ]
  },
  {
   "cell_type": "markdown",
   "metadata": {},
   "source": [
    "### Get a look at final data"
   ]
  },
  {
   "cell_type": "code",
   "execution_count": 13,
   "metadata": {},
   "outputs": [
    {
     "data": {
      "text/html": [
       "<div>\n",
       "<style scoped>\n",
       "    .dataframe tbody tr th:only-of-type {\n",
       "        vertical-align: middle;\n",
       "    }\n",
       "\n",
       "    .dataframe tbody tr th {\n",
       "        vertical-align: top;\n",
       "    }\n",
       "\n",
       "    .dataframe thead th {\n",
       "        text-align: right;\n",
       "    }\n",
       "</style>\n",
       "<table border=\"1\" class=\"dataframe\">\n",
       "  <thead>\n",
       "    <tr style=\"text-align: right;\">\n",
       "      <th></th>\n",
       "      <th>CountyCode</th>\n",
       "      <th>CountyName</th>\n",
       "      <th>DistrictCode</th>\n",
       "      <th>DistrictName</th>\n",
       "      <th>SchoolCode</th>\n",
       "      <th>SchoolName</th>\n",
       "      <th>ComprehensiveTargeted</th>\n",
       "      <th>StudentGroup</th>\n",
       "      <th>Requring Support</th>\n",
       "      <th>Eligible to exit Status in January 2021</th>\n",
       "      <th>Eligible to exit Status in January 2022</th>\n",
       "      <th>Year</th>\n",
       "    </tr>\n",
       "  </thead>\n",
       "  <tbody>\n",
       "    <tr>\n",
       "      <th>0</th>\n",
       "      <td>01</td>\n",
       "      <td>ATLANTIC</td>\n",
       "      <td>0010</td>\n",
       "      <td>ABSECON CITY</td>\n",
       "      <td>050</td>\n",
       "      <td>EMMA C ATTALES</td>\n",
       "      <td>Comprehensive</td>\n",
       "      <td>Schoolwide</td>\n",
       "      <td>No</td>\n",
       "      <td>NA</td>\n",
       "      <td>NA</td>\n",
       "      <td>2017-18</td>\n",
       "    </tr>\n",
       "    <tr>\n",
       "      <th>1</th>\n",
       "      <td>01</td>\n",
       "      <td>ATLANTIC</td>\n",
       "      <td>0010</td>\n",
       "      <td>ABSECON CITY</td>\n",
       "      <td>050</td>\n",
       "      <td>EMMA C ATTALES</td>\n",
       "      <td>Targeted</td>\n",
       "      <td>Schoolwide</td>\n",
       "      <td>Yes</td>\n",
       "      <td>Yes</td>\n",
       "      <td>No</td>\n",
       "      <td>2017-18</td>\n",
       "    </tr>\n",
       "    <tr>\n",
       "      <th>2</th>\n",
       "      <td>01</td>\n",
       "      <td>ATLANTIC</td>\n",
       "      <td>0010</td>\n",
       "      <td>ABSECON CITY</td>\n",
       "      <td>050</td>\n",
       "      <td>EMMA C ATTALES</td>\n",
       "      <td>Targeted</td>\n",
       "      <td>White</td>\n",
       "      <td>No</td>\n",
       "      <td>NA</td>\n",
       "      <td>NA</td>\n",
       "      <td>2017-18</td>\n",
       "    </tr>\n",
       "    <tr>\n",
       "      <th>3</th>\n",
       "      <td>01</td>\n",
       "      <td>ATLANTIC</td>\n",
       "      <td>0010</td>\n",
       "      <td>ABSECON CITY</td>\n",
       "      <td>050</td>\n",
       "      <td>EMMA C ATTALES</td>\n",
       "      <td>Targeted</td>\n",
       "      <td>Hispanic</td>\n",
       "      <td>No</td>\n",
       "      <td>NA</td>\n",
       "      <td>NA</td>\n",
       "      <td>2017-18</td>\n",
       "    </tr>\n",
       "    <tr>\n",
       "      <th>4</th>\n",
       "      <td>01</td>\n",
       "      <td>ATLANTIC</td>\n",
       "      <td>0010</td>\n",
       "      <td>ABSECON CITY</td>\n",
       "      <td>050</td>\n",
       "      <td>EMMA C ATTALES</td>\n",
       "      <td>Targeted</td>\n",
       "      <td>Black or African American</td>\n",
       "      <td>No</td>\n",
       "      <td>NA</td>\n",
       "      <td>NA</td>\n",
       "      <td>2017-18</td>\n",
       "    </tr>\n",
       "  </tbody>\n",
       "</table>\n",
       "</div>"
      ],
      "text/plain": [
       "  CountyCode CountyName DistrictCode  DistrictName SchoolCode      SchoolName  \\\n",
       "0         01   ATLANTIC         0010  ABSECON CITY        050  EMMA C ATTALES   \n",
       "1         01   ATLANTIC         0010  ABSECON CITY        050  EMMA C ATTALES   \n",
       "2         01   ATLANTIC         0010  ABSECON CITY        050  EMMA C ATTALES   \n",
       "3         01   ATLANTIC         0010  ABSECON CITY        050  EMMA C ATTALES   \n",
       "4         01   ATLANTIC         0010  ABSECON CITY        050  EMMA C ATTALES   \n",
       "\n",
       "  ComprehensiveTargeted               StudentGroup Requring Support  \\\n",
       "0         Comprehensive                 Schoolwide               No   \n",
       "1              Targeted                 Schoolwide              Yes   \n",
       "2              Targeted                      White               No   \n",
       "3              Targeted                   Hispanic               No   \n",
       "4              Targeted  Black or African American               No   \n",
       "\n",
       "  Eligible to exit Status in January 2021  \\\n",
       "0                                      NA   \n",
       "1                                     Yes   \n",
       "2                                      NA   \n",
       "3                                      NA   \n",
       "4                                      NA   \n",
       "\n",
       "  Eligible to exit Status in January 2022     Year  \n",
       "0                                      NA  2017-18  \n",
       "1                                      No  2017-18  \n",
       "2                                      NA  2017-18  \n",
       "3                                      NA  2017-18  \n",
       "4                                      NA  2017-18  "
      ]
     },
     "execution_count": 13,
     "metadata": {},
     "output_type": "execute_result"
    }
   ],
   "source": [
    "df.head()"
   ]
  },
  {
   "cell_type": "code",
   "execution_count": 14,
   "metadata": {},
   "outputs": [],
   "source": [
    "#df1.to_csv(df1.csv)\n",
    "df.to_csv('CompTargeted.csv', encoding='utf-8', index=False)"
   ]
  },
  {
   "cell_type": "code",
   "execution_count": null,
   "metadata": {},
   "outputs": [],
   "source": [
    "#x= df1.to_excel('output1.xlsx')  # doctest: +SKIP"
   ]
  }
 ],
 "metadata": {
  "kernelspec": {
   "display_name": "Python 3",
   "language": "python",
   "name": "python3"
  },
  "language_info": {
   "codemirror_mode": {
    "name": "ipython",
    "version": 3
   },
   "file_extension": ".py",
   "mimetype": "text/x-python",
   "name": "python",
   "nbconvert_exporter": "python",
   "pygments_lexer": "ipython3",
   "version": "3.7.3"
  }
 },
 "nbformat": 4,
 "nbformat_minor": 2
}
