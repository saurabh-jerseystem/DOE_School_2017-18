{
 "cells": [
  {
   "cell_type": "code",
   "execution_count": 1,
   "metadata": {},
   "outputs": [
    {
     "data": {
      "text/html": [
       "<div>\n",
       "<style scoped>\n",
       "    .dataframe tbody tr th:only-of-type {\n",
       "        vertical-align: middle;\n",
       "    }\n",
       "\n",
       "    .dataframe tbody tr th {\n",
       "        vertical-align: top;\n",
       "    }\n",
       "\n",
       "    .dataframe thead th {\n",
       "        text-align: right;\n",
       "    }\n",
       "</style>\n",
       "<table border=\"1\" class=\"dataframe\">\n",
       "  <thead>\n",
       "    <tr style=\"text-align: right;\">\n",
       "      <th></th>\n",
       "      <th>CountyCode</th>\n",
       "      <th>CountyName</th>\n",
       "      <th>DistrictCode</th>\n",
       "      <th>DistrictName</th>\n",
       "      <th>SchoolCode</th>\n",
       "      <th>SchoolName</th>\n",
       "      <th>TeacherCount_School</th>\n",
       "      <th>TeacherCount_State</th>\n",
       "      <th>TeacherAvgYearsExp_School</th>\n",
       "      <th>TeacherAvgYearsExp_State</th>\n",
       "      <th>TeacherAvgYearsExpInDistrict_School</th>\n",
       "      <th>TeacherAvgYearsExpInDistrict_State</th>\n",
       "      <th>TeacherInDistrict4YearsOrMore_School</th>\n",
       "      <th>TeacherInDistrict4YearsOrMore_State</th>\n",
       "    </tr>\n",
       "  </thead>\n",
       "  <tbody>\n",
       "    <tr>\n",
       "      <th>0</th>\n",
       "      <td>01</td>\n",
       "      <td>ATLANTIC</td>\n",
       "      <td>0010</td>\n",
       "      <td>ABSECON CITY</td>\n",
       "      <td>050</td>\n",
       "      <td>EMMA C ATTALES</td>\n",
       "      <td>29</td>\n",
       "      <td>117464</td>\n",
       "      <td>13.6</td>\n",
       "      <td>12.0</td>\n",
       "      <td>12.9</td>\n",
       "      <td>10.7</td>\n",
       "      <td>92.9</td>\n",
       "      <td>75.5</td>\n",
       "    </tr>\n",
       "    <tr>\n",
       "      <th>1</th>\n",
       "      <td>01</td>\n",
       "      <td>ATLANTIC</td>\n",
       "      <td>0010</td>\n",
       "      <td>ABSECON CITY</td>\n",
       "      <td>060</td>\n",
       "      <td>H ASHTON MARSH</td>\n",
       "      <td>35</td>\n",
       "      <td>117464</td>\n",
       "      <td>16.1</td>\n",
       "      <td>12.0</td>\n",
       "      <td>15.6</td>\n",
       "      <td>10.7</td>\n",
       "      <td>94.1</td>\n",
       "      <td>75.5</td>\n",
       "    </tr>\n",
       "  </tbody>\n",
       "</table>\n",
       "</div>"
      ],
      "text/plain": [
       "  CountyCode CountyName DistrictCode  DistrictName SchoolCode      SchoolName  \\\n",
       "0         01   ATLANTIC         0010  ABSECON CITY        050  EMMA C ATTALES   \n",
       "1         01   ATLANTIC         0010  ABSECON CITY        060  H ASHTON MARSH   \n",
       "\n",
       "  TeacherCount_School  TeacherCount_State TeacherAvgYearsExp_School  \\\n",
       "0                  29              117464                      13.6   \n",
       "1                  35              117464                      16.1   \n",
       "\n",
       "   TeacherAvgYearsExp_State TeacherAvgYearsExpInDistrict_School  \\\n",
       "0                      12.0                                12.9   \n",
       "1                      12.0                                15.6   \n",
       "\n",
       "   TeacherAvgYearsExpInDistrict_State TeacherInDistrict4YearsOrMore_School  \\\n",
       "0                                10.7                                 92.9   \n",
       "1                                10.7                                 94.1   \n",
       "\n",
       "   TeacherInDistrict4YearsOrMore_State  \n",
       "0                                 75.5  \n",
       "1                                 75.5  "
      ]
     },
     "execution_count": 1,
     "metadata": {},
     "output_type": "execute_result"
    }
   ],
   "source": [
    "import os\n",
    "import pandas as pd\n",
    "import numpy as np\n",
    "\n",
    "#df = pd.read_excel('narrative_raw.xlsx')\n",
    "df = pd.read_csv('raw.csv',index_col = False, dtype = {\"CountyCode\": str,\"DistrictCode\": str,\"SchoolCode\": str})\n",
    "df.head(2)"
   ]
  },
  {
   "cell_type": "markdown",
   "metadata": {},
   "source": [
    "### Check number of columns and rows"
   ]
  },
  {
   "cell_type": "code",
   "execution_count": 2,
   "metadata": {},
   "outputs": [
    {
     "data": {
      "text/plain": [
       "(2519, 14)"
      ]
     },
     "execution_count": 2,
     "metadata": {},
     "output_type": "execute_result"
    }
   ],
   "source": [
    "df.shape"
   ]
  },
  {
   "cell_type": "markdown",
   "metadata": {},
   "source": [
    "### Adding columns from 2016-17 table"
   ]
  },
  {
   "cell_type": "code",
   "execution_count": 4,
   "metadata": {},
   "outputs": [],
   "source": [
    "df['Year'] = '2017-18'"
   ]
  },
  {
   "cell_type": "markdown",
   "metadata": {},
   "source": [
    "### Check if columns are added properly"
   ]
  },
  {
   "cell_type": "code",
   "execution_count": 5,
   "metadata": {
    "scrolled": true
   },
   "outputs": [
    {
     "data": {
      "text/html": [
       "<div>\n",
       "<style scoped>\n",
       "    .dataframe tbody tr th:only-of-type {\n",
       "        vertical-align: middle;\n",
       "    }\n",
       "\n",
       "    .dataframe tbody tr th {\n",
       "        vertical-align: top;\n",
       "    }\n",
       "\n",
       "    .dataframe thead th {\n",
       "        text-align: right;\n",
       "    }\n",
       "</style>\n",
       "<table border=\"1\" class=\"dataframe\">\n",
       "  <thead>\n",
       "    <tr style=\"text-align: right;\">\n",
       "      <th></th>\n",
       "      <th>CountyCode</th>\n",
       "      <th>CountyName</th>\n",
       "      <th>DistrictCode</th>\n",
       "      <th>DistrictName</th>\n",
       "      <th>SchoolCode</th>\n",
       "      <th>SchoolName</th>\n",
       "      <th>TeacherCount_School</th>\n",
       "      <th>TeacherCount_State</th>\n",
       "      <th>TeacherAvgYearsExp_School</th>\n",
       "      <th>TeacherAvgYearsExp_State</th>\n",
       "      <th>TeacherAvgYearsExpInDistrict_School</th>\n",
       "      <th>TeacherAvgYearsExpInDistrict_State</th>\n",
       "      <th>TeacherInDistrict4YearsOrMore_School</th>\n",
       "      <th>TeacherInDistrict4YearsOrMore_State</th>\n",
       "      <th>Year</th>\n",
       "    </tr>\n",
       "  </thead>\n",
       "  <tbody>\n",
       "    <tr>\n",
       "      <th>0</th>\n",
       "      <td>01</td>\n",
       "      <td>ATLANTIC</td>\n",
       "      <td>0010</td>\n",
       "      <td>ABSECON CITY</td>\n",
       "      <td>050</td>\n",
       "      <td>EMMA C ATTALES</td>\n",
       "      <td>29</td>\n",
       "      <td>117464</td>\n",
       "      <td>13.6</td>\n",
       "      <td>12.0</td>\n",
       "      <td>12.9</td>\n",
       "      <td>10.7</td>\n",
       "      <td>92.9</td>\n",
       "      <td>75.5</td>\n",
       "      <td>2017-18</td>\n",
       "    </tr>\n",
       "    <tr>\n",
       "      <th>1</th>\n",
       "      <td>01</td>\n",
       "      <td>ATLANTIC</td>\n",
       "      <td>0010</td>\n",
       "      <td>ABSECON CITY</td>\n",
       "      <td>060</td>\n",
       "      <td>H ASHTON MARSH</td>\n",
       "      <td>35</td>\n",
       "      <td>117464</td>\n",
       "      <td>16.1</td>\n",
       "      <td>12.0</td>\n",
       "      <td>15.6</td>\n",
       "      <td>10.7</td>\n",
       "      <td>94.1</td>\n",
       "      <td>75.5</td>\n",
       "      <td>2017-18</td>\n",
       "    </tr>\n",
       "  </tbody>\n",
       "</table>\n",
       "</div>"
      ],
      "text/plain": [
       "  CountyCode CountyName DistrictCode  DistrictName SchoolCode      SchoolName  \\\n",
       "0         01   ATLANTIC         0010  ABSECON CITY        050  EMMA C ATTALES   \n",
       "1         01   ATLANTIC         0010  ABSECON CITY        060  H ASHTON MARSH   \n",
       "\n",
       "  TeacherCount_School  TeacherCount_State TeacherAvgYearsExp_School  \\\n",
       "0                  29              117464                      13.6   \n",
       "1                  35              117464                      16.1   \n",
       "\n",
       "   TeacherAvgYearsExp_State TeacherAvgYearsExpInDistrict_School  \\\n",
       "0                      12.0                                12.9   \n",
       "1                      12.0                                15.6   \n",
       "\n",
       "   TeacherAvgYearsExpInDistrict_State TeacherInDistrict4YearsOrMore_School  \\\n",
       "0                                10.7                                 92.9   \n",
       "1                                10.7                                 94.1   \n",
       "\n",
       "   TeacherInDistrict4YearsOrMore_State     Year  \n",
       "0                                 75.5  2017-18  \n",
       "1                                 75.5  2017-18  "
      ]
     },
     "execution_count": 5,
     "metadata": {},
     "output_type": "execute_result"
    }
   ],
   "source": [
    "df.head(2)"
   ]
  },
  {
   "cell_type": "markdown",
   "metadata": {},
   "source": [
    "### Check missing values"
   ]
  },
  {
   "cell_type": "code",
   "execution_count": 6,
   "metadata": {
    "scrolled": true
   },
   "outputs": [
    {
     "data": {
      "text/plain": [
       "CountyCode                              0\n",
       "CountyName                              0\n",
       "DistrictCode                            0\n",
       "DistrictName                            0\n",
       "SchoolCode                              0\n",
       "SchoolName                              0\n",
       "TeacherCount_School                     0\n",
       "TeacherCount_State                      0\n",
       "TeacherAvgYearsExp_School               0\n",
       "TeacherAvgYearsExp_State                0\n",
       "TeacherAvgYearsExpInDistrict_School     0\n",
       "TeacherAvgYearsExpInDistrict_State      0\n",
       "TeacherInDistrict4YearsOrMore_School    0\n",
       "TeacherInDistrict4YearsOrMore_State     0\n",
       "Year                                    0\n",
       "dtype: int64"
      ]
     },
     "execution_count": 6,
     "metadata": {},
     "output_type": "execute_result"
    }
   ],
   "source": [
    "df.isnull().sum()"
   ]
  },
  {
   "cell_type": "markdown",
   "metadata": {},
   "source": [
    "### Fill missing values"
   ]
  },
  {
   "cell_type": "code",
   "execution_count": 7,
   "metadata": {},
   "outputs": [],
   "source": [
    "#df = df.fillna('NA')"
   ]
  },
  {
   "cell_type": "markdown",
   "metadata": {},
   "source": [
    "### Check again if missing values are dealt properly"
   ]
  },
  {
   "cell_type": "code",
   "execution_count": 8,
   "metadata": {},
   "outputs": [],
   "source": [
    "#df.isnull().sum()"
   ]
  },
  {
   "cell_type": "markdown",
   "metadata": {},
   "source": [
    "### Check for meaningless values such as '**','N'\n"
   ]
  },
  {
   "cell_type": "code",
   "execution_count": 7,
   "metadata": {},
   "outputs": [],
   "source": [
    "df['TeacherCount_School'] = df['TeacherCount_School'].replace('N','9999999')\n",
    "df['TeacherCount_State'] = df['TeacherCount_State'].replace('N','9999999')\n",
    "df['TeacherAvgYearsExp_School'] = df['TeacherAvgYearsExp_School'].replace('N','9999999')\n",
    "df['TeacherAvgYearsExp_State'] = df['TeacherAvgYearsExp_State'].replace('N','9999999')\n",
    "df['TeacherAvgYearsExpInDistrict_School'] = df['TeacherAvgYearsExpInDistrict_School'].replace('N','9999999')\n",
    "df['TeacherAvgYearsExpInDistrict_State'] = df['TeacherAvgYearsExpInDistrict_State'].replace('N','9999999')\n",
    "df['TeacherInDistrict4YearsOrMore_School'] = df['TeacherInDistrict4YearsOrMore_School'].replace('N','9999999')\n",
    "df['TeacherInDistrict4YearsOrMore_State'] = df['TeacherInDistrict4YearsOrMore_State'].replace('N','9999999')\n"
   ]
  },
  {
   "cell_type": "markdown",
   "metadata": {},
   "source": [
    "### Check Data types of all columns"
   ]
  },
  {
   "cell_type": "code",
   "execution_count": 8,
   "metadata": {
    "scrolled": true
   },
   "outputs": [
    {
     "data": {
      "text/plain": [
       "CountyCode                               object\n",
       "CountyName                               object\n",
       "DistrictCode                             object\n",
       "DistrictName                             object\n",
       "SchoolCode                               object\n",
       "SchoolName                               object\n",
       "TeacherCount_School                      object\n",
       "TeacherCount_State                        int64\n",
       "TeacherAvgYearsExp_School                object\n",
       "TeacherAvgYearsExp_State                float64\n",
       "TeacherAvgYearsExpInDistrict_School      object\n",
       "TeacherAvgYearsExpInDistrict_State      float64\n",
       "TeacherInDistrict4YearsOrMore_School     object\n",
       "TeacherInDistrict4YearsOrMore_State     float64\n",
       "Year                                     object\n",
       "dtype: object"
      ]
     },
     "execution_count": 8,
     "metadata": {},
     "output_type": "execute_result"
    }
   ],
   "source": [
    "df.dtypes"
   ]
  },
  {
   "cell_type": "markdown",
   "metadata": {},
   "source": [
    "### Change Data types "
   ]
  },
  {
   "cell_type": "code",
   "execution_count": 9,
   "metadata": {},
   "outputs": [],
   "source": [
    "df[\"TeacherCount_School\"] = df[\"TeacherCount_School\"].astype(int)\n",
    "df[\"TeacherCount_State\"] = df[\"TeacherCount_State\"].astype(int)\n",
    "df[\"TeacherAvgYearsExp_School\"] = df[\"TeacherAvgYearsExp_School\"].astype(float)\n",
    "df[\"TeacherAvgYearsExp_State\"] = df[\"TeacherAvgYearsExp_State\"].astype(float)\n",
    "df[\"TeacherAvgYearsExpInDistrict_School\"] = df[\"TeacherAvgYearsExpInDistrict_School\"].astype(float)\n",
    "df[\"TeacherAvgYearsExpInDistrict_State\"] = df[\"TeacherAvgYearsExpInDistrict_State\"].astype(float)\n",
    "df[\"TeacherInDistrict4YearsOrMore_School\"] = df[\"TeacherInDistrict4YearsOrMore_School\"].astype(float)\n",
    "df[\"TeacherInDistrict4YearsOrMore_State\"] = df[\"TeacherInDistrict4YearsOrMore_State\"].astype(float)\n"
   ]
  },
  {
   "cell_type": "markdown",
   "metadata": {},
   "source": [
    "### Check the changed data types"
   ]
  },
  {
   "cell_type": "code",
   "execution_count": 10,
   "metadata": {},
   "outputs": [
    {
     "data": {
      "text/plain": [
       "CountyCode                               object\n",
       "CountyName                               object\n",
       "DistrictCode                             object\n",
       "DistrictName                             object\n",
       "SchoolCode                               object\n",
       "SchoolName                               object\n",
       "TeacherCount_School                       int64\n",
       "TeacherCount_State                        int64\n",
       "TeacherAvgYearsExp_School               float64\n",
       "TeacherAvgYearsExp_State                float64\n",
       "TeacherAvgYearsExpInDistrict_School     float64\n",
       "TeacherAvgYearsExpInDistrict_State      float64\n",
       "TeacherInDistrict4YearsOrMore_School    float64\n",
       "TeacherInDistrict4YearsOrMore_State     float64\n",
       "Year                                     object\n",
       "dtype: object"
      ]
     },
     "execution_count": 10,
     "metadata": {},
     "output_type": "execute_result"
    }
   ],
   "source": [
    "df.dtypes"
   ]
  },
  {
   "cell_type": "markdown",
   "metadata": {},
   "source": [
    "### Get a look at final data"
   ]
  },
  {
   "cell_type": "code",
   "execution_count": 11,
   "metadata": {},
   "outputs": [
    {
     "data": {
      "text/html": [
       "<div>\n",
       "<style scoped>\n",
       "    .dataframe tbody tr th:only-of-type {\n",
       "        vertical-align: middle;\n",
       "    }\n",
       "\n",
       "    .dataframe tbody tr th {\n",
       "        vertical-align: top;\n",
       "    }\n",
       "\n",
       "    .dataframe thead th {\n",
       "        text-align: right;\n",
       "    }\n",
       "</style>\n",
       "<table border=\"1\" class=\"dataframe\">\n",
       "  <thead>\n",
       "    <tr style=\"text-align: right;\">\n",
       "      <th></th>\n",
       "      <th>CountyCode</th>\n",
       "      <th>CountyName</th>\n",
       "      <th>DistrictCode</th>\n",
       "      <th>DistrictName</th>\n",
       "      <th>SchoolCode</th>\n",
       "      <th>SchoolName</th>\n",
       "      <th>TeacherCount_School</th>\n",
       "      <th>TeacherCount_State</th>\n",
       "      <th>TeacherAvgYearsExp_School</th>\n",
       "      <th>TeacherAvgYearsExp_State</th>\n",
       "      <th>TeacherAvgYearsExpInDistrict_School</th>\n",
       "      <th>TeacherAvgYearsExpInDistrict_State</th>\n",
       "      <th>TeacherInDistrict4YearsOrMore_School</th>\n",
       "      <th>TeacherInDistrict4YearsOrMore_State</th>\n",
       "      <th>Year</th>\n",
       "    </tr>\n",
       "  </thead>\n",
       "  <tbody>\n",
       "    <tr>\n",
       "      <th>0</th>\n",
       "      <td>01</td>\n",
       "      <td>ATLANTIC</td>\n",
       "      <td>0010</td>\n",
       "      <td>ABSECON CITY</td>\n",
       "      <td>050</td>\n",
       "      <td>EMMA C ATTALES</td>\n",
       "      <td>29</td>\n",
       "      <td>117464</td>\n",
       "      <td>13.6</td>\n",
       "      <td>12.0</td>\n",
       "      <td>12.9</td>\n",
       "      <td>10.7</td>\n",
       "      <td>92.9</td>\n",
       "      <td>75.5</td>\n",
       "      <td>2017-18</td>\n",
       "    </tr>\n",
       "    <tr>\n",
       "      <th>1</th>\n",
       "      <td>01</td>\n",
       "      <td>ATLANTIC</td>\n",
       "      <td>0010</td>\n",
       "      <td>ABSECON CITY</td>\n",
       "      <td>060</td>\n",
       "      <td>H ASHTON MARSH</td>\n",
       "      <td>35</td>\n",
       "      <td>117464</td>\n",
       "      <td>16.1</td>\n",
       "      <td>12.0</td>\n",
       "      <td>15.6</td>\n",
       "      <td>10.7</td>\n",
       "      <td>94.1</td>\n",
       "      <td>75.5</td>\n",
       "      <td>2017-18</td>\n",
       "    </tr>\n",
       "    <tr>\n",
       "      <th>2</th>\n",
       "      <td>01</td>\n",
       "      <td>ATLANTIC</td>\n",
       "      <td>0110</td>\n",
       "      <td>ATLANTIC CITY</td>\n",
       "      <td>010</td>\n",
       "      <td>ATLANTIC CITY HIGH SCHOOL</td>\n",
       "      <td>152</td>\n",
       "      <td>117464</td>\n",
       "      <td>14.5</td>\n",
       "      <td>12.0</td>\n",
       "      <td>14.4</td>\n",
       "      <td>10.7</td>\n",
       "      <td>92.1</td>\n",
       "      <td>75.5</td>\n",
       "      <td>2017-18</td>\n",
       "    </tr>\n",
       "    <tr>\n",
       "      <th>3</th>\n",
       "      <td>01</td>\n",
       "      <td>ATLANTIC</td>\n",
       "      <td>0110</td>\n",
       "      <td>ATLANTIC CITY</td>\n",
       "      <td>030</td>\n",
       "      <td>SOVEREIGN AVENUE SCHOOL</td>\n",
       "      <td>70</td>\n",
       "      <td>117464</td>\n",
       "      <td>14.6</td>\n",
       "      <td>12.0</td>\n",
       "      <td>14.5</td>\n",
       "      <td>10.7</td>\n",
       "      <td>90.0</td>\n",
       "      <td>75.5</td>\n",
       "      <td>2017-18</td>\n",
       "    </tr>\n",
       "    <tr>\n",
       "      <th>4</th>\n",
       "      <td>01</td>\n",
       "      <td>ATLANTIC</td>\n",
       "      <td>0110</td>\n",
       "      <td>ATLANTIC CITY</td>\n",
       "      <td>050</td>\n",
       "      <td>CHELSEA HEIGHTS SCHOOL</td>\n",
       "      <td>34</td>\n",
       "      <td>117464</td>\n",
       "      <td>15.1</td>\n",
       "      <td>12.0</td>\n",
       "      <td>15.1</td>\n",
       "      <td>10.7</td>\n",
       "      <td>88.2</td>\n",
       "      <td>75.5</td>\n",
       "      <td>2017-18</td>\n",
       "    </tr>\n",
       "  </tbody>\n",
       "</table>\n",
       "</div>"
      ],
      "text/plain": [
       "  CountyCode CountyName DistrictCode   DistrictName SchoolCode  \\\n",
       "0         01   ATLANTIC         0010   ABSECON CITY        050   \n",
       "1         01   ATLANTIC         0010   ABSECON CITY        060   \n",
       "2         01   ATLANTIC         0110  ATLANTIC CITY        010   \n",
       "3         01   ATLANTIC         0110  ATLANTIC CITY        030   \n",
       "4         01   ATLANTIC         0110  ATLANTIC CITY        050   \n",
       "\n",
       "                  SchoolName  TeacherCount_School  TeacherCount_State  \\\n",
       "0             EMMA C ATTALES                   29              117464   \n",
       "1             H ASHTON MARSH                   35              117464   \n",
       "2  ATLANTIC CITY HIGH SCHOOL                  152              117464   \n",
       "3    SOVEREIGN AVENUE SCHOOL                   70              117464   \n",
       "4     CHELSEA HEIGHTS SCHOOL                   34              117464   \n",
       "\n",
       "   TeacherAvgYearsExp_School  TeacherAvgYearsExp_State  \\\n",
       "0                       13.6                      12.0   \n",
       "1                       16.1                      12.0   \n",
       "2                       14.5                      12.0   \n",
       "3                       14.6                      12.0   \n",
       "4                       15.1                      12.0   \n",
       "\n",
       "   TeacherAvgYearsExpInDistrict_School  TeacherAvgYearsExpInDistrict_State  \\\n",
       "0                                 12.9                                10.7   \n",
       "1                                 15.6                                10.7   \n",
       "2                                 14.4                                10.7   \n",
       "3                                 14.5                                10.7   \n",
       "4                                 15.1                                10.7   \n",
       "\n",
       "   TeacherInDistrict4YearsOrMore_School  TeacherInDistrict4YearsOrMore_State  \\\n",
       "0                                  92.9                                 75.5   \n",
       "1                                  94.1                                 75.5   \n",
       "2                                  92.1                                 75.5   \n",
       "3                                  90.0                                 75.5   \n",
       "4                                  88.2                                 75.5   \n",
       "\n",
       "      Year  \n",
       "0  2017-18  \n",
       "1  2017-18  \n",
       "2  2017-18  \n",
       "3  2017-18  \n",
       "4  2017-18  "
      ]
     },
     "execution_count": 11,
     "metadata": {},
     "output_type": "execute_result"
    }
   ],
   "source": [
    "df.head()"
   ]
  },
  {
   "cell_type": "code",
   "execution_count": 12,
   "metadata": {},
   "outputs": [],
   "source": [
    "#df1.to_csv(df1.csv)\n",
    "df.to_csv('TeachersExperienceCertification.csv', encoding='utf-8', index=False)"
   ]
  },
  {
   "cell_type": "code",
   "execution_count": null,
   "metadata": {},
   "outputs": [],
   "source": [
    "#x= df1.to_excel('output1.xlsx')  # doctest: +SKIP"
   ]
  }
 ],
 "metadata": {
  "kernelspec": {
   "display_name": "Python 3",
   "language": "python",
   "name": "python3"
  },
  "language_info": {
   "codemirror_mode": {
    "name": "ipython",
    "version": 3
   },
   "file_extension": ".py",
   "mimetype": "text/x-python",
   "name": "python",
   "nbconvert_exporter": "python",
   "pygments_lexer": "ipython3",
   "version": "3.7.3"
  }
 },
 "nbformat": 4,
 "nbformat_minor": 2
}
